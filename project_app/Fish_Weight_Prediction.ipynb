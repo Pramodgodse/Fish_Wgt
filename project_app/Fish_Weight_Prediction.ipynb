{
 "cells": [
  {
   "cell_type": "markdown",
   "id": "d4ea1fb6",
   "metadata": {},
   "source": [
    "## 1. Input Liberies"
   ]
  },
  {
   "cell_type": "code",
   "execution_count": 358,
   "id": "b37f56c6",
   "metadata": {},
   "outputs": [],
   "source": [
    "import pandas as pd\n",
    "import numpy as np\n",
    "\n",
    "from sklearn.linear_model import LinearRegression , Ridge, Lasso\n",
    "from sklearn.neighbors import KNeighborsRegressor\n",
    "from sklearn.tree import DecisionTreeRegressor, plot_tree\n",
    "from sklearn.ensemble import RandomForestRegressor\n",
    "\n",
    "from sklearn.model_selection import train_test_split, RandomizedSearchCV, GridSearchCV\n",
    "from sklearn.preprocessing import MinMaxScaler, StandardScaler\n",
    "\n",
    "from sklearn.metrics import mean_absolute_error, mean_squared_error, r2_score\n",
    "from sklearn.metrics import recall_score,f1_score,accuracy_score,precision_score\n",
    "from statsmodels.stats.outliers_influence import variance_inflation_factor\n",
    "\n",
    "from sklearn.preprocessing import OneHotEncoder,LabelEncoder\n",
    "\n",
    "import matplotlib.pyplot as plt\n",
    "import seaborn as sns\n",
    "\n",
    "from scipy.stats import shapiro , kstest, normaltest, skew\n",
    "\n",
    "import warnings\n",
    "warnings.filterwarnings('ignore')\n",
    "\n",
    "import pickle\n",
    "import json"
   ]
  },
  {
   "cell_type": "markdown",
   "id": "6b7d5878",
   "metadata": {},
   "source": [
    "## 2. Problem statement"
   ]
  },
  {
   "cell_type": "markdown",
   "id": "b6606459",
   "metadata": {},
   "source": [
    "To predict FISH WEIGHT by using - \n",
    "features = ['Species', 'Length1', 'Length2', 'Length3', 'Height',\n",
    "       'Width']\n",
    "       &\n",
    "Target = 'Weight'"
   ]
  },
  {
   "cell_type": "markdown",
   "id": "7646ae1f",
   "metadata": {},
   "source": [
    "## 3. Data Gathering"
   ]
  },
  {
   "cell_type": "code",
   "execution_count": 359,
   "id": "d2010bd4",
   "metadata": {},
   "outputs": [
    {
     "data": {
      "text/html": [
       "<div>\n",
       "<style scoped>\n",
       "    .dataframe tbody tr th:only-of-type {\n",
       "        vertical-align: middle;\n",
       "    }\n",
       "\n",
       "    .dataframe tbody tr th {\n",
       "        vertical-align: top;\n",
       "    }\n",
       "\n",
       "    .dataframe thead th {\n",
       "        text-align: right;\n",
       "    }\n",
       "</style>\n",
       "<table border=\"1\" class=\"dataframe\">\n",
       "  <thead>\n",
       "    <tr style=\"text-align: right;\">\n",
       "      <th></th>\n",
       "      <th>Species</th>\n",
       "      <th>Weight</th>\n",
       "      <th>Length1</th>\n",
       "      <th>Length2</th>\n",
       "      <th>Length3</th>\n",
       "      <th>Height</th>\n",
       "      <th>Width</th>\n",
       "    </tr>\n",
       "  </thead>\n",
       "  <tbody>\n",
       "    <tr>\n",
       "      <th>0</th>\n",
       "      <td>Bream</td>\n",
       "      <td>242.0</td>\n",
       "      <td>23.2</td>\n",
       "      <td>25.4</td>\n",
       "      <td>30.0</td>\n",
       "      <td>11.5200</td>\n",
       "      <td>4.0200</td>\n",
       "    </tr>\n",
       "    <tr>\n",
       "      <th>1</th>\n",
       "      <td>Bream</td>\n",
       "      <td>290.0</td>\n",
       "      <td>24.0</td>\n",
       "      <td>26.3</td>\n",
       "      <td>31.2</td>\n",
       "      <td>12.4800</td>\n",
       "      <td>4.3056</td>\n",
       "    </tr>\n",
       "    <tr>\n",
       "      <th>2</th>\n",
       "      <td>Bream</td>\n",
       "      <td>340.0</td>\n",
       "      <td>23.9</td>\n",
       "      <td>26.5</td>\n",
       "      <td>31.1</td>\n",
       "      <td>12.3778</td>\n",
       "      <td>4.6961</td>\n",
       "    </tr>\n",
       "    <tr>\n",
       "      <th>3</th>\n",
       "      <td>Bream</td>\n",
       "      <td>363.0</td>\n",
       "      <td>26.3</td>\n",
       "      <td>29.0</td>\n",
       "      <td>33.5</td>\n",
       "      <td>12.7300</td>\n",
       "      <td>4.4555</td>\n",
       "    </tr>\n",
       "    <tr>\n",
       "      <th>4</th>\n",
       "      <td>Bream</td>\n",
       "      <td>430.0</td>\n",
       "      <td>26.5</td>\n",
       "      <td>29.0</td>\n",
       "      <td>34.0</td>\n",
       "      <td>12.4440</td>\n",
       "      <td>5.1340</td>\n",
       "    </tr>\n",
       "  </tbody>\n",
       "</table>\n",
       "</div>"
      ],
      "text/plain": [
       "  Species  Weight  Length1  Length2  Length3   Height   Width\n",
       "0   Bream   242.0     23.2     25.4     30.0  11.5200  4.0200\n",
       "1   Bream   290.0     24.0     26.3     31.2  12.4800  4.3056\n",
       "2   Bream   340.0     23.9     26.5     31.1  12.3778  4.6961\n",
       "3   Bream   363.0     26.3     29.0     33.5  12.7300  4.4555\n",
       "4   Bream   430.0     26.5     29.0     34.0  12.4440  5.1340"
      ]
     },
     "execution_count": 359,
     "metadata": {},
     "output_type": "execute_result"
    }
   ],
   "source": [
    "raw_df = pd.read_csv(\"Fish.csv\")\n",
    "raw_df.head()"
   ]
  },
  {
   "cell_type": "markdown",
   "id": "77980d12",
   "metadata": {},
   "source": [
    "## 4,5,6  EDA (Exploratory Data Analysis), Feature Enginnering & Feature selection"
   ]
  },
  {
   "cell_type": "code",
   "execution_count": 360,
   "id": "c108fb53",
   "metadata": {},
   "outputs": [
    {
     "data": {
      "text/plain": [
       "Species    0\n",
       "Weight     0\n",
       "Length1    0\n",
       "Length2    0\n",
       "Length3    0\n",
       "Height     0\n",
       "Width      0\n",
       "dtype: int64"
      ]
     },
     "execution_count": 360,
     "metadata": {},
     "output_type": "execute_result"
    }
   ],
   "source": [
    "raw_df.isna().sum()  # checked if there are Null or missing values "
   ]
  },
  {
   "cell_type": "code",
   "execution_count": 361,
   "id": "3f2d7686",
   "metadata": {},
   "outputs": [
    {
     "name": "stdout",
     "output_type": "stream",
     "text": [
      "<class 'pandas.core.frame.DataFrame'>\n",
      "RangeIndex: 159 entries, 0 to 158\n",
      "Data columns (total 7 columns):\n",
      " #   Column   Non-Null Count  Dtype  \n",
      "---  ------   --------------  -----  \n",
      " 0   Species  159 non-null    object \n",
      " 1   Weight   159 non-null    float64\n",
      " 2   Length1  159 non-null    float64\n",
      " 3   Length2  159 non-null    float64\n",
      " 4   Length3  159 non-null    float64\n",
      " 5   Height   159 non-null    float64\n",
      " 6   Width    159 non-null    float64\n",
      "dtypes: float64(6), object(1)\n",
      "memory usage: 8.8+ KB\n"
     ]
    }
   ],
   "source": [
    "raw_df.info()  # checked if any null value is represented by any symbol and what is data type of each column"
   ]
  },
  {
   "cell_type": "code",
   "execution_count": 362,
   "id": "a7e771e8",
   "metadata": {},
   "outputs": [
    {
     "data": {
      "text/html": [
       "<div>\n",
       "<style scoped>\n",
       "    .dataframe tbody tr th:only-of-type {\n",
       "        vertical-align: middle;\n",
       "    }\n",
       "\n",
       "    .dataframe tbody tr th {\n",
       "        vertical-align: top;\n",
       "    }\n",
       "\n",
       "    .dataframe thead th {\n",
       "        text-align: right;\n",
       "    }\n",
       "</style>\n",
       "<table border=\"1\" class=\"dataframe\">\n",
       "  <thead>\n",
       "    <tr style=\"text-align: right;\">\n",
       "      <th></th>\n",
       "      <th>Weight</th>\n",
       "      <th>Length1</th>\n",
       "      <th>Length2</th>\n",
       "      <th>Length3</th>\n",
       "      <th>Height</th>\n",
       "      <th>Width</th>\n",
       "      <th>Species_Bream</th>\n",
       "      <th>Species_Parkki</th>\n",
       "      <th>Species_Perch</th>\n",
       "      <th>Species_Pike</th>\n",
       "      <th>Species_Roach</th>\n",
       "      <th>Species_Smelt</th>\n",
       "      <th>Species_Whitefish</th>\n",
       "    </tr>\n",
       "  </thead>\n",
       "  <tbody>\n",
       "    <tr>\n",
       "      <th>0</th>\n",
       "      <td>242.0</td>\n",
       "      <td>23.2</td>\n",
       "      <td>25.4</td>\n",
       "      <td>30.0</td>\n",
       "      <td>11.5200</td>\n",
       "      <td>4.0200</td>\n",
       "      <td>1</td>\n",
       "      <td>0</td>\n",
       "      <td>0</td>\n",
       "      <td>0</td>\n",
       "      <td>0</td>\n",
       "      <td>0</td>\n",
       "      <td>0</td>\n",
       "    </tr>\n",
       "    <tr>\n",
       "      <th>1</th>\n",
       "      <td>290.0</td>\n",
       "      <td>24.0</td>\n",
       "      <td>26.3</td>\n",
       "      <td>31.2</td>\n",
       "      <td>12.4800</td>\n",
       "      <td>4.3056</td>\n",
       "      <td>1</td>\n",
       "      <td>0</td>\n",
       "      <td>0</td>\n",
       "      <td>0</td>\n",
       "      <td>0</td>\n",
       "      <td>0</td>\n",
       "      <td>0</td>\n",
       "    </tr>\n",
       "    <tr>\n",
       "      <th>2</th>\n",
       "      <td>340.0</td>\n",
       "      <td>23.9</td>\n",
       "      <td>26.5</td>\n",
       "      <td>31.1</td>\n",
       "      <td>12.3778</td>\n",
       "      <td>4.6961</td>\n",
       "      <td>1</td>\n",
       "      <td>0</td>\n",
       "      <td>0</td>\n",
       "      <td>0</td>\n",
       "      <td>0</td>\n",
       "      <td>0</td>\n",
       "      <td>0</td>\n",
       "    </tr>\n",
       "    <tr>\n",
       "      <th>3</th>\n",
       "      <td>363.0</td>\n",
       "      <td>26.3</td>\n",
       "      <td>29.0</td>\n",
       "      <td>33.5</td>\n",
       "      <td>12.7300</td>\n",
       "      <td>4.4555</td>\n",
       "      <td>1</td>\n",
       "      <td>0</td>\n",
       "      <td>0</td>\n",
       "      <td>0</td>\n",
       "      <td>0</td>\n",
       "      <td>0</td>\n",
       "      <td>0</td>\n",
       "    </tr>\n",
       "    <tr>\n",
       "      <th>4</th>\n",
       "      <td>430.0</td>\n",
       "      <td>26.5</td>\n",
       "      <td>29.0</td>\n",
       "      <td>34.0</td>\n",
       "      <td>12.4440</td>\n",
       "      <td>5.1340</td>\n",
       "      <td>1</td>\n",
       "      <td>0</td>\n",
       "      <td>0</td>\n",
       "      <td>0</td>\n",
       "      <td>0</td>\n",
       "      <td>0</td>\n",
       "      <td>0</td>\n",
       "    </tr>\n",
       "    <tr>\n",
       "      <th>...</th>\n",
       "      <td>...</td>\n",
       "      <td>...</td>\n",
       "      <td>...</td>\n",
       "      <td>...</td>\n",
       "      <td>...</td>\n",
       "      <td>...</td>\n",
       "      <td>...</td>\n",
       "      <td>...</td>\n",
       "      <td>...</td>\n",
       "      <td>...</td>\n",
       "      <td>...</td>\n",
       "      <td>...</td>\n",
       "      <td>...</td>\n",
       "    </tr>\n",
       "    <tr>\n",
       "      <th>154</th>\n",
       "      <td>12.2</td>\n",
       "      <td>11.5</td>\n",
       "      <td>12.2</td>\n",
       "      <td>13.4</td>\n",
       "      <td>2.0904</td>\n",
       "      <td>1.3936</td>\n",
       "      <td>0</td>\n",
       "      <td>0</td>\n",
       "      <td>0</td>\n",
       "      <td>0</td>\n",
       "      <td>0</td>\n",
       "      <td>1</td>\n",
       "      <td>0</td>\n",
       "    </tr>\n",
       "    <tr>\n",
       "      <th>155</th>\n",
       "      <td>13.4</td>\n",
       "      <td>11.7</td>\n",
       "      <td>12.4</td>\n",
       "      <td>13.5</td>\n",
       "      <td>2.4300</td>\n",
       "      <td>1.2690</td>\n",
       "      <td>0</td>\n",
       "      <td>0</td>\n",
       "      <td>0</td>\n",
       "      <td>0</td>\n",
       "      <td>0</td>\n",
       "      <td>1</td>\n",
       "      <td>0</td>\n",
       "    </tr>\n",
       "    <tr>\n",
       "      <th>156</th>\n",
       "      <td>12.2</td>\n",
       "      <td>12.1</td>\n",
       "      <td>13.0</td>\n",
       "      <td>13.8</td>\n",
       "      <td>2.2770</td>\n",
       "      <td>1.2558</td>\n",
       "      <td>0</td>\n",
       "      <td>0</td>\n",
       "      <td>0</td>\n",
       "      <td>0</td>\n",
       "      <td>0</td>\n",
       "      <td>1</td>\n",
       "      <td>0</td>\n",
       "    </tr>\n",
       "    <tr>\n",
       "      <th>157</th>\n",
       "      <td>19.7</td>\n",
       "      <td>13.2</td>\n",
       "      <td>14.3</td>\n",
       "      <td>15.2</td>\n",
       "      <td>2.8728</td>\n",
       "      <td>2.0672</td>\n",
       "      <td>0</td>\n",
       "      <td>0</td>\n",
       "      <td>0</td>\n",
       "      <td>0</td>\n",
       "      <td>0</td>\n",
       "      <td>1</td>\n",
       "      <td>0</td>\n",
       "    </tr>\n",
       "    <tr>\n",
       "      <th>158</th>\n",
       "      <td>19.9</td>\n",
       "      <td>13.8</td>\n",
       "      <td>15.0</td>\n",
       "      <td>16.2</td>\n",
       "      <td>2.9322</td>\n",
       "      <td>1.8792</td>\n",
       "      <td>0</td>\n",
       "      <td>0</td>\n",
       "      <td>0</td>\n",
       "      <td>0</td>\n",
       "      <td>0</td>\n",
       "      <td>1</td>\n",
       "      <td>0</td>\n",
       "    </tr>\n",
       "  </tbody>\n",
       "</table>\n",
       "<p>159 rows × 13 columns</p>\n",
       "</div>"
      ],
      "text/plain": [
       "     Weight  Length1  Length2  Length3   Height   Width  Species_Bream  \\\n",
       "0     242.0     23.2     25.4     30.0  11.5200  4.0200              1   \n",
       "1     290.0     24.0     26.3     31.2  12.4800  4.3056              1   \n",
       "2     340.0     23.9     26.5     31.1  12.3778  4.6961              1   \n",
       "3     363.0     26.3     29.0     33.5  12.7300  4.4555              1   \n",
       "4     430.0     26.5     29.0     34.0  12.4440  5.1340              1   \n",
       "..      ...      ...      ...      ...      ...     ...            ...   \n",
       "154    12.2     11.5     12.2     13.4   2.0904  1.3936              0   \n",
       "155    13.4     11.7     12.4     13.5   2.4300  1.2690              0   \n",
       "156    12.2     12.1     13.0     13.8   2.2770  1.2558              0   \n",
       "157    19.7     13.2     14.3     15.2   2.8728  2.0672              0   \n",
       "158    19.9     13.8     15.0     16.2   2.9322  1.8792              0   \n",
       "\n",
       "     Species_Parkki  Species_Perch  Species_Pike  Species_Roach  \\\n",
       "0                 0              0             0              0   \n",
       "1                 0              0             0              0   \n",
       "2                 0              0             0              0   \n",
       "3                 0              0             0              0   \n",
       "4                 0              0             0              0   \n",
       "..              ...            ...           ...            ...   \n",
       "154               0              0             0              0   \n",
       "155               0              0             0              0   \n",
       "156               0              0             0              0   \n",
       "157               0              0             0              0   \n",
       "158               0              0             0              0   \n",
       "\n",
       "     Species_Smelt  Species_Whitefish  \n",
       "0                0                  0  \n",
       "1                0                  0  \n",
       "2                0                  0  \n",
       "3                0                  0  \n",
       "4                0                  0  \n",
       "..             ...                ...  \n",
       "154              1                  0  \n",
       "155              1                  0  \n",
       "156              1                  0  \n",
       "157              1                  0  \n",
       "158              1                  0  \n",
       "\n",
       "[159 rows x 13 columns]"
      ]
     },
     "execution_count": 362,
     "metadata": {},
     "output_type": "execute_result"
    }
   ],
   "source": [
    "raw_df['Species'].unique().tolist()\n",
    "\n",
    "raw_df = pd.get_dummies(raw_df, columns=['Species'])\n",
    "raw_df"
   ]
  },
  {
   "cell_type": "markdown",
   "id": "14de8550",
   "metadata": {},
   "source": [
    "### 1. Linearity"
   ]
  },
  {
   "cell_type": "code",
   "execution_count": 363,
   "id": "7f766969",
   "metadata": {},
   "outputs": [
    {
     "data": {
      "text/html": [
       "<div>\n",
       "<style scoped>\n",
       "    .dataframe tbody tr th:only-of-type {\n",
       "        vertical-align: middle;\n",
       "    }\n",
       "\n",
       "    .dataframe tbody tr th {\n",
       "        vertical-align: top;\n",
       "    }\n",
       "\n",
       "    .dataframe thead th {\n",
       "        text-align: right;\n",
       "    }\n",
       "</style>\n",
       "<table border=\"1\" class=\"dataframe\">\n",
       "  <thead>\n",
       "    <tr style=\"text-align: right;\">\n",
       "      <th></th>\n",
       "      <th>Weight</th>\n",
       "      <th>Length1</th>\n",
       "      <th>Length2</th>\n",
       "      <th>Length3</th>\n",
       "      <th>Height</th>\n",
       "      <th>Width</th>\n",
       "      <th>Species_Bream</th>\n",
       "      <th>Species_Parkki</th>\n",
       "      <th>Species_Perch</th>\n",
       "      <th>Species_Pike</th>\n",
       "      <th>Species_Roach</th>\n",
       "      <th>Species_Smelt</th>\n",
       "      <th>Species_Whitefish</th>\n",
       "    </tr>\n",
       "  </thead>\n",
       "  <tbody>\n",
       "    <tr>\n",
       "      <th>Weight</th>\n",
       "      <td>1.000000</td>\n",
       "      <td>0.915712</td>\n",
       "      <td>0.918618</td>\n",
       "      <td>0.923044</td>\n",
       "      <td>0.724345</td>\n",
       "      <td>0.886507</td>\n",
       "      <td>0.326795</td>\n",
       "      <td>-0.186034</td>\n",
       "      <td>-0.033240</td>\n",
       "      <td>0.310641</td>\n",
       "      <td>-0.261784</td>\n",
       "      <td>-0.337109</td>\n",
       "      <td>0.073625</td>\n",
       "    </tr>\n",
       "    <tr>\n",
       "      <th>Length1</th>\n",
       "      <td>0.915712</td>\n",
       "      <td>1.000000</td>\n",
       "      <td>0.999517</td>\n",
       "      <td>0.992031</td>\n",
       "      <td>0.625378</td>\n",
       "      <td>0.867050</td>\n",
       "      <td>0.216380</td>\n",
       "      <td>-0.205732</td>\n",
       "      <td>-0.037845</td>\n",
       "      <td>0.563514</td>\n",
       "      <td>-0.213250</td>\n",
       "      <td>-0.467420</td>\n",
       "      <td>0.050731</td>\n",
       "    </tr>\n",
       "    <tr>\n",
       "      <th>Length2</th>\n",
       "      <td>0.918618</td>\n",
       "      <td>0.999517</td>\n",
       "      <td>1.000000</td>\n",
       "      <td>0.994103</td>\n",
       "      <td>0.640441</td>\n",
       "      <td>0.873547</td>\n",
       "      <td>0.233391</td>\n",
       "      <td>-0.205957</td>\n",
       "      <td>-0.036090</td>\n",
       "      <td>0.552780</td>\n",
       "      <td>-0.218048</td>\n",
       "      <td>-0.479775</td>\n",
       "      <td>0.053777</td>\n",
       "    </tr>\n",
       "    <tr>\n",
       "      <th>Length3</th>\n",
       "      <td>0.923044</td>\n",
       "      <td>0.992031</td>\n",
       "      <td>0.994103</td>\n",
       "      <td>1.000000</td>\n",
       "      <td>0.703409</td>\n",
       "      <td>0.878520</td>\n",
       "      <td>0.327170</td>\n",
       "      <td>-0.198718</td>\n",
       "      <td>-0.105478</td>\n",
       "      <td>0.522894</td>\n",
       "      <td>-0.205072</td>\n",
       "      <td>-0.488397</td>\n",
       "      <td>0.052864</td>\n",
       "    </tr>\n",
       "    <tr>\n",
       "      <th>Height</th>\n",
       "      <td>0.724345</td>\n",
       "      <td>0.625378</td>\n",
       "      <td>0.640441</td>\n",
       "      <td>0.703409</td>\n",
       "      <td>1.000000</td>\n",
       "      <td>0.792881</td>\n",
       "      <td>0.772443</td>\n",
       "      <td>-0.000547</td>\n",
       "      <td>-0.191405</td>\n",
       "      <td>-0.101810</td>\n",
       "      <td>-0.202076</td>\n",
       "      <td>-0.491731</td>\n",
       "      <td>0.048951</td>\n",
       "    </tr>\n",
       "    <tr>\n",
       "      <th>Width</th>\n",
       "      <td>0.886507</td>\n",
       "      <td>0.867050</td>\n",
       "      <td>0.873547</td>\n",
       "      <td>0.878520</td>\n",
       "      <td>0.792881</td>\n",
       "      <td>1.000000</td>\n",
       "      <td>0.319347</td>\n",
       "      <td>-0.194147</td>\n",
       "      <td>0.144021</td>\n",
       "      <td>0.137722</td>\n",
       "      <td>-0.171465</td>\n",
       "      <td>-0.569018</td>\n",
       "      <td>0.124388</td>\n",
       "    </tr>\n",
       "    <tr>\n",
       "      <th>Species_Bream</th>\n",
       "      <td>0.326795</td>\n",
       "      <td>0.216380</td>\n",
       "      <td>0.233391</td>\n",
       "      <td>0.327170</td>\n",
       "      <td>0.772443</td>\n",
       "      <td>0.319347</td>\n",
       "      <td>1.000000</td>\n",
       "      <td>-0.144840</td>\n",
       "      <td>-0.391741</td>\n",
       "      <td>-0.183825</td>\n",
       "      <td>-0.201526</td>\n",
       "      <td>-0.165083</td>\n",
       "      <td>-0.105209</td>\n",
       "    </tr>\n",
       "    <tr>\n",
       "      <th>Species_Parkki</th>\n",
       "      <td>-0.186034</td>\n",
       "      <td>-0.205732</td>\n",
       "      <td>-0.205957</td>\n",
       "      <td>-0.198718</td>\n",
       "      <td>-0.000547</td>\n",
       "      <td>-0.194147</td>\n",
       "      <td>-0.144840</td>\n",
       "      <td>1.000000</td>\n",
       "      <td>-0.201021</td>\n",
       "      <td>-0.094329</td>\n",
       "      <td>-0.103413</td>\n",
       "      <td>-0.084712</td>\n",
       "      <td>-0.053988</td>\n",
       "    </tr>\n",
       "    <tr>\n",
       "      <th>Species_Perch</th>\n",
       "      <td>-0.033240</td>\n",
       "      <td>-0.037845</td>\n",
       "      <td>-0.036090</td>\n",
       "      <td>-0.105478</td>\n",
       "      <td>-0.191405</td>\n",
       "      <td>0.144021</td>\n",
       "      <td>-0.391741</td>\n",
       "      <td>-0.201021</td>\n",
       "      <td>1.000000</td>\n",
       "      <td>-0.255127</td>\n",
       "      <td>-0.279694</td>\n",
       "      <td>-0.229116</td>\n",
       "      <td>-0.146018</td>\n",
       "    </tr>\n",
       "    <tr>\n",
       "      <th>Species_Pike</th>\n",
       "      <td>0.310641</td>\n",
       "      <td>0.563514</td>\n",
       "      <td>0.552780</td>\n",
       "      <td>0.522894</td>\n",
       "      <td>-0.101810</td>\n",
       "      <td>0.137722</td>\n",
       "      <td>-0.183825</td>\n",
       "      <td>-0.094329</td>\n",
       "      <td>-0.255127</td>\n",
       "      <td>1.000000</td>\n",
       "      <td>-0.131247</td>\n",
       "      <td>-0.107513</td>\n",
       "      <td>-0.068519</td>\n",
       "    </tr>\n",
       "    <tr>\n",
       "      <th>Species_Roach</th>\n",
       "      <td>-0.261784</td>\n",
       "      <td>-0.213250</td>\n",
       "      <td>-0.218048</td>\n",
       "      <td>-0.205072</td>\n",
       "      <td>-0.202076</td>\n",
       "      <td>-0.171465</td>\n",
       "      <td>-0.201526</td>\n",
       "      <td>-0.103413</td>\n",
       "      <td>-0.279694</td>\n",
       "      <td>-0.131247</td>\n",
       "      <td>1.000000</td>\n",
       "      <td>-0.117866</td>\n",
       "      <td>-0.075117</td>\n",
       "    </tr>\n",
       "    <tr>\n",
       "      <th>Species_Smelt</th>\n",
       "      <td>-0.337109</td>\n",
       "      <td>-0.467420</td>\n",
       "      <td>-0.479775</td>\n",
       "      <td>-0.488397</td>\n",
       "      <td>-0.491731</td>\n",
       "      <td>-0.569018</td>\n",
       "      <td>-0.165083</td>\n",
       "      <td>-0.084712</td>\n",
       "      <td>-0.229116</td>\n",
       "      <td>-0.107513</td>\n",
       "      <td>-0.117866</td>\n",
       "      <td>1.000000</td>\n",
       "      <td>-0.061533</td>\n",
       "    </tr>\n",
       "    <tr>\n",
       "      <th>Species_Whitefish</th>\n",
       "      <td>0.073625</td>\n",
       "      <td>0.050731</td>\n",
       "      <td>0.053777</td>\n",
       "      <td>0.052864</td>\n",
       "      <td>0.048951</td>\n",
       "      <td>0.124388</td>\n",
       "      <td>-0.105209</td>\n",
       "      <td>-0.053988</td>\n",
       "      <td>-0.146018</td>\n",
       "      <td>-0.068519</td>\n",
       "      <td>-0.075117</td>\n",
       "      <td>-0.061533</td>\n",
       "      <td>1.000000</td>\n",
       "    </tr>\n",
       "  </tbody>\n",
       "</table>\n",
       "</div>"
      ],
      "text/plain": [
       "                     Weight   Length1   Length2   Length3    Height     Width  \\\n",
       "Weight             1.000000  0.915712  0.918618  0.923044  0.724345  0.886507   \n",
       "Length1            0.915712  1.000000  0.999517  0.992031  0.625378  0.867050   \n",
       "Length2            0.918618  0.999517  1.000000  0.994103  0.640441  0.873547   \n",
       "Length3            0.923044  0.992031  0.994103  1.000000  0.703409  0.878520   \n",
       "Height             0.724345  0.625378  0.640441  0.703409  1.000000  0.792881   \n",
       "Width              0.886507  0.867050  0.873547  0.878520  0.792881  1.000000   \n",
       "Species_Bream      0.326795  0.216380  0.233391  0.327170  0.772443  0.319347   \n",
       "Species_Parkki    -0.186034 -0.205732 -0.205957 -0.198718 -0.000547 -0.194147   \n",
       "Species_Perch     -0.033240 -0.037845 -0.036090 -0.105478 -0.191405  0.144021   \n",
       "Species_Pike       0.310641  0.563514  0.552780  0.522894 -0.101810  0.137722   \n",
       "Species_Roach     -0.261784 -0.213250 -0.218048 -0.205072 -0.202076 -0.171465   \n",
       "Species_Smelt     -0.337109 -0.467420 -0.479775 -0.488397 -0.491731 -0.569018   \n",
       "Species_Whitefish  0.073625  0.050731  0.053777  0.052864  0.048951  0.124388   \n",
       "\n",
       "                   Species_Bream  Species_Parkki  Species_Perch  Species_Pike  \\\n",
       "Weight                  0.326795       -0.186034      -0.033240      0.310641   \n",
       "Length1                 0.216380       -0.205732      -0.037845      0.563514   \n",
       "Length2                 0.233391       -0.205957      -0.036090      0.552780   \n",
       "Length3                 0.327170       -0.198718      -0.105478      0.522894   \n",
       "Height                  0.772443       -0.000547      -0.191405     -0.101810   \n",
       "Width                   0.319347       -0.194147       0.144021      0.137722   \n",
       "Species_Bream           1.000000       -0.144840      -0.391741     -0.183825   \n",
       "Species_Parkki         -0.144840        1.000000      -0.201021     -0.094329   \n",
       "Species_Perch          -0.391741       -0.201021       1.000000     -0.255127   \n",
       "Species_Pike           -0.183825       -0.094329      -0.255127      1.000000   \n",
       "Species_Roach          -0.201526       -0.103413      -0.279694     -0.131247   \n",
       "Species_Smelt          -0.165083       -0.084712      -0.229116     -0.107513   \n",
       "Species_Whitefish      -0.105209       -0.053988      -0.146018     -0.068519   \n",
       "\n",
       "                   Species_Roach  Species_Smelt  Species_Whitefish  \n",
       "Weight                 -0.261784      -0.337109           0.073625  \n",
       "Length1                -0.213250      -0.467420           0.050731  \n",
       "Length2                -0.218048      -0.479775           0.053777  \n",
       "Length3                -0.205072      -0.488397           0.052864  \n",
       "Height                 -0.202076      -0.491731           0.048951  \n",
       "Width                  -0.171465      -0.569018           0.124388  \n",
       "Species_Bream          -0.201526      -0.165083          -0.105209  \n",
       "Species_Parkki         -0.103413      -0.084712          -0.053988  \n",
       "Species_Perch          -0.279694      -0.229116          -0.146018  \n",
       "Species_Pike           -0.131247      -0.107513          -0.068519  \n",
       "Species_Roach           1.000000      -0.117866          -0.075117  \n",
       "Species_Smelt          -0.117866       1.000000          -0.061533  \n",
       "Species_Whitefish      -0.075117      -0.061533           1.000000  "
      ]
     },
     "execution_count": 363,
     "metadata": {},
     "output_type": "execute_result"
    }
   ],
   "source": [
    "raw_df.corr()"
   ]
  },
  {
   "cell_type": "code",
   "execution_count": 364,
   "id": "23b3b734",
   "metadata": {},
   "outputs": [
    {
     "data": {
      "text/plain": [
       "<AxesSubplot:>"
      ]
     },
     "execution_count": 364,
     "metadata": {},
     "output_type": "execute_result"
    },
    {
     "data": {
      "image/png": "[encoded data removed]",
      "text/plain": [
       "<Figure size 1080x576 with 2 Axes>"
      ]
     },
     "metadata": {
      "needs_background": "light"
     },
     "output_type": "display_data"
    }
   ],
   "source": [
    "plt.figure(figsize=(15,8))\n",
    "sns.heatmap(raw_df.corr(),annot = True, cmap = 'rainbow')\n"
   ]
  },
  {
   "cell_type": "markdown",
   "id": "abeac24f",
   "metadata": {},
   "source": [
    "### 2. MultiColinearity"
   ]
  },
  {
   "cell_type": "code",
   "execution_count": 365,
   "id": "45cbb666",
   "metadata": {},
   "outputs": [
    {
     "data": {
      "text/plain": [
       "Index(['Weight', 'Length1', 'Length2', 'Length3', 'Height', 'Width',\n",
       "       'Species_Bream', 'Species_Parkki', 'Species_Perch', 'Species_Pike',\n",
       "       'Species_Roach', 'Species_Smelt', 'Species_Whitefish'],\n",
       "      dtype='object')"
      ]
     },
     "execution_count": 365,
     "metadata": {},
     "output_type": "execute_result"
    }
   ],
   "source": [
    "raw_df.columns"
   ]
  },
  {
   "cell_type": "code",
   "execution_count": 366,
   "id": "3480e720",
   "metadata": {},
   "outputs": [
    {
     "data": {
      "text/plain": [
       "array([[242. ,  23.2,  25.4, ...,   0. ,   0. ,   0. ],\n",
       "       [290. ,  24. ,  26.3, ...,   0. ,   0. ,   0. ],\n",
       "       [340. ,  23.9,  26.5, ...,   0. ,   0. ,   0. ],\n",
       "       ...,\n",
       "       [ 12.2,  12.1,  13. , ...,   0. ,   1. ,   0. ],\n",
       "       [ 19.7,  13.2,  14.3, ...,   0. ,   1. ,   0. ],\n",
       "       [ 19.9,  13.8,  15. , ...,   0. ,   1. ,   0. ]])"
      ]
     },
     "execution_count": 366,
     "metadata": {},
     "output_type": "execute_result"
    }
   ],
   "source": [
    "raw_df.to_numpy()"
   ]
  },
  {
   "cell_type": "code",
   "execution_count": 367,
   "id": "9711670a",
   "metadata": {},
   "outputs": [
    {
     "data": {
      "text/plain": [
       "<AxesSubplot:>"
      ]
     },
     "execution_count": 367,
     "metadata": {},
     "output_type": "execute_result"
    },
    {
     "data": {
      "image/png": "[encoded data removed]",
      "text/plain": [
       "<Figure size 432x288 with 1 Axes>"
      ]
     },
     "metadata": {
      "needs_background": "light"
     },
     "output_type": "display_data"
    }
   ],
   "source": [
    "vif_list = []\n",
    "for i in range(raw_df.shape[1]):\n",
    "    vif = variance_inflation_factor(raw_df.to_numpy(),i)\n",
    "    vif_list.append(vif)\n",
    "        \n",
    "s1 = pd.Series(vif_list, index =raw_df.columns)     # converted into series\n",
    "s1.sort_values().plot(kind = 'barh')"
   ]
  },
  {
   "cell_type": "markdown",
   "id": "532e26f0",
   "metadata": {},
   "source": [
    "## Train test split"
   ]
  },
  {
   "cell_type": "code",
   "execution_count": 368,
   "id": "15796f79",
   "metadata": {},
   "outputs": [
    {
     "name": "stdout",
     "output_type": "stream",
     "text": [
      "(127, 12)\n",
      "(32, 12)\n"
     ]
    }
   ],
   "source": [
    "x = raw_df.drop('Weight', axis = 1)\n",
    "y = raw_df['Weight']\n",
    "\n",
    "x_train, x_test, y_train, y_test = train_test_split(x,y, test_size = 0.2, random_state = 20)\n",
    "\n",
    "print(x_train.shape)\n",
    "print(x_test.shape)"
   ]
  },
  {
   "cell_type": "markdown",
   "id": "7e556a83",
   "metadata": {},
   "source": [
    "# Model Training"
   ]
  },
  {
   "cell_type": "markdown",
   "id": "1676afdb",
   "metadata": {},
   "source": [
    "## 1] Linear Regression algorithm"
   ]
  },
  {
   "cell_type": "code",
   "execution_count": 369,
   "id": "4f7a66d8",
   "metadata": {},
   "outputs": [
    {
     "data": {
      "text/html": [
       "<style>#sk-container-id-24 {color: black;background-color: white;}#sk-container-id-24 pre{padding: 0;}#sk-container-id-24 div.sk-toggleable {background-color: white;}#sk-container-id-24 label.sk-toggleable__label {cursor: pointer;display: block;width: 100%;margin-bottom: 0;padding: 0.3em;box-sizing: border-box;text-align: center;}#sk-container-id-24 label.sk-toggleable__label-arrow:before {content: \"▸\";float: left;margin-right: 0.25em;color: #696969;}#sk-container-id-24 label.sk-toggleable__label-arrow:hover:before {color: black;}#sk-container-id-24 div.sk-estimator:hover label.sk-toggleable__label-arrow:before {color: black;}#sk-container-id-24 div.sk-toggleable__content {max-height: 0;max-width: 0;overflow: hidden;text-align: left;background-color: #f0f8ff;}#sk-container-id-24 div.sk-toggleable__content pre {margin: 0.2em;color: black;border-radius: 0.25em;background-color: #f0f8ff;}#sk-container-id-24 input.sk-toggleable__control:checked~div.sk-toggleable__content {max-height: 200px;max-width: 100%;overflow: auto;}#sk-container-id-24 input.sk-toggleable__control:checked~label.sk-toggleable__label-arrow:before {content: \"▾\";}#sk-container-id-24 div.sk-estimator input.sk-toggleable__control:checked~label.sk-toggleable__label {background-color: #d4ebff;}#sk-container-id-24 div.sk-label input.sk-toggleable__control:checked~label.sk-toggleable__label {background-color: #d4ebff;}#sk-container-id-24 input.sk-hidden--visually {border: 0;clip: rect(1px 1px 1px 1px);clip: rect(1px, 1px, 1px, 1px);height: 1px;margin: -1px;overflow: hidden;padding: 0;position: absolute;width: 1px;}#sk-container-id-24 div.sk-estimator {font-family: monospace;background-color: #f0f8ff;border: 1px dotted black;border-radius: 0.25em;box-sizing: border-box;margin-bottom: 0.5em;}#sk-container-id-24 div.sk-estimator:hover {background-color: #d4ebff;}#sk-container-id-24 div.sk-parallel-item::after {content: \"\";width: 100%;border-bottom: 1px solid gray;flex-grow: 1;}#sk-container-id-24 div.sk-label:hover label.sk-toggleable__label {background-color: #d4ebff;}#sk-container-id-24 div.sk-serial::before {content: \"\";position: absolute;border-left: 1px solid gray;box-sizing: border-box;top: 0;bottom: 0;left: 50%;z-index: 0;}#sk-container-id-24 div.sk-serial {display: flex;flex-direction: column;align-items: center;background-color: white;padding-right: 0.2em;padding-left: 0.2em;position: relative;}#sk-container-id-24 div.sk-item {position: relative;z-index: 1;}#sk-container-id-24 div.sk-parallel {display: flex;align-items: stretch;justify-content: center;background-color: white;position: relative;}#sk-container-id-24 div.sk-item::before, #sk-container-id-24 div.sk-parallel-item::before {content: \"\";position: absolute;border-left: 1px solid gray;box-sizing: border-box;top: 0;bottom: 0;left: 50%;z-index: -1;}#sk-container-id-24 div.sk-parallel-item {display: flex;flex-direction: column;z-index: 1;position: relative;background-color: white;}#sk-container-id-24 div.sk-parallel-item:first-child::after {align-self: flex-end;width: 50%;}#sk-container-id-24 div.sk-parallel-item:last-child::after {align-self: flex-start;width: 50%;}#sk-container-id-24 div.sk-parallel-item:only-child::after {width: 0;}#sk-container-id-24 div.sk-dashed-wrapped {border: 1px dashed gray;margin: 0 0.4em 0.5em 0.4em;box-sizing: border-box;padding-bottom: 0.4em;background-color: white;}#sk-container-id-24 div.sk-label label {font-family: monospace;font-weight: bold;display: inline-block;line-height: 1.2em;}#sk-container-id-24 div.sk-label-container {text-align: center;}#sk-container-id-24 div.sk-container {/* jupyter's `normalize.less` sets `[hidden] { display: none; }` but bootstrap.min.css set `[hidden] { display: none !important; }` so we also need the `!important` here to be able to override the default hidden behavior on the sphinx rendered scikit-learn.org. See: https://github.com/scikit-learn/scikit-learn/issues/21755 */display: inline-block !important;position: relative;}#sk-container-id-24 div.sk-text-repr-fallback {display: none;}</style><div id=\"sk-container-id-24\" class=\"sk-top-container\"><div class=\"sk-text-repr-fallback\"><pre>LinearRegression()</pre><b>In a Jupyter environment, please rerun this cell to show the HTML representation or trust the notebook. <br />On GitHub, the HTML representation is unable to render, please try loading this page with nbviewer.org.</b></div><div class=\"sk-container\" hidden><div class=\"sk-item\"><div class=\"sk-estimator sk-toggleable\"><input class=\"sk-toggleable__control sk-hidden--visually\" id=\"sk-estimator-id-24\" type=\"checkbox\" checked><label for=\"sk-estimator-id-24\" class=\"sk-toggleable__label sk-toggleable__label-arrow\">LinearRegression</label><div class=\"sk-toggleable__content\"><pre>LinearRegression()</pre></div></div></div></div></div>"
      ],
      "text/plain": [
       "LinearRegression()"
      ]
     },
     "execution_count": 369,
     "metadata": {},
     "output_type": "execute_result"
    }
   ],
   "source": [
    "Linear_reg_woot = LinearRegression()\n",
    "Linear_reg_woot.fit(x_train, y_train)"
   ]
  },
  {
   "cell_type": "markdown",
   "id": "438970e5",
   "metadata": {},
   "source": [
    "#### Model evaluation"
   ]
  },
  {
   "cell_type": "code",
   "execution_count": 370,
   "id": "d84e0d57",
   "metadata": {},
   "outputs": [
    {
     "name": "stdout",
     "output_type": "stream",
     "text": [
      "MSE: 10641.346482529983\n",
      "RMSE: 103.1569022534604\n",
      "MAE: 76.334073462639\n",
      "R_squared 0.9241345503088414\n"
     ]
    }
   ],
   "source": [
    "# Evaluation on test data with Linear_reg\n",
    "\n",
    "y_pred = Linear_reg_woot.predict(x_test)\n",
    "\n",
    "mse = mean_squared_error(y_test , y_pred)\n",
    "print(\"MSE:\", mse)\n",
    "\n",
    "rmse = np.sqrt(mse)\n",
    "print(\"RMSE:\", rmse)\n",
    "\n",
    "mae = mean_absolute_error(y_test , y_pred)\n",
    "print(\"MAE:\", mae)\n",
    "\n",
    "r2 = r2_score(y_test , y_pred)\n",
    "print(\"R_squared\", r2)"
   ]
  },
  {
   "cell_type": "code",
   "execution_count": 371,
   "id": "6984d1b8",
   "metadata": {},
   "outputs": [
    {
     "name": "stdout",
     "output_type": "stream",
     "text": [
      "MSE: 7657.374223249367\n",
      "RMSE: 87.50642389704522\n",
      "MAE: 63.392048561968075\n",
      "R_squared 0.9382732908398195\n"
     ]
    }
   ],
   "source": [
    "# Evaluation on training data Linear_reg\n",
    "\n",
    "y_pred_train = Linear_reg_woot.predict(x_train)\n",
    "\n",
    "mse = mean_squared_error(y_train , y_pred_train)\n",
    "print(\"MSE:\", mse)\n",
    "\n",
    "rmse = np.sqrt(mse)\n",
    "print(\"RMSE:\", rmse)\n",
    "\n",
    "mae = mean_absolute_error(y_train , y_pred_train)\n",
    "print(\"MAE:\", mae)\n",
    "\n",
    "r2 = r2_score(y_train , y_pred_train)\n",
    "print(\"R_squared\", r2)"
   ]
  },
  {
   "cell_type": "markdown",
   "id": "0dd4ba01",
   "metadata": {},
   "source": [
    "# 3 Decision Tree"
   ]
  },
  {
   "cell_type": "code",
   "execution_count": 372,
   "id": "b1d5b462",
   "metadata": {},
   "outputs": [
    {
     "data": {
      "text/html": [
       "<style>#sk-container-id-25 {color: black;background-color: white;}#sk-container-id-25 pre{padding: 0;}#sk-container-id-25 div.sk-toggleable {background-color: white;}#sk-container-id-25 label.sk-toggleable__label {cursor: pointer;display: block;width: 100%;margin-bottom: 0;padding: 0.3em;box-sizing: border-box;text-align: center;}#sk-container-id-25 label.sk-toggleable__label-arrow:before {content: \"▸\";float: left;margin-right: 0.25em;color: #696969;}#sk-container-id-25 label.sk-toggleable__label-arrow:hover:before {color: black;}#sk-container-id-25 div.sk-estimator:hover label.sk-toggleable__label-arrow:before {color: black;}#sk-container-id-25 div.sk-toggleable__content {max-height: 0;max-width: 0;overflow: hidden;text-align: left;background-color: #f0f8ff;}#sk-container-id-25 div.sk-toggleable__content pre {margin: 0.2em;color: black;border-radius: 0.25em;background-color: #f0f8ff;}#sk-container-id-25 input.sk-toggleable__control:checked~div.sk-toggleable__content {max-height: 200px;max-width: 100%;overflow: auto;}#sk-container-id-25 input.sk-toggleable__control:checked~label.sk-toggleable__label-arrow:before {content: \"▾\";}#sk-container-id-25 div.sk-estimator input.sk-toggleable__control:checked~label.sk-toggleable__label {background-color: #d4ebff;}#sk-container-id-25 div.sk-label input.sk-toggleable__control:checked~label.sk-toggleable__label {background-color: #d4ebff;}#sk-container-id-25 input.sk-hidden--visually {border: 0;clip: rect(1px 1px 1px 1px);clip: rect(1px, 1px, 1px, 1px);height: 1px;margin: -1px;overflow: hidden;padding: 0;position: absolute;width: 1px;}#sk-container-id-25 div.sk-estimator {font-family: monospace;background-color: #f0f8ff;border: 1px dotted black;border-radius: 0.25em;box-sizing: border-box;margin-bottom: 0.5em;}#sk-container-id-25 div.sk-estimator:hover {background-color: #d4ebff;}#sk-container-id-25 div.sk-parallel-item::after {content: \"\";width: 100%;border-bottom: 1px solid gray;flex-grow: 1;}#sk-container-id-25 div.sk-label:hover label.sk-toggleable__label {background-color: #d4ebff;}#sk-container-id-25 div.sk-serial::before {content: \"\";position: absolute;border-left: 1px solid gray;box-sizing: border-box;top: 0;bottom: 0;left: 50%;z-index: 0;}#sk-container-id-25 div.sk-serial {display: flex;flex-direction: column;align-items: center;background-color: white;padding-right: 0.2em;padding-left: 0.2em;position: relative;}#sk-container-id-25 div.sk-item {position: relative;z-index: 1;}#sk-container-id-25 div.sk-parallel {display: flex;align-items: stretch;justify-content: center;background-color: white;position: relative;}#sk-container-id-25 div.sk-item::before, #sk-container-id-25 div.sk-parallel-item::before {content: \"\";position: absolute;border-left: 1px solid gray;box-sizing: border-box;top: 0;bottom: 0;left: 50%;z-index: -1;}#sk-container-id-25 div.sk-parallel-item {display: flex;flex-direction: column;z-index: 1;position: relative;background-color: white;}#sk-container-id-25 div.sk-parallel-item:first-child::after {align-self: flex-end;width: 50%;}#sk-container-id-25 div.sk-parallel-item:last-child::after {align-self: flex-start;width: 50%;}#sk-container-id-25 div.sk-parallel-item:only-child::after {width: 0;}#sk-container-id-25 div.sk-dashed-wrapped {border: 1px dashed gray;margin: 0 0.4em 0.5em 0.4em;box-sizing: border-box;padding-bottom: 0.4em;background-color: white;}#sk-container-id-25 div.sk-label label {font-family: monospace;font-weight: bold;display: inline-block;line-height: 1.2em;}#sk-container-id-25 div.sk-label-container {text-align: center;}#sk-container-id-25 div.sk-container {/* jupyter's `normalize.less` sets `[hidden] { display: none; }` but bootstrap.min.css set `[hidden] { display: none !important; }` so we also need the `!important` here to be able to override the default hidden behavior on the sphinx rendered scikit-learn.org. See: https://github.com/scikit-learn/scikit-learn/issues/21755 */display: inline-block !important;position: relative;}#sk-container-id-25 div.sk-text-repr-fallback {display: none;}</style><div id=\"sk-container-id-25\" class=\"sk-top-container\"><div class=\"sk-text-repr-fallback\"><pre>DecisionTreeRegressor()</pre><b>In a Jupyter environment, please rerun this cell to show the HTML representation or trust the notebook. <br />On GitHub, the HTML representation is unable to render, please try loading this page with nbviewer.org.</b></div><div class=\"sk-container\" hidden><div class=\"sk-item\"><div class=\"sk-estimator sk-toggleable\"><input class=\"sk-toggleable__control sk-hidden--visually\" id=\"sk-estimator-id-25\" type=\"checkbox\" checked><label for=\"sk-estimator-id-25\" class=\"sk-toggleable__label sk-toggleable__label-arrow\">DecisionTreeRegressor</label><div class=\"sk-toggleable__content\"><pre>DecisionTreeRegressor()</pre></div></div></div></div></div>"
      ],
      "text/plain": [
       "DecisionTreeRegressor()"
      ]
     },
     "execution_count": 372,
     "metadata": {},
     "output_type": "execute_result"
    }
   ],
   "source": [
    "dt_reg = DecisionTreeRegressor()\n",
    "dt_reg.fit(x_train, y_train)"
   ]
  },
  {
   "cell_type": "code",
   "execution_count": 373,
   "id": "d75d5a1c",
   "metadata": {},
   "outputs": [
    {
     "name": "stdout",
     "output_type": "stream",
     "text": [
      "MSE: 0.0\n",
      "RMSE: 0.0\n",
      "MAE: 0.0\n",
      "R_squared 1.0\n"
     ]
    }
   ],
   "source": [
    "# Evaluation on training data with DT\n",
    "\n",
    "y_pred_train = dt_reg.predict(x_train)\n",
    "\n",
    "mse = mean_squared_error(y_train , y_pred_train)\n",
    "print(\"MSE:\", mse)\n",
    "\n",
    "rmse = np.sqrt(mse)\n",
    "print(\"RMSE:\", rmse)\n",
    "\n",
    "mae = mean_absolute_error(y_train , y_pred_train)\n",
    "print(\"MAE:\", mae)\n",
    "\n",
    "r2 = r2_score(y_train , y_pred_train)\n",
    "print(\"R_squared\", r2)"
   ]
  },
  {
   "cell_type": "code",
   "execution_count": 374,
   "id": "44b49b78",
   "metadata": {},
   "outputs": [
    {
     "name": "stdout",
     "output_type": "stream",
     "text": [
      "MSE: 8038.999375\n",
      "RMSE: 89.6604671803577\n",
      "MAE: 58.65625\n",
      "R_squared 0.9426874875606608\n"
     ]
    }
   ],
   "source": [
    "# Evaluation on test data with DT\n",
    "\n",
    "y_pred = dt_reg.predict(x_test)\n",
    "\n",
    "mse = mean_squared_error(y_test , y_pred)\n",
    "print(\"MSE:\", mse)\n",
    "\n",
    "rmse = np.sqrt(mse)\n",
    "print(\"RMSE:\", rmse)\n",
    "\n",
    "mae = mean_absolute_error(y_test , y_pred)\n",
    "print(\"MAE:\", mae)\n",
    "\n",
    "r2 = r2_score(y_test , y_pred)\n",
    "print(\"R_squared\", r2)"
   ]
  },
  {
   "cell_type": "code",
   "execution_count": 375,
   "id": "7e7a567f",
   "metadata": {},
   "outputs": [],
   "source": [
    "# Plot tree\n",
    "# plt.figure(figsize = (200,150))\n",
    "# plot_tree(dt_reg, feature_names=x.columns, class_names=['0','1'], filled=True)\n",
    "# plt.savefig(\"Decision tree wthout HP\")"
   ]
  },
  {
   "cell_type": "code",
   "execution_count": 376,
   "id": "56dec1fe",
   "metadata": {},
   "outputs": [
    {
     "data": {
      "text/plain": [
       "array([2.66301715e-03, 9.80327235e-03, 2.10613707e-01, 6.76546336e-03,\n",
       "       7.67480054e-01, 1.69638339e-03, 9.17185918e-06, 6.15235438e-04,\n",
       "       1.20609419e-04, 2.24961529e-04, 0.00000000e+00, 8.12455346e-06])"
      ]
     },
     "execution_count": 376,
     "metadata": {},
     "output_type": "execute_result"
    }
   ],
   "source": [
    "dt_reg.feature_importances_"
   ]
  },
  {
   "cell_type": "code",
   "execution_count": 377,
   "id": "89960194",
   "metadata": {},
   "outputs": [
    {
     "data": {
      "text/plain": [
       "11"
      ]
     },
     "execution_count": 377,
     "metadata": {},
     "output_type": "execute_result"
    }
   ],
   "source": [
    "dt_reg.get_depth()"
   ]
  },
  {
   "cell_type": "markdown",
   "id": "7f978338",
   "metadata": {},
   "source": [
    "### Descision Tree Hyperparameter Tuning "
   ]
  },
  {
   "cell_type": "code",
   "execution_count": 378,
   "id": "dee2c198",
   "metadata": {},
   "outputs": [
    {
     "data": {
      "text/html": [
       "<style>#sk-container-id-26 {color: black;background-color: white;}#sk-container-id-26 pre{padding: 0;}#sk-container-id-26 div.sk-toggleable {background-color: white;}#sk-container-id-26 label.sk-toggleable__label {cursor: pointer;display: block;width: 100%;margin-bottom: 0;padding: 0.3em;box-sizing: border-box;text-align: center;}#sk-container-id-26 label.sk-toggleable__label-arrow:before {content: \"▸\";float: left;margin-right: 0.25em;color: #696969;}#sk-container-id-26 label.sk-toggleable__label-arrow:hover:before {color: black;}#sk-container-id-26 div.sk-estimator:hover label.sk-toggleable__label-arrow:before {color: black;}#sk-container-id-26 div.sk-toggleable__content {max-height: 0;max-width: 0;overflow: hidden;text-align: left;background-color: #f0f8ff;}#sk-container-id-26 div.sk-toggleable__content pre {margin: 0.2em;color: black;border-radius: 0.25em;background-color: #f0f8ff;}#sk-container-id-26 input.sk-toggleable__control:checked~div.sk-toggleable__content {max-height: 200px;max-width: 100%;overflow: auto;}#sk-container-id-26 input.sk-toggleable__control:checked~label.sk-toggleable__label-arrow:before {content: \"▾\";}#sk-container-id-26 div.sk-estimator input.sk-toggleable__control:checked~label.sk-toggleable__label {background-color: #d4ebff;}#sk-container-id-26 div.sk-label input.sk-toggleable__control:checked~label.sk-toggleable__label {background-color: #d4ebff;}#sk-container-id-26 input.sk-hidden--visually {border: 0;clip: rect(1px 1px 1px 1px);clip: rect(1px, 1px, 1px, 1px);height: 1px;margin: -1px;overflow: hidden;padding: 0;position: absolute;width: 1px;}#sk-container-id-26 div.sk-estimator {font-family: monospace;background-color: #f0f8ff;border: 1px dotted black;border-radius: 0.25em;box-sizing: border-box;margin-bottom: 0.5em;}#sk-container-id-26 div.sk-estimator:hover {background-color: #d4ebff;}#sk-container-id-26 div.sk-parallel-item::after {content: \"\";width: 100%;border-bottom: 1px solid gray;flex-grow: 1;}#sk-container-id-26 div.sk-label:hover label.sk-toggleable__label {background-color: #d4ebff;}#sk-container-id-26 div.sk-serial::before {content: \"\";position: absolute;border-left: 1px solid gray;box-sizing: border-box;top: 0;bottom: 0;left: 50%;z-index: 0;}#sk-container-id-26 div.sk-serial {display: flex;flex-direction: column;align-items: center;background-color: white;padding-right: 0.2em;padding-left: 0.2em;position: relative;}#sk-container-id-26 div.sk-item {position: relative;z-index: 1;}#sk-container-id-26 div.sk-parallel {display: flex;align-items: stretch;justify-content: center;background-color: white;position: relative;}#sk-container-id-26 div.sk-item::before, #sk-container-id-26 div.sk-parallel-item::before {content: \"\";position: absolute;border-left: 1px solid gray;box-sizing: border-box;top: 0;bottom: 0;left: 50%;z-index: -1;}#sk-container-id-26 div.sk-parallel-item {display: flex;flex-direction: column;z-index: 1;position: relative;background-color: white;}#sk-container-id-26 div.sk-parallel-item:first-child::after {align-self: flex-end;width: 50%;}#sk-container-id-26 div.sk-parallel-item:last-child::after {align-self: flex-start;width: 50%;}#sk-container-id-26 div.sk-parallel-item:only-child::after {width: 0;}#sk-container-id-26 div.sk-dashed-wrapped {border: 1px dashed gray;margin: 0 0.4em 0.5em 0.4em;box-sizing: border-box;padding-bottom: 0.4em;background-color: white;}#sk-container-id-26 div.sk-label label {font-family: monospace;font-weight: bold;display: inline-block;line-height: 1.2em;}#sk-container-id-26 div.sk-label-container {text-align: center;}#sk-container-id-26 div.sk-container {/* jupyter's `normalize.less` sets `[hidden] { display: none; }` but bootstrap.min.css set `[hidden] { display: none !important; }` so we also need the `!important` here to be able to override the default hidden behavior on the sphinx rendered scikit-learn.org. See: https://github.com/scikit-learn/scikit-learn/issues/21755 */display: inline-block !important;position: relative;}#sk-container-id-26 div.sk-text-repr-fallback {display: none;}</style><div id=\"sk-container-id-26\" class=\"sk-top-container\"><div class=\"sk-text-repr-fallback\"><pre>DecisionTreeRegressor(criterion=&#x27;mse&#x27;, max_depth=8, min_samples_leaf=2,\n",
       "                      min_samples_split=3)</pre><b>In a Jupyter environment, please rerun this cell to show the HTML representation or trust the notebook. <br />On GitHub, the HTML representation is unable to render, please try loading this page with nbviewer.org.</b></div><div class=\"sk-container\" hidden><div class=\"sk-item\"><div class=\"sk-estimator sk-toggleable\"><input class=\"sk-toggleable__control sk-hidden--visually\" id=\"sk-estimator-id-26\" type=\"checkbox\" checked><label for=\"sk-estimator-id-26\" class=\"sk-toggleable__label sk-toggleable__label-arrow\">DecisionTreeRegressor</label><div class=\"sk-toggleable__content\"><pre>DecisionTreeRegressor(criterion=&#x27;mse&#x27;, max_depth=8, min_samples_leaf=2,\n",
       "                      min_samples_split=3)</pre></div></div></div></div></div>"
      ],
      "text/plain": [
       "DecisionTreeRegressor(criterion='mse', max_depth=8, min_samples_leaf=2,\n",
       "                      min_samples_split=3)"
      ]
     },
     "execution_count": 378,
     "metadata": {},
     "output_type": "execute_result"
    }
   ],
   "source": [
    "hyperparameters ={ \"criterion\" :['mse','mae'],\n",
    "     'max_depth': np.arange(3,14),\n",
    "     'min_samples_split' : np.arange(2,20),\n",
    "     'min_samples_leaf':np.arange(2,15)}\n",
    "\n",
    "gscv_dt_reg = GridSearchCV(dt_reg,hyperparameters, cv = 5)\n",
    "gscv_dt_reg.fit(x_train, y_train)\n",
    "dt_reg_HP= gscv_dt_reg.best_estimator_\n",
    "dt_reg_HP.fit(x_train, y_train)"
   ]
  },
  {
   "cell_type": "code",
   "execution_count": 379,
   "id": "a9082753",
   "metadata": {},
   "outputs": [
    {
     "name": "stdout",
     "output_type": "stream",
     "text": [
      "MSE: 1031.8998884514435\n",
      "RMSE: 32.1231986024344\n",
      "MAE: 14.986351706036743\n",
      "R_squared 0.9916817720487695\n"
     ]
    }
   ],
   "source": [
    "# Evaluation on training data DT with HP\n",
    "\n",
    "y_pred_train = dt_reg_HP.predict(x_train)\n",
    "\n",
    "mse = mean_squared_error(y_train , y_pred_train)\n",
    "print(\"MSE:\", mse)\n",
    "\n",
    "rmse = np.sqrt(mse)\n",
    "print(\"RMSE:\", rmse)\n",
    "\n",
    "mae = mean_absolute_error(y_train , y_pred_train)\n",
    "print(\"MAE:\", mae)\n",
    "\n",
    "r2 = r2_score(y_train , y_pred_train)\n",
    "print(\"R_squared\", r2)"
   ]
  },
  {
   "cell_type": "code",
   "execution_count": 380,
   "id": "444448d5",
   "metadata": {},
   "outputs": [
    {
     "name": "stdout",
     "output_type": "stream",
     "text": [
      "MSE: 6605.352925347224\n",
      "RMSE: 81.27332234717136\n",
      "MAE: 54.13385416666667\n",
      "R_squared 0.9529083964258688\n"
     ]
    }
   ],
   "source": [
    "# Evaluation on test data DT with HP\n",
    "\n",
    "y_pred = dt_reg_HP.predict(x_test)\n",
    "\n",
    "mse = mean_squared_error(y_test , y_pred)\n",
    "print(\"MSE:\", mse)\n",
    "\n",
    "rmse = np.sqrt(mse)\n",
    "print(\"RMSE:\", rmse)\n",
    "\n",
    "mae = mean_absolute_error(y_test , y_pred)\n",
    "print(\"MAE:\", mae)\n",
    "\n",
    "r2 = r2_score(y_test , y_pred)\n",
    "print(\"R_squared\", r2)"
   ]
  },
  {
   "cell_type": "code",
   "execution_count": 381,
   "id": "7c85b766",
   "metadata": {},
   "outputs": [],
   "source": [
    "# plt.figure(figsize=(200,150))\n",
    "# plot_tree(dt_reg_HP,feature_names=x.columns, class_names=['0','1'],filled=True)\n",
    "# plt.savefig('DT_Regression_HYP.png')"
   ]
  },
  {
   "cell_type": "markdown",
   "id": "a0d9ce26",
   "metadata": {},
   "source": [
    "# 4. Random Forest"
   ]
  },
  {
   "cell_type": "code",
   "execution_count": 382,
   "id": "65404a1a",
   "metadata": {},
   "outputs": [
    {
     "name": "stdout",
     "output_type": "stream",
     "text": [
      "MSE: 756.2197989212598\n",
      "RMSE: 27.499450883995117\n",
      "MAE: 14.420055118110236\n",
      "R_squared 0.9939040514113238\n"
     ]
    }
   ],
   "source": [
    "rf_reg = RandomForestRegressor()\n",
    "rf_reg.fit(x_train, y_train)\n",
    "\n",
    "# Evaluation on training data with random forest\n",
    "\n",
    "y_pred_train = rf_reg.predict(x_train)\n",
    "\n",
    "mse = mean_squared_error(y_train , y_pred_train)\n",
    "print(\"MSE:\", mse)\n",
    "\n",
    "rmse = np.sqrt(mse)\n",
    "print(\"RMSE:\", rmse)\n",
    "\n",
    "mae = mean_absolute_error(y_train , y_pred_train)\n",
    "print(\"MAE:\", mae)\n",
    "\n",
    "r2 = r2_score(y_train , y_pred_train)\n",
    "print(\"R_squared\", r2)"
   ]
  },
  {
   "cell_type": "code",
   "execution_count": 383,
   "id": "8202e1b6",
   "metadata": {},
   "outputs": [
    {
     "name": "stdout",
     "output_type": "stream",
     "text": [
      "MSE: 3861.7995359374986\n",
      "RMSE: 62.14337885839085\n",
      "MAE: 39.6165\n",
      "R_squared 0.972468036926343\n"
     ]
    }
   ],
   "source": [
    "# Evaluation on test data with  random forest\n",
    "\n",
    "y_pred = rf_reg.predict(x_test)\n",
    "\n",
    "mse = mean_squared_error(y_test , y_pred)\n",
    "print(\"MSE:\", mse)\n",
    "\n",
    "rmse = np.sqrt(mse)\n",
    "print(\"RMSE:\", rmse)\n",
    "\n",
    "mae = mean_absolute_error(y_test , y_pred)\n",
    "print(\"MAE:\", mae)\n",
    "\n",
    "r2 = r2_score(y_test , y_pred)\n",
    "print(\"R_squared\", r2)"
   ]
  },
  {
   "cell_type": "markdown",
   "id": "ea27fd48",
   "metadata": {},
   "source": [
    "### Random Forest Hyperparameter Tunning"
   ]
  },
  {
   "cell_type": "code",
   "execution_count": 384,
   "id": "d068f4a9",
   "metadata": {},
   "outputs": [
    {
     "data": {
      "text/html": [
       "<style>#sk-container-id-27 {color: black;background-color: white;}#sk-container-id-27 pre{padding: 0;}#sk-container-id-27 div.sk-toggleable {background-color: white;}#sk-container-id-27 label.sk-toggleable__label {cursor: pointer;display: block;width: 100%;margin-bottom: 0;padding: 0.3em;box-sizing: border-box;text-align: center;}#sk-container-id-27 label.sk-toggleable__label-arrow:before {content: \"▸\";float: left;margin-right: 0.25em;color: #696969;}#sk-container-id-27 label.sk-toggleable__label-arrow:hover:before {color: black;}#sk-container-id-27 div.sk-estimator:hover label.sk-toggleable__label-arrow:before {color: black;}#sk-container-id-27 div.sk-toggleable__content {max-height: 0;max-width: 0;overflow: hidden;text-align: left;background-color: #f0f8ff;}#sk-container-id-27 div.sk-toggleable__content pre {margin: 0.2em;color: black;border-radius: 0.25em;background-color: #f0f8ff;}#sk-container-id-27 input.sk-toggleable__control:checked~div.sk-toggleable__content {max-height: 200px;max-width: 100%;overflow: auto;}#sk-container-id-27 input.sk-toggleable__control:checked~label.sk-toggleable__label-arrow:before {content: \"▾\";}#sk-container-id-27 div.sk-estimator input.sk-toggleable__control:checked~label.sk-toggleable__label {background-color: #d4ebff;}#sk-container-id-27 div.sk-label input.sk-toggleable__control:checked~label.sk-toggleable__label {background-color: #d4ebff;}#sk-container-id-27 input.sk-hidden--visually {border: 0;clip: rect(1px 1px 1px 1px);clip: rect(1px, 1px, 1px, 1px);height: 1px;margin: -1px;overflow: hidden;padding: 0;position: absolute;width: 1px;}#sk-container-id-27 div.sk-estimator {font-family: monospace;background-color: #f0f8ff;border: 1px dotted black;border-radius: 0.25em;box-sizing: border-box;margin-bottom: 0.5em;}#sk-container-id-27 div.sk-estimator:hover {background-color: #d4ebff;}#sk-container-id-27 div.sk-parallel-item::after {content: \"\";width: 100%;border-bottom: 1px solid gray;flex-grow: 1;}#sk-container-id-27 div.sk-label:hover label.sk-toggleable__label {background-color: #d4ebff;}#sk-container-id-27 div.sk-serial::before {content: \"\";position: absolute;border-left: 1px solid gray;box-sizing: border-box;top: 0;bottom: 0;left: 50%;z-index: 0;}#sk-container-id-27 div.sk-serial {display: flex;flex-direction: column;align-items: center;background-color: white;padding-right: 0.2em;padding-left: 0.2em;position: relative;}#sk-container-id-27 div.sk-item {position: relative;z-index: 1;}#sk-container-id-27 div.sk-parallel {display: flex;align-items: stretch;justify-content: center;background-color: white;position: relative;}#sk-container-id-27 div.sk-item::before, #sk-container-id-27 div.sk-parallel-item::before {content: \"\";position: absolute;border-left: 1px solid gray;box-sizing: border-box;top: 0;bottom: 0;left: 50%;z-index: -1;}#sk-container-id-27 div.sk-parallel-item {display: flex;flex-direction: column;z-index: 1;position: relative;background-color: white;}#sk-container-id-27 div.sk-parallel-item:first-child::after {align-self: flex-end;width: 50%;}#sk-container-id-27 div.sk-parallel-item:last-child::after {align-self: flex-start;width: 50%;}#sk-container-id-27 div.sk-parallel-item:only-child::after {width: 0;}#sk-container-id-27 div.sk-dashed-wrapped {border: 1px dashed gray;margin: 0 0.4em 0.5em 0.4em;box-sizing: border-box;padding-bottom: 0.4em;background-color: white;}#sk-container-id-27 div.sk-label label {font-family: monospace;font-weight: bold;display: inline-block;line-height: 1.2em;}#sk-container-id-27 div.sk-label-container {text-align: center;}#sk-container-id-27 div.sk-container {/* jupyter's `normalize.less` sets `[hidden] { display: none; }` but bootstrap.min.css set `[hidden] { display: none !important; }` so we also need the `!important` here to be able to override the default hidden behavior on the sphinx rendered scikit-learn.org. See: https://github.com/scikit-learn/scikit-learn/issues/21755 */display: inline-block !important;position: relative;}#sk-container-id-27 div.sk-text-repr-fallback {display: none;}</style><div id=\"sk-container-id-27\" class=\"sk-top-container\"><div class=\"sk-text-repr-fallback\"><pre>RandomForestRegressor(criterion=&#x27;mse&#x27;, max_depth=7, min_samples_leaf=3,\n",
       "                      n_estimators=115, random_state=11)</pre><b>In a Jupyter environment, please rerun this cell to show the HTML representation or trust the notebook. <br />On GitHub, the HTML representation is unable to render, please try loading this page with nbviewer.org.</b></div><div class=\"sk-container\" hidden><div class=\"sk-item\"><div class=\"sk-estimator sk-toggleable\"><input class=\"sk-toggleable__control sk-hidden--visually\" id=\"sk-estimator-id-27\" type=\"checkbox\" checked><label for=\"sk-estimator-id-27\" class=\"sk-toggleable__label sk-toggleable__label-arrow\">RandomForestRegressor</label><div class=\"sk-toggleable__content\"><pre>RandomForestRegressor(criterion=&#x27;mse&#x27;, max_depth=7, min_samples_leaf=3,\n",
       "                      n_estimators=115, random_state=11)</pre></div></div></div></div></div>"
      ],
      "text/plain": [
       "RandomForestRegressor(criterion='mse', max_depth=7, min_samples_leaf=3,\n",
       "                      n_estimators=115, random_state=11)"
      ]
     },
     "execution_count": 384,
     "metadata": {},
     "output_type": "execute_result"
    }
   ],
   "source": [
    "hyperparameters = { \"n_estimators\": np.arange(90,120),\n",
    "                   'criterion': ['mse', 'mae'], \n",
    "                   'max_depth': np.arange(3,8),\n",
    "                   'min_samples_leaf':np.arange(3,8),\n",
    "                   'random_state':[11]}\n",
    "\n",
    "rscv_rf_reg = RandomizedSearchCV(rf_reg, hyperparameters, cv= 5)\n",
    "rscv_rf_reg.fit(x_train, y_train)\n",
    "rscv_rf_reg.best_estimator_\n",
    "rf_reg_HP = rscv_rf_reg.best_estimator_\n",
    "rf_reg_HP.fit(x_train, y_train)"
   ]
  },
  {
   "cell_type": "code",
   "execution_count": 385,
   "id": "6a863258",
   "metadata": {},
   "outputs": [
    {
     "name": "stdout",
     "output_type": "stream",
     "text": [
      "MSE: 3569.5187997250414\n",
      "RMSE: 59.745450033664\n",
      "MAE: 27.682951348073736\n",
      "R_squared 0.9712258220156665\n"
     ]
    }
   ],
   "source": [
    "# Evaluation on training data Random state with HP\n",
    "\n",
    "y_pred_train =rf_reg_HP.predict(x_train)\n",
    "\n",
    "mse = mean_squared_error(y_train , y_pred_train)\n",
    "print(\"MSE:\", mse)\n",
    "\n",
    "rmse = np.sqrt(mse)\n",
    "print(\"RMSE:\", rmse)\n",
    "\n",
    "mae = mean_absolute_error(y_train , y_pred_train)\n",
    "print(\"MAE:\", mae)\n",
    "\n",
    "r2 = r2_score(y_train , y_pred_train)\n",
    "print(\"R_squared\", r2)"
   ]
  },
  {
   "cell_type": "code",
   "execution_count": 386,
   "id": "42078a2e",
   "metadata": {},
   "outputs": [
    {
     "name": "stdout",
     "output_type": "stream",
     "text": [
      "MSE: 8168.571424286545\n",
      "RMSE: 90.38014950356381\n",
      "MAE: 50.25070453165492\n",
      "R_squared 0.9417637283538098\n"
     ]
    }
   ],
   "source": [
    "# Evaluation on test data with Random state with HP\n",
    "\n",
    "y_pred = rf_reg_HP.predict(x_test)\n",
    "\n",
    "mse = mean_squared_error(y_test , y_pred)\n",
    "print(\"MSE:\", mse)\n",
    "\n",
    "rmse = np.sqrt(mse)\n",
    "print(\"RMSE:\", rmse)\n",
    "\n",
    "mae = mean_absolute_error(y_test , y_pred)\n",
    "print(\"MAE:\", mae)\n",
    "\n",
    "r2 = r2_score(y_test , y_pred)\n",
    "print(\"R_squared\", r2)"
   ]
  },
  {
   "cell_type": "code",
   "execution_count": null,
   "id": "091131da",
   "metadata": {},
   "outputs": [],
   "source": []
  },
  {
   "cell_type": "code",
   "execution_count": null,
   "id": "a45c3ef9",
   "metadata": {},
   "outputs": [],
   "source": []
  },
  {
   "cell_type": "markdown",
   "id": "5efbb20f",
   "metadata": {},
   "source": [
    "## 1.1 Linear Regression algorithm after handling outliers"
   ]
  },
  {
   "cell_type": "markdown",
   "id": "01ceef55",
   "metadata": {},
   "source": [
    "### Detecting Outliers in each column"
   ]
  },
  {
   "cell_type": "code",
   "execution_count": 387,
   "id": "f24d0054",
   "metadata": {},
   "outputs": [
    {
     "data": {
      "text/plain": [
       "0      242.0\n",
       "1      290.0\n",
       "2      340.0\n",
       "3      363.0\n",
       "4      430.0\n",
       "       ...  \n",
       "154     12.2\n",
       "155     13.4\n",
       "156     12.2\n",
       "157     19.7\n",
       "158     19.9\n",
       "Name: Weight, Length: 159, dtype: float64"
      ]
     },
     "execution_count": 387,
     "metadata": {},
     "output_type": "execute_result"
    }
   ],
   "source": [
    "raw_df['Weight']"
   ]
  },
  {
   "cell_type": "code",
   "execution_count": 388,
   "id": "8ce151bf",
   "metadata": {},
   "outputs": [
    {
     "data": {
      "text/plain": [
       "<AxesSubplot:xlabel='Weight', ylabel='Density'>"
      ]
     },
     "execution_count": 388,
     "metadata": {},
     "output_type": "execute_result"
    },
    {
     "data": {
      "image/png": "[encoded data removed]",
      "text/plain": [
       "<Figure size 432x288 with 1 Axes>"
      ]
     },
     "metadata": {
      "needs_background": "light"
     },
     "output_type": "display_data"
    }
   ],
   "source": [
    "sns.kdeplot(raw_df['Weight'])"
   ]
  },
  {
   "cell_type": "code",
   "execution_count": 389,
   "id": "b603f7b7",
   "metadata": {},
   "outputs": [
    {
     "name": "stdout",
     "output_type": "stream",
     "text": [
      "q1 120.0\n",
      "q2 273.0\n",
      "q3 650.0\n",
      "Median 273.0\n",
      "upper_tail 1445.0\n",
      "lower_tail -675.0\n"
     ]
    }
   ],
   "source": [
    "q1 = raw_df['Weight'].quantile(0.25)\n",
    "q2 = raw_df['Weight'].quantile(0.50)\n",
    "q3 = raw_df['Weight'].quantile(0.75)\n",
    "\n",
    "IQR = q3 - q1\n",
    "\n",
    "upper_tail = q3 + 1.5*IQR\n",
    "lower_tail = q1 - 1.5*IQR\n",
    "\n",
    "median = raw_df['Weight'].median()\n",
    "\n",
    "print('q1', q1)\n",
    "print('q2', q2)\n",
    "print('q3', q3)\n",
    "print(\"Median\", median)\n",
    "print('upper_tail', upper_tail)\n",
    "print('lower_tail', lower_tail)       "
   ]
  },
  {
   "cell_type": "code",
   "execution_count": 390,
   "id": "e1b8b5c9",
   "metadata": {},
   "outputs": [
    {
     "data": {
      "text/plain": [
       "<AxesSubplot:xlabel='Weight'>"
      ]
     },
     "execution_count": 390,
     "metadata": {},
     "output_type": "execute_result"
    },
    {
     "data": {
      "image/png": "[encoded data removed]",
      "text/plain": [
       "<Figure size 432x288 with 1 Axes>"
      ]
     },
     "metadata": {
      "needs_background": "light"
     },
     "output_type": "display_data"
    }
   ],
   "source": [
    "sns.boxplot(raw_df['Weight'])"
   ]
  },
  {
   "cell_type": "code",
   "execution_count": 391,
   "id": "93a37019",
   "metadata": {},
   "outputs": [
    {
     "data": {
      "text/html": [
       "<div>\n",
       "<style scoped>\n",
       "    .dataframe tbody tr th:only-of-type {\n",
       "        vertical-align: middle;\n",
       "    }\n",
       "\n",
       "    .dataframe tbody tr th {\n",
       "        vertical-align: top;\n",
       "    }\n",
       "\n",
       "    .dataframe thead th {\n",
       "        text-align: right;\n",
       "    }\n",
       "</style>\n",
       "<table border=\"1\" class=\"dataframe\">\n",
       "  <thead>\n",
       "    <tr style=\"text-align: right;\">\n",
       "      <th></th>\n",
       "      <th>Weight</th>\n",
       "    </tr>\n",
       "  </thead>\n",
       "  <tbody>\n",
       "    <tr>\n",
       "      <th>142</th>\n",
       "      <td>1600.0</td>\n",
       "    </tr>\n",
       "    <tr>\n",
       "      <th>143</th>\n",
       "      <td>1550.0</td>\n",
       "    </tr>\n",
       "    <tr>\n",
       "      <th>144</th>\n",
       "      <td>1650.0</td>\n",
       "    </tr>\n",
       "  </tbody>\n",
       "</table>\n",
       "</div>"
      ],
      "text/plain": [
       "     Weight\n",
       "142  1600.0\n",
       "143  1550.0\n",
       "144  1650.0"
      ]
     },
     "execution_count": 391,
     "metadata": {},
     "output_type": "execute_result"
    }
   ],
   "source": [
    "raw_df[['Weight']].loc[raw_df['Weight'] > upper_tail ]"
   ]
  },
  {
   "cell_type": "code",
   "execution_count": 392,
   "id": "e3daf440",
   "metadata": {},
   "outputs": [
    {
     "name": "stdout",
     "output_type": "stream",
     "text": [
      "Empty DataFrame\n",
      "Columns: [Weight]\n",
      "Index: []\n"
     ]
    }
   ],
   "source": [
    "raw_df.loc[raw_df['Weight'] > upper_tail, 'Weight'] = upper_tail\n",
    "print(raw_df[['Weight']].loc[raw_df['Weight'] > upper_tail ])"
   ]
  },
  {
   "cell_type": "code",
   "execution_count": 393,
   "id": "135307ae",
   "metadata": {},
   "outputs": [
    {
     "data": {
      "text/plain": [
       "<AxesSubplot:xlabel='Weight'>"
      ]
     },
     "execution_count": 393,
     "metadata": {},
     "output_type": "execute_result"
    },
    {
     "data": {
      "image/png": "[encoded data removed]",
      "text/plain": [
       "<Figure size 432x288 with 1 Axes>"
      ]
     },
     "metadata": {
      "needs_background": "light"
     },
     "output_type": "display_data"
    }
   ],
   "source": [
    "sns.boxplot(raw_df['Weight'])"
   ]
  },
  {
   "cell_type": "code",
   "execution_count": 394,
   "id": "ba0c8f6f",
   "metadata": {},
   "outputs": [
    {
     "data": {
      "text/plain": [
       "0      23.2\n",
       "1      24.0\n",
       "2      23.9\n",
       "3      26.3\n",
       "4      26.5\n",
       "       ... \n",
       "154    11.5\n",
       "155    11.7\n",
       "156    12.1\n",
       "157    13.2\n",
       "158    13.8\n",
       "Name: Length1, Length: 159, dtype: float64"
      ]
     },
     "execution_count": 394,
     "metadata": {},
     "output_type": "execute_result"
    }
   ],
   "source": [
    "raw_df['Length1']"
   ]
  },
  {
   "cell_type": "code",
   "execution_count": 395,
   "id": "a5cd53cf",
   "metadata": {},
   "outputs": [
    {
     "data": {
      "text/plain": [
       "<AxesSubplot:xlabel='Length1', ylabel='Density'>"
      ]
     },
     "execution_count": 395,
     "metadata": {},
     "output_type": "execute_result"
    },
    {
     "data": {
      "image/png": "[encoded data removed]",
      "text/plain": [
       "<Figure size 432x288 with 1 Axes>"
      ]
     },
     "metadata": {
      "needs_background": "light"
     },
     "output_type": "display_data"
    }
   ],
   "source": [
    "sns.kdeplot(raw_df['Length1'])"
   ]
  },
  {
   "cell_type": "code",
   "execution_count": 396,
   "id": "5924462b",
   "metadata": {},
   "outputs": [
    {
     "data": {
      "text/plain": [
       "<AxesSubplot:xlabel='Length1'>"
      ]
     },
     "execution_count": 396,
     "metadata": {},
     "output_type": "execute_result"
    },
    {
     "data": {
      "image/png": "[encoded data removed]",
      "text/plain": [
       "<Figure size 432x288 with 1 Axes>"
      ]
     },
     "metadata": {
      "needs_background": "light"
     },
     "output_type": "display_data"
    }
   ],
   "source": [
    "sns.boxplot(raw_df['Length1'])"
   ]
  },
  {
   "cell_type": "code",
   "execution_count": 397,
   "id": "290954c0",
   "metadata": {},
   "outputs": [
    {
     "name": "stdout",
     "output_type": "stream",
     "text": [
      "q1 19.05\n",
      "q2 25.2\n",
      "q3 32.7\n",
      "Median 25.2\n",
      "upper_tail 53.175000000000004\n",
      "lower_tail -1.4250000000000007\n"
     ]
    }
   ],
   "source": [
    "q1 = raw_df['Length1'].quantile(0.25)\n",
    "q2 = raw_df['Length1'].quantile(0.50)\n",
    "q3 = raw_df['Length1'].quantile(0.75)\n",
    "\n",
    "IQR = q3 - q1\n",
    "\n",
    "upper_tail = q3 + 1.5*IQR\n",
    "lower_tail = q1 - 1.5*IQR\n",
    "\n",
    "median = raw_df['Length1'].median()\n",
    "\n",
    "print('q1', q1)\n",
    "print('q2', q2)\n",
    "print('q3', q3)\n",
    "print(\"Median\", median)\n",
    "print('upper_tail', upper_tail)\n",
    "print('lower_tail', lower_tail) "
   ]
  },
  {
   "cell_type": "code",
   "execution_count": 398,
   "id": "6c4c87d0",
   "metadata": {},
   "outputs": [
    {
     "data": {
      "text/html": [
       "<div>\n",
       "<style scoped>\n",
       "    .dataframe tbody tr th:only-of-type {\n",
       "        vertical-align: middle;\n",
       "    }\n",
       "\n",
       "    .dataframe tbody tr th {\n",
       "        vertical-align: top;\n",
       "    }\n",
       "\n",
       "    .dataframe thead th {\n",
       "        text-align: right;\n",
       "    }\n",
       "</style>\n",
       "<table border=\"1\" class=\"dataframe\">\n",
       "  <thead>\n",
       "    <tr style=\"text-align: right;\">\n",
       "      <th></th>\n",
       "      <th>Length1</th>\n",
       "    </tr>\n",
       "  </thead>\n",
       "  <tbody>\n",
       "    <tr>\n",
       "      <th>142</th>\n",
       "      <td>56.0</td>\n",
       "    </tr>\n",
       "    <tr>\n",
       "      <th>143</th>\n",
       "      <td>56.0</td>\n",
       "    </tr>\n",
       "    <tr>\n",
       "      <th>144</th>\n",
       "      <td>59.0</td>\n",
       "    </tr>\n",
       "  </tbody>\n",
       "</table>\n",
       "</div>"
      ],
      "text/plain": [
       "     Length1\n",
       "142     56.0\n",
       "143     56.0\n",
       "144     59.0"
      ]
     },
     "execution_count": 398,
     "metadata": {},
     "output_type": "execute_result"
    }
   ],
   "source": [
    "raw_df[['Length1']].loc[raw_df['Length1'] > upper_tail]"
   ]
  },
  {
   "cell_type": "code",
   "execution_count": 399,
   "id": "39184bd5",
   "metadata": {},
   "outputs": [
    {
     "name": "stdout",
     "output_type": "stream",
     "text": [
      "Empty DataFrame\n",
      "Columns: [Length1]\n",
      "Index: []\n"
     ]
    }
   ],
   "source": [
    "raw_df.loc[raw_df['Length1'] > upper_tail, 'Length1'] = upper_tail\n",
    "print(raw_df[['Length1']].loc[raw_df['Length1'] > upper_tail ])"
   ]
  },
  {
   "cell_type": "code",
   "execution_count": 400,
   "id": "53665a68",
   "metadata": {},
   "outputs": [
    {
     "data": {
      "text/plain": [
       "0      25.4\n",
       "1      26.3\n",
       "2      26.5\n",
       "3      29.0\n",
       "4      29.0\n",
       "       ... \n",
       "154    12.2\n",
       "155    12.4\n",
       "156    13.0\n",
       "157    14.3\n",
       "158    15.0\n",
       "Name: Length2, Length: 159, dtype: float64"
      ]
     },
     "execution_count": 400,
     "metadata": {},
     "output_type": "execute_result"
    }
   ],
   "source": [
    "raw_df['Length2']"
   ]
  },
  {
   "cell_type": "code",
   "execution_count": 401,
   "id": "b366a159",
   "metadata": {},
   "outputs": [
    {
     "data": {
      "text/plain": [
       "<AxesSubplot:xlabel='Length2', ylabel='Density'>"
      ]
     },
     "execution_count": 401,
     "metadata": {},
     "output_type": "execute_result"
    },
    {
     "data": {
      "image/png": "[encoded data removed]",
      "text/plain": [
       "<Figure size 432x288 with 1 Axes>"
      ]
     },
     "metadata": {
      "needs_background": "light"
     },
     "output_type": "display_data"
    }
   ],
   "source": [
    "sns.kdeplot(raw_df['Length2'])"
   ]
  },
  {
   "cell_type": "code",
   "execution_count": 402,
   "id": "4dd81476",
   "metadata": {},
   "outputs": [
    {
     "data": {
      "text/plain": [
       "<AxesSubplot:xlabel='Length2'>"
      ]
     },
     "execution_count": 402,
     "metadata": {},
     "output_type": "execute_result"
    },
    {
     "data": {
      "image/png": "[encoded data removed]",
      "text/plain": [
       "<Figure size 432x288 with 1 Axes>"
      ]
     },
     "metadata": {
      "needs_background": "light"
     },
     "output_type": "display_data"
    }
   ],
   "source": [
    "sns.boxplot(raw_df['Length2'])"
   ]
  },
  {
   "cell_type": "code",
   "execution_count": 403,
   "id": "dd894b18",
   "metadata": {},
   "outputs": [
    {
     "name": "stdout",
     "output_type": "stream",
     "text": [
      "q1 21.0\n",
      "q2 27.3\n",
      "q3 35.5\n",
      "Median 27.3\n",
      "upper_tail 57.25\n",
      "lower_tail -0.75\n"
     ]
    }
   ],
   "source": [
    "q1 = raw_df['Length2'].quantile(0.25)\n",
    "q2 = raw_df['Length2'].quantile(0.50)\n",
    "q3 = raw_df['Length2'].quantile(0.75)\n",
    "\n",
    "IQR = q3 - q1\n",
    "\n",
    "upper_tail = q3 + 1.5*IQR\n",
    "lower_tail = q1 - 1.5*IQR\n",
    "\n",
    "median = raw_df['Length2'].median()\n",
    "\n",
    "print('q1', q1)\n",
    "print('q2', q2)\n",
    "print('q3', q3)\n",
    "print(\"Median\", median)\n",
    "print('upper_tail', upper_tail)\n",
    "print('lower_tail', lower_tail) "
   ]
  },
  {
   "cell_type": "code",
   "execution_count": 404,
   "id": "a55c358f",
   "metadata": {},
   "outputs": [
    {
     "data": {
      "text/html": [
       "<div>\n",
       "<style scoped>\n",
       "    .dataframe tbody tr th:only-of-type {\n",
       "        vertical-align: middle;\n",
       "    }\n",
       "\n",
       "    .dataframe tbody tr th {\n",
       "        vertical-align: top;\n",
       "    }\n",
       "\n",
       "    .dataframe thead th {\n",
       "        text-align: right;\n",
       "    }\n",
       "</style>\n",
       "<table border=\"1\" class=\"dataframe\">\n",
       "  <thead>\n",
       "    <tr style=\"text-align: right;\">\n",
       "      <th></th>\n",
       "      <th>Length2</th>\n",
       "    </tr>\n",
       "  </thead>\n",
       "  <tbody>\n",
       "    <tr>\n",
       "      <th>142</th>\n",
       "      <td>60.0</td>\n",
       "    </tr>\n",
       "    <tr>\n",
       "      <th>143</th>\n",
       "      <td>60.0</td>\n",
       "    </tr>\n",
       "    <tr>\n",
       "      <th>144</th>\n",
       "      <td>63.4</td>\n",
       "    </tr>\n",
       "  </tbody>\n",
       "</table>\n",
       "</div>"
      ],
      "text/plain": [
       "     Length2\n",
       "142     60.0\n",
       "143     60.0\n",
       "144     63.4"
      ]
     },
     "execution_count": 404,
     "metadata": {},
     "output_type": "execute_result"
    }
   ],
   "source": [
    "raw_df[['Length2']].loc[raw_df['Length2'] > upper_tail]"
   ]
  },
  {
   "cell_type": "code",
   "execution_count": 405,
   "id": "5bfcb422",
   "metadata": {},
   "outputs": [
    {
     "name": "stdout",
     "output_type": "stream",
     "text": [
      "Empty DataFrame\n",
      "Columns: [Length2]\n",
      "Index: []\n"
     ]
    }
   ],
   "source": [
    "raw_df.loc[raw_df['Length2'] > upper_tail, 'Length2'] = upper_tail\n",
    "print(raw_df[['Length2']].loc[raw_df['Length2'] > upper_tail ])"
   ]
  },
  {
   "cell_type": "code",
   "execution_count": 406,
   "id": "416f6603",
   "metadata": {},
   "outputs": [
    {
     "data": {
      "text/plain": [
       "0      30.0\n",
       "1      31.2\n",
       "2      31.1\n",
       "3      33.5\n",
       "4      34.0\n",
       "       ... \n",
       "154    13.4\n",
       "155    13.5\n",
       "156    13.8\n",
       "157    15.2\n",
       "158    16.2\n",
       "Name: Length3, Length: 159, dtype: float64"
      ]
     },
     "execution_count": 406,
     "metadata": {},
     "output_type": "execute_result"
    }
   ],
   "source": [
    "raw_df['Length3']"
   ]
  },
  {
   "cell_type": "code",
   "execution_count": 407,
   "id": "b0408541",
   "metadata": {},
   "outputs": [
    {
     "data": {
      "text/plain": [
       "<AxesSubplot:xlabel='Length3', ylabel='Density'>"
      ]
     },
     "execution_count": 407,
     "metadata": {},
     "output_type": "execute_result"
    },
    {
     "data": {
      "image/png": "[encoded data removed]",
      "text/plain": [
       "<Figure size 432x288 with 1 Axes>"
      ]
     },
     "metadata": {
      "needs_background": "light"
     },
     "output_type": "display_data"
    }
   ],
   "source": [
    "sns.kdeplot(raw_df['Length3'])"
   ]
  },
  {
   "cell_type": "code",
   "execution_count": 408,
   "id": "17e19663",
   "metadata": {},
   "outputs": [
    {
     "data": {
      "text/plain": [
       "<AxesSubplot:xlabel='Length3'>"
      ]
     },
     "execution_count": 408,
     "metadata": {},
     "output_type": "execute_result"
    },
    {
     "data": {
      "image/png": "[encoded data removed]",
      "text/plain": [
       "<Figure size 432x288 with 1 Axes>"
      ]
     },
     "metadata": {
      "needs_background": "light"
     },
     "output_type": "display_data"
    }
   ],
   "source": [
    "sns.boxplot(raw_df['Length3'])"
   ]
  },
  {
   "cell_type": "code",
   "execution_count": 409,
   "id": "fd3e1748",
   "metadata": {},
   "outputs": [
    {
     "name": "stdout",
     "output_type": "stream",
     "text": [
      "q1 23.15\n",
      "q2 29.4\n",
      "q3 39.650000000000006\n",
      "Median 29.4\n",
      "upper_tail 64.40000000000002\n",
      "lower_tail -1.600000000000012\n"
     ]
    }
   ],
   "source": [
    "q1 = raw_df['Length3'].quantile(0.25)\n",
    "q2 = raw_df['Length3'].quantile(0.50)\n",
    "q3 = raw_df['Length3'].quantile(0.75)\n",
    "\n",
    "IQR = q3 - q1\n",
    "\n",
    "upper_tail = q3 + 1.5*IQR\n",
    "lower_tail = q1 - 1.5*IQR\n",
    "\n",
    "median = raw_df['Length3'].median()\n",
    "\n",
    "print('q1', q1)\n",
    "print('q2', q2)\n",
    "print('q3', q3)\n",
    "print(\"Median\", median)\n",
    "print('upper_tail', upper_tail)\n",
    "print('lower_tail', lower_tail) "
   ]
  },
  {
   "cell_type": "code",
   "execution_count": 410,
   "id": "6638ad89",
   "metadata": {},
   "outputs": [
    {
     "data": {
      "text/html": [
       "<div>\n",
       "<style scoped>\n",
       "    .dataframe tbody tr th:only-of-type {\n",
       "        vertical-align: middle;\n",
       "    }\n",
       "\n",
       "    .dataframe tbody tr th {\n",
       "        vertical-align: top;\n",
       "    }\n",
       "\n",
       "    .dataframe thead th {\n",
       "        text-align: right;\n",
       "    }\n",
       "</style>\n",
       "<table border=\"1\" class=\"dataframe\">\n",
       "  <thead>\n",
       "    <tr style=\"text-align: right;\">\n",
       "      <th></th>\n",
       "      <th>Length3</th>\n",
       "    </tr>\n",
       "  </thead>\n",
       "  <tbody>\n",
       "    <tr>\n",
       "      <th>144</th>\n",
       "      <td>68.0</td>\n",
       "    </tr>\n",
       "  </tbody>\n",
       "</table>\n",
       "</div>"
      ],
      "text/plain": [
       "     Length3\n",
       "144     68.0"
      ]
     },
     "execution_count": 410,
     "metadata": {},
     "output_type": "execute_result"
    }
   ],
   "source": [
    "raw_df[['Length3']].loc[raw_df['Length3'] > upper_tail]"
   ]
  },
  {
   "cell_type": "code",
   "execution_count": 411,
   "id": "23aac6eb",
   "metadata": {},
   "outputs": [
    {
     "name": "stdout",
     "output_type": "stream",
     "text": [
      "Empty DataFrame\n",
      "Columns: [Length2]\n",
      "Index: []\n"
     ]
    }
   ],
   "source": [
    "raw_df.loc[raw_df['Length2'] > upper_tail, 'Length2'] = upper_tail\n",
    "print(raw_df[['Length2']].loc[raw_df['Length2'] > upper_tail ])"
   ]
  },
  {
   "cell_type": "code",
   "execution_count": 412,
   "id": "6bb6a01f",
   "metadata": {},
   "outputs": [
    {
     "data": {
      "text/plain": [
       "0      4.0200\n",
       "1      4.3056\n",
       "2      4.6961\n",
       "3      4.4555\n",
       "4      5.1340\n",
       "        ...  \n",
       "154    1.3936\n",
       "155    1.2690\n",
       "156    1.2558\n",
       "157    2.0672\n",
       "158    1.8792\n",
       "Name: Width, Length: 159, dtype: float64"
      ]
     },
     "execution_count": 412,
     "metadata": {},
     "output_type": "execute_result"
    }
   ],
   "source": [
    "raw_df['Width']"
   ]
  },
  {
   "cell_type": "code",
   "execution_count": 413,
   "id": "56beafdc",
   "metadata": {},
   "outputs": [
    {
     "data": {
      "text/plain": [
       "<AxesSubplot:xlabel='Width', ylabel='Density'>"
      ]
     },
     "execution_count": 413,
     "metadata": {},
     "output_type": "execute_result"
    },
    {
     "data": {
      "image/png": "[encoded data removed]",
      "text/plain": [
       "<Figure size 432x288 with 1 Axes>"
      ]
     },
     "metadata": {
      "needs_background": "light"
     },
     "output_type": "display_data"
    }
   ],
   "source": [
    "sns.kdeplot(raw_df['Width'])"
   ]
  },
  {
   "cell_type": "code",
   "execution_count": 414,
   "id": "0764f2d9",
   "metadata": {},
   "outputs": [
    {
     "data": {
      "text/plain": [
       "<AxesSubplot:xlabel='Width'>"
      ]
     },
     "execution_count": 414,
     "metadata": {},
     "output_type": "execute_result"
    },
    {
     "data": {
      "image/png": "[encoded data removed]",
      "text/plain": [
       "<Figure size 432x288 with 1 Axes>"
      ]
     },
     "metadata": {
      "needs_background": "light"
     },
     "output_type": "display_data"
    }
   ],
   "source": [
    "sns.boxplot(raw_df['Width'])"
   ]
  },
  {
   "cell_type": "code",
   "execution_count": 415,
   "id": "cfbfbf5e",
   "metadata": {},
   "outputs": [
    {
     "data": {
      "text/plain": [
       "0      11.5200\n",
       "1      12.4800\n",
       "2      12.3778\n",
       "3      12.7300\n",
       "4      12.4440\n",
       "        ...   \n",
       "154     2.0904\n",
       "155     2.4300\n",
       "156     2.2770\n",
       "157     2.8728\n",
       "158     2.9322\n",
       "Name: Height, Length: 159, dtype: float64"
      ]
     },
     "execution_count": 415,
     "metadata": {},
     "output_type": "execute_result"
    }
   ],
   "source": [
    "raw_df['Height']"
   ]
  },
  {
   "cell_type": "code",
   "execution_count": 416,
   "id": "4fa72db3",
   "metadata": {},
   "outputs": [
    {
     "data": {
      "text/plain": [
       "<AxesSubplot:xlabel='Height', ylabel='Density'>"
      ]
     },
     "execution_count": 416,
     "metadata": {},
     "output_type": "execute_result"
    },
    {
     "data": {
      "image/png": "[encoded data removed]",
      "text/plain": [
       "<Figure size 432x288 with 1 Axes>"
      ]
     },
     "metadata": {
      "needs_background": "light"
     },
     "output_type": "display_data"
    }
   ],
   "source": [
    "sns.kdeplot(raw_df['Height'])"
   ]
  },
  {
   "cell_type": "code",
   "execution_count": 417,
   "id": "f129590b",
   "metadata": {},
   "outputs": [
    {
     "data": {
      "text/plain": [
       "<AxesSubplot:xlabel='Height'>"
      ]
     },
     "execution_count": 417,
     "metadata": {},
     "output_type": "execute_result"
    },
    {
     "data": {
      "image/png": "[encoded data removed]",
      "text/plain": [
       "<Figure size 432x288 with 1 Axes>"
      ]
     },
     "metadata": {
      "needs_background": "light"
     },
     "output_type": "display_data"
    }
   ],
   "source": [
    "sns.boxplot(raw_df['Height'])"
   ]
  },
  {
   "cell_type": "code",
   "execution_count": 418,
   "id": "e68dba5f",
   "metadata": {},
   "outputs": [
    {
     "name": "stdout",
     "output_type": "stream",
     "text": [
      "(127, 12)\n",
      "(32, 12)\n"
     ]
    }
   ],
   "source": [
    "# Train Test Split\n",
    "x = raw_df.drop('Weight', axis = 1)\n",
    "y = raw_df['Weight']\n",
    "\n",
    "x_train, x_test, y_train, y_test = train_test_split(x,y, test_size = 0.2, random_state = 20)\n",
    "\n",
    "print(x_train.shape)\n",
    "print(x_test.shape)"
   ]
  },
  {
   "cell_type": "code",
   "execution_count": 419,
   "id": "615bddb2",
   "metadata": {},
   "outputs": [
    {
     "data": {
      "text/html": [
       "<style>#sk-container-id-28 {color: black;background-color: white;}#sk-container-id-28 pre{padding: 0;}#sk-container-id-28 div.sk-toggleable {background-color: white;}#sk-container-id-28 label.sk-toggleable__label {cursor: pointer;display: block;width: 100%;margin-bottom: 0;padding: 0.3em;box-sizing: border-box;text-align: center;}#sk-container-id-28 label.sk-toggleable__label-arrow:before {content: \"▸\";float: left;margin-right: 0.25em;color: #696969;}#sk-container-id-28 label.sk-toggleable__label-arrow:hover:before {color: black;}#sk-container-id-28 div.sk-estimator:hover label.sk-toggleable__label-arrow:before {color: black;}#sk-container-id-28 div.sk-toggleable__content {max-height: 0;max-width: 0;overflow: hidden;text-align: left;background-color: #f0f8ff;}#sk-container-id-28 div.sk-toggleable__content pre {margin: 0.2em;color: black;border-radius: 0.25em;background-color: #f0f8ff;}#sk-container-id-28 input.sk-toggleable__control:checked~div.sk-toggleable__content {max-height: 200px;max-width: 100%;overflow: auto;}#sk-container-id-28 input.sk-toggleable__control:checked~label.sk-toggleable__label-arrow:before {content: \"▾\";}#sk-container-id-28 div.sk-estimator input.sk-toggleable__control:checked~label.sk-toggleable__label {background-color: #d4ebff;}#sk-container-id-28 div.sk-label input.sk-toggleable__control:checked~label.sk-toggleable__label {background-color: #d4ebff;}#sk-container-id-28 input.sk-hidden--visually {border: 0;clip: rect(1px 1px 1px 1px);clip: rect(1px, 1px, 1px, 1px);height: 1px;margin: -1px;overflow: hidden;padding: 0;position: absolute;width: 1px;}#sk-container-id-28 div.sk-estimator {font-family: monospace;background-color: #f0f8ff;border: 1px dotted black;border-radius: 0.25em;box-sizing: border-box;margin-bottom: 0.5em;}#sk-container-id-28 div.sk-estimator:hover {background-color: #d4ebff;}#sk-container-id-28 div.sk-parallel-item::after {content: \"\";width: 100%;border-bottom: 1px solid gray;flex-grow: 1;}#sk-container-id-28 div.sk-label:hover label.sk-toggleable__label {background-color: #d4ebff;}#sk-container-id-28 div.sk-serial::before {content: \"\";position: absolute;border-left: 1px solid gray;box-sizing: border-box;top: 0;bottom: 0;left: 50%;z-index: 0;}#sk-container-id-28 div.sk-serial {display: flex;flex-direction: column;align-items: center;background-color: white;padding-right: 0.2em;padding-left: 0.2em;position: relative;}#sk-container-id-28 div.sk-item {position: relative;z-index: 1;}#sk-container-id-28 div.sk-parallel {display: flex;align-items: stretch;justify-content: center;background-color: white;position: relative;}#sk-container-id-28 div.sk-item::before, #sk-container-id-28 div.sk-parallel-item::before {content: \"\";position: absolute;border-left: 1px solid gray;box-sizing: border-box;top: 0;bottom: 0;left: 50%;z-index: -1;}#sk-container-id-28 div.sk-parallel-item {display: flex;flex-direction: column;z-index: 1;position: relative;background-color: white;}#sk-container-id-28 div.sk-parallel-item:first-child::after {align-self: flex-end;width: 50%;}#sk-container-id-28 div.sk-parallel-item:last-child::after {align-self: flex-start;width: 50%;}#sk-container-id-28 div.sk-parallel-item:only-child::after {width: 0;}#sk-container-id-28 div.sk-dashed-wrapped {border: 1px dashed gray;margin: 0 0.4em 0.5em 0.4em;box-sizing: border-box;padding-bottom: 0.4em;background-color: white;}#sk-container-id-28 div.sk-label label {font-family: monospace;font-weight: bold;display: inline-block;line-height: 1.2em;}#sk-container-id-28 div.sk-label-container {text-align: center;}#sk-container-id-28 div.sk-container {/* jupyter's `normalize.less` sets `[hidden] { display: none; }` but bootstrap.min.css set `[hidden] { display: none !important; }` so we also need the `!important` here to be able to override the default hidden behavior on the sphinx rendered scikit-learn.org. See: https://github.com/scikit-learn/scikit-learn/issues/21755 */display: inline-block !important;position: relative;}#sk-container-id-28 div.sk-text-repr-fallback {display: none;}</style><div id=\"sk-container-id-28\" class=\"sk-top-container\"><div class=\"sk-text-repr-fallback\"><pre>LinearRegression()</pre><b>In a Jupyter environment, please rerun this cell to show the HTML representation or trust the notebook. <br />On GitHub, the HTML representation is unable to render, please try loading this page with nbviewer.org.</b></div><div class=\"sk-container\" hidden><div class=\"sk-item\"><div class=\"sk-estimator sk-toggleable\"><input class=\"sk-toggleable__control sk-hidden--visually\" id=\"sk-estimator-id-28\" type=\"checkbox\" checked><label for=\"sk-estimator-id-28\" class=\"sk-toggleable__label sk-toggleable__label-arrow\">LinearRegression</label><div class=\"sk-toggleable__content\"><pre>LinearRegression()</pre></div></div></div></div></div>"
      ],
      "text/plain": [
       "LinearRegression()"
      ]
     },
     "execution_count": 419,
     "metadata": {},
     "output_type": "execute_result"
    }
   ],
   "source": [
    "\n",
    "Linear_reg_wot = LinearRegression()\n",
    "Linear_reg_wot.fit(x_train, y_train)"
   ]
  },
  {
   "cell_type": "code",
   "execution_count": 420,
   "id": "82b37a30",
   "metadata": {},
   "outputs": [
    {
     "name": "stdout",
     "output_type": "stream",
     "text": [
      "Mean Squared Error : 8979.225168075336\n",
      "Root Mean Squared Error : 94.7587735678092\n",
      "Mean Absolute Error : 71.78962664945806\n",
      "R Squared Value : 0.9325425224137605\n",
      "Adjusted R-Squared Value : 0.8899377997277145\n",
      "R2 : 0.9325425224137605\n"
     ]
    }
   ],
   "source": [
    "## Model Evaluation on Testing Data\n",
    "\n",
    "y_pred = Linear_reg_wot.predict(x_test)\n",
    "\n",
    "mse = mean_squared_error(y_test, y_pred)\n",
    "print(\"Mean Squared Error :\",mse)\n",
    "\n",
    "rmse = np.sqrt(mse)\n",
    "print(\"Root Mean Squared Error :\",rmse)\n",
    "\n",
    "mae = mean_absolute_error(y_test, y_pred)\n",
    "print(\"Mean Absolute Error :\",mae)\n",
    "\n",
    "r_squared_value = r2_score(y_test, y_pred)\n",
    "print(\"R Squared Value :\",r_squared_value)\n",
    "\n",
    "adj_r2 = 1 - (((1-r_squared_value) * (x_test.shape[0] - 1))/(x_test.shape[0]- x_test.shape[1] - 1))\n",
    "print(\"Adjusted R-Squared Value :\",adj_r2)\n",
    "\n",
    "r2 = linear_reg_model.score(x_test, y_test) # Without Predict Function\n",
    "print(\"R2 :\",r2)"
   ]
  },
  {
   "cell_type": "markdown",
   "id": "232e24ed",
   "metadata": {},
   "source": [
    "#### Model Evaluation on Training Data"
   ]
  },
  {
   "cell_type": "code",
   "execution_count": 421,
   "id": "a00fdf2f",
   "metadata": {},
   "outputs": [
    {
     "name": "stdout",
     "output_type": "stream",
     "text": [
      "Mean Squared Error : 6122.032815739935\n",
      "Root Mean Squared Error : 78.2434202712275\n",
      "Mean Absolute Error : 59.356455375319925\n",
      "R Squared Value : 0.9479313399683943\n",
      "Adjusted R-Squared Value : 0.94245042838612\n",
      "R2 : 0.9479313399683943\n"
     ]
    }
   ],
   "source": [
    "## Model Evaluation on Training Data\n",
    "\n",
    "y_pred_train = Linear_reg_wot.predict(x_train) # 404 rows\n",
    "\n",
    "mse = mean_squared_error(y_train, y_pred_train)\n",
    "print(\"Mean Squared Error :\",mse)\n",
    "\n",
    "rmse = np.sqrt(mse)\n",
    "print(\"Root Mean Squared Error :\",rmse)\n",
    "\n",
    "mae = mean_absolute_error(y_train, y_pred_train)\n",
    "print(\"Mean Absolute Error :\",mae)\n",
    "\n",
    "r_squared_value = r2_score(y_train, y_pred_train)\n",
    "print(\"R Squared Value :\",r_squared_value)\n",
    "\n",
    "adj_r2 = 1 - (((1-r_squared_value) * (x_train.shape[0] - 1))/(x_train.shape[0]- x_train.shape[1] - 1))\n",
    "print(\"Adjusted R-Squared Value :\",adj_r2)\n",
    "\n",
    "r2 = linear_reg_model.score(x_train, y_train)\n",
    "print(\"R2 :\",r2)"
   ]
  },
  {
   "cell_type": "markdown",
   "id": "524f1f5f",
   "metadata": {},
   "source": [
    "### Ridge Regression with HyperParamer Tuning"
   ]
  },
  {
   "cell_type": "code",
   "execution_count": 422,
   "id": "817bb128",
   "metadata": {},
   "outputs": [
    {
     "data": {
      "text/html": [
       "<style>#sk-container-id-29 {color: black;background-color: white;}#sk-container-id-29 pre{padding: 0;}#sk-container-id-29 div.sk-toggleable {background-color: white;}#sk-container-id-29 label.sk-toggleable__label {cursor: pointer;display: block;width: 100%;margin-bottom: 0;padding: 0.3em;box-sizing: border-box;text-align: center;}#sk-container-id-29 label.sk-toggleable__label-arrow:before {content: \"▸\";float: left;margin-right: 0.25em;color: #696969;}#sk-container-id-29 label.sk-toggleable__label-arrow:hover:before {color: black;}#sk-container-id-29 div.sk-estimator:hover label.sk-toggleable__label-arrow:before {color: black;}#sk-container-id-29 div.sk-toggleable__content {max-height: 0;max-width: 0;overflow: hidden;text-align: left;background-color: #f0f8ff;}#sk-container-id-29 div.sk-toggleable__content pre {margin: 0.2em;color: black;border-radius: 0.25em;background-color: #f0f8ff;}#sk-container-id-29 input.sk-toggleable__control:checked~div.sk-toggleable__content {max-height: 200px;max-width: 100%;overflow: auto;}#sk-container-id-29 input.sk-toggleable__control:checked~label.sk-toggleable__label-arrow:before {content: \"▾\";}#sk-container-id-29 div.sk-estimator input.sk-toggleable__control:checked~label.sk-toggleable__label {background-color: #d4ebff;}#sk-container-id-29 div.sk-label input.sk-toggleable__control:checked~label.sk-toggleable__label {background-color: #d4ebff;}#sk-container-id-29 input.sk-hidden--visually {border: 0;clip: rect(1px 1px 1px 1px);clip: rect(1px, 1px, 1px, 1px);height: 1px;margin: -1px;overflow: hidden;padding: 0;position: absolute;width: 1px;}#sk-container-id-29 div.sk-estimator {font-family: monospace;background-color: #f0f8ff;border: 1px dotted black;border-radius: 0.25em;box-sizing: border-box;margin-bottom: 0.5em;}#sk-container-id-29 div.sk-estimator:hover {background-color: #d4ebff;}#sk-container-id-29 div.sk-parallel-item::after {content: \"\";width: 100%;border-bottom: 1px solid gray;flex-grow: 1;}#sk-container-id-29 div.sk-label:hover label.sk-toggleable__label {background-color: #d4ebff;}#sk-container-id-29 div.sk-serial::before {content: \"\";position: absolute;border-left: 1px solid gray;box-sizing: border-box;top: 0;bottom: 0;left: 50%;z-index: 0;}#sk-container-id-29 div.sk-serial {display: flex;flex-direction: column;align-items: center;background-color: white;padding-right: 0.2em;padding-left: 0.2em;position: relative;}#sk-container-id-29 div.sk-item {position: relative;z-index: 1;}#sk-container-id-29 div.sk-parallel {display: flex;align-items: stretch;justify-content: center;background-color: white;position: relative;}#sk-container-id-29 div.sk-item::before, #sk-container-id-29 div.sk-parallel-item::before {content: \"\";position: absolute;border-left: 1px solid gray;box-sizing: border-box;top: 0;bottom: 0;left: 50%;z-index: -1;}#sk-container-id-29 div.sk-parallel-item {display: flex;flex-direction: column;z-index: 1;position: relative;background-color: white;}#sk-container-id-29 div.sk-parallel-item:first-child::after {align-self: flex-end;width: 50%;}#sk-container-id-29 div.sk-parallel-item:last-child::after {align-self: flex-start;width: 50%;}#sk-container-id-29 div.sk-parallel-item:only-child::after {width: 0;}#sk-container-id-29 div.sk-dashed-wrapped {border: 1px dashed gray;margin: 0 0.4em 0.5em 0.4em;box-sizing: border-box;padding-bottom: 0.4em;background-color: white;}#sk-container-id-29 div.sk-label label {font-family: monospace;font-weight: bold;display: inline-block;line-height: 1.2em;}#sk-container-id-29 div.sk-label-container {text-align: center;}#sk-container-id-29 div.sk-container {/* jupyter's `normalize.less` sets `[hidden] { display: none; }` but bootstrap.min.css set `[hidden] { display: none !important; }` so we also need the `!important` here to be able to override the default hidden behavior on the sphinx rendered scikit-learn.org. See: https://github.com/scikit-learn/scikit-learn/issues/21755 */display: inline-block !important;position: relative;}#sk-container-id-29 div.sk-text-repr-fallback {display: none;}</style><div id=\"sk-container-id-29\" class=\"sk-top-container\"><div class=\"sk-text-repr-fallback\"><pre>Ridge(alpha=0.6900000000000001)</pre><b>In a Jupyter environment, please rerun this cell to show the HTML representation or trust the notebook. <br />On GitHub, the HTML representation is unable to render, please try loading this page with nbviewer.org.</b></div><div class=\"sk-container\" hidden><div class=\"sk-item\"><div class=\"sk-estimator sk-toggleable\"><input class=\"sk-toggleable__control sk-hidden--visually\" id=\"sk-estimator-id-29\" type=\"checkbox\" checked><label for=\"sk-estimator-id-29\" class=\"sk-toggleable__label sk-toggleable__label-arrow\">Ridge</label><div class=\"sk-toggleable__content\"><pre>Ridge(alpha=0.6900000000000001)</pre></div></div></div></div></div>"
      ],
      "text/plain": [
       "Ridge(alpha=0.6900000000000001)"
      ]
     },
     "execution_count": 422,
     "metadata": {},
     "output_type": "execute_result"
    }
   ],
   "source": [
    "ridge_reg_HP = Ridge()\n",
    "parameters = {'alpha': np.arange(0.01,3,0.01)}\n",
    "gscv_ridge = GridSearchCV(ridge_reg_HP, parameters, cv= 5)\n",
    "gscv_ridge.fit(x_train, y_train)\n",
    "gscv_ridge.best_estimator_"
   ]
  },
  {
   "cell_type": "code",
   "execution_count": 423,
   "id": "4acd363a",
   "metadata": {},
   "outputs": [
    {
     "data": {
      "text/html": [
       "<style>#sk-container-id-30 {color: black;background-color: white;}#sk-container-id-30 pre{padding: 0;}#sk-container-id-30 div.sk-toggleable {background-color: white;}#sk-container-id-30 label.sk-toggleable__label {cursor: pointer;display: block;width: 100%;margin-bottom: 0;padding: 0.3em;box-sizing: border-box;text-align: center;}#sk-container-id-30 label.sk-toggleable__label-arrow:before {content: \"▸\";float: left;margin-right: 0.25em;color: #696969;}#sk-container-id-30 label.sk-toggleable__label-arrow:hover:before {color: black;}#sk-container-id-30 div.sk-estimator:hover label.sk-toggleable__label-arrow:before {color: black;}#sk-container-id-30 div.sk-toggleable__content {max-height: 0;max-width: 0;overflow: hidden;text-align: left;background-color: #f0f8ff;}#sk-container-id-30 div.sk-toggleable__content pre {margin: 0.2em;color: black;border-radius: 0.25em;background-color: #f0f8ff;}#sk-container-id-30 input.sk-toggleable__control:checked~div.sk-toggleable__content {max-height: 200px;max-width: 100%;overflow: auto;}#sk-container-id-30 input.sk-toggleable__control:checked~label.sk-toggleable__label-arrow:before {content: \"▾\";}#sk-container-id-30 div.sk-estimator input.sk-toggleable__control:checked~label.sk-toggleable__label {background-color: #d4ebff;}#sk-container-id-30 div.sk-label input.sk-toggleable__control:checked~label.sk-toggleable__label {background-color: #d4ebff;}#sk-container-id-30 input.sk-hidden--visually {border: 0;clip: rect(1px 1px 1px 1px);clip: rect(1px, 1px, 1px, 1px);height: 1px;margin: -1px;overflow: hidden;padding: 0;position: absolute;width: 1px;}#sk-container-id-30 div.sk-estimator {font-family: monospace;background-color: #f0f8ff;border: 1px dotted black;border-radius: 0.25em;box-sizing: border-box;margin-bottom: 0.5em;}#sk-container-id-30 div.sk-estimator:hover {background-color: #d4ebff;}#sk-container-id-30 div.sk-parallel-item::after {content: \"\";width: 100%;border-bottom: 1px solid gray;flex-grow: 1;}#sk-container-id-30 div.sk-label:hover label.sk-toggleable__label {background-color: #d4ebff;}#sk-container-id-30 div.sk-serial::before {content: \"\";position: absolute;border-left: 1px solid gray;box-sizing: border-box;top: 0;bottom: 0;left: 50%;z-index: 0;}#sk-container-id-30 div.sk-serial {display: flex;flex-direction: column;align-items: center;background-color: white;padding-right: 0.2em;padding-left: 0.2em;position: relative;}#sk-container-id-30 div.sk-item {position: relative;z-index: 1;}#sk-container-id-30 div.sk-parallel {display: flex;align-items: stretch;justify-content: center;background-color: white;position: relative;}#sk-container-id-30 div.sk-item::before, #sk-container-id-30 div.sk-parallel-item::before {content: \"\";position: absolute;border-left: 1px solid gray;box-sizing: border-box;top: 0;bottom: 0;left: 50%;z-index: -1;}#sk-container-id-30 div.sk-parallel-item {display: flex;flex-direction: column;z-index: 1;position: relative;background-color: white;}#sk-container-id-30 div.sk-parallel-item:first-child::after {align-self: flex-end;width: 50%;}#sk-container-id-30 div.sk-parallel-item:last-child::after {align-self: flex-start;width: 50%;}#sk-container-id-30 div.sk-parallel-item:only-child::after {width: 0;}#sk-container-id-30 div.sk-dashed-wrapped {border: 1px dashed gray;margin: 0 0.4em 0.5em 0.4em;box-sizing: border-box;padding-bottom: 0.4em;background-color: white;}#sk-container-id-30 div.sk-label label {font-family: monospace;font-weight: bold;display: inline-block;line-height: 1.2em;}#sk-container-id-30 div.sk-label-container {text-align: center;}#sk-container-id-30 div.sk-container {/* jupyter's `normalize.less` sets `[hidden] { display: none; }` but bootstrap.min.css set `[hidden] { display: none !important; }` so we also need the `!important` here to be able to override the default hidden behavior on the sphinx rendered scikit-learn.org. See: https://github.com/scikit-learn/scikit-learn/issues/21755 */display: inline-block !important;position: relative;}#sk-container-id-30 div.sk-text-repr-fallback {display: none;}</style><div id=\"sk-container-id-30\" class=\"sk-top-container\"><div class=\"sk-text-repr-fallback\"><pre>Ridge(alpha=0.69)</pre><b>In a Jupyter environment, please rerun this cell to show the HTML representation or trust the notebook. <br />On GitHub, the HTML representation is unable to render, please try loading this page with nbviewer.org.</b></div><div class=\"sk-container\" hidden><div class=\"sk-item\"><div class=\"sk-estimator sk-toggleable\"><input class=\"sk-toggleable__control sk-hidden--visually\" id=\"sk-estimator-id-30\" type=\"checkbox\" checked><label for=\"sk-estimator-id-30\" class=\"sk-toggleable__label sk-toggleable__label-arrow\">Ridge</label><div class=\"sk-toggleable__content\"><pre>Ridge(alpha=0.69)</pre></div></div></div></div></div>"
      ],
      "text/plain": [
       "Ridge(alpha=0.69)"
      ]
     },
     "execution_count": 423,
     "metadata": {},
     "output_type": "execute_result"
    }
   ],
   "source": [
    "ridge_reg_HP = Ridge(alpha=0.69)\n",
    "ridge_reg_HP.fit(x_train,y_train)"
   ]
  },
  {
   "cell_type": "code",
   "execution_count": 424,
   "id": "562fb90f",
   "metadata": {},
   "outputs": [
    {
     "name": "stdout",
     "output_type": "stream",
     "text": [
      "MSE: 9484.892017970378\n",
      "RMSE: 97.39041029778228\n",
      "MAE: 73.23521418092302\n",
      "R_squared 0.9287436411568145\n"
     ]
    }
   ],
   "source": [
    "# Evaluation on test data with ridge reg_HP\n",
    "\n",
    "y_pred = ridge_reg_HP.predict(x_test)\n",
    "\n",
    "mse = mean_squared_error(y_test , y_pred)\n",
    "print(\"MSE:\", mse)\n",
    "\n",
    "rmse = np.sqrt(mse)\n",
    "print(\"RMSE:\", rmse)\n",
    "\n",
    "mae = mean_absolute_error(y_test , y_pred)\n",
    "print(\"MAE:\", mae)\n",
    "\n",
    "r2 = r2_score(y_test , y_pred)\n",
    "print(\"R_squared\", r2)"
   ]
  },
  {
   "cell_type": "code",
   "execution_count": 425,
   "id": "ce15b231",
   "metadata": {},
   "outputs": [
    {
     "name": "stdout",
     "output_type": "stream",
     "text": [
      "MSE: 6268.0109809048145\n",
      "RMSE: 79.17077100107599\n",
      "MAE: 60.89172059748585\n",
      "R_squared 0.946689777290967\n"
     ]
    }
   ],
   "source": [
    "# Evaluation on training data ridge reg_HP\n",
    "\n",
    "y_pred_train = ridge_reg_HP.predict(x_train)\n",
    "\n",
    "mse = mean_squared_error(y_train , y_pred_train)\n",
    "print(\"MSE:\", mse)\n",
    "\n",
    "rmse = np.sqrt(mse)\n",
    "print(\"RMSE:\", rmse)\n",
    "\n",
    "mae = mean_absolute_error(y_train , y_pred_train)\n",
    "print(\"MAE:\", mae)\n",
    "\n",
    "r2 = r2_score(y_train , y_pred_train)\n",
    "print(\"R_squared\", r2)"
   ]
  },
  {
   "cell_type": "markdown",
   "id": "413d8837",
   "metadata": {},
   "source": [
    "## 1.2 Lasso Regression"
   ]
  },
  {
   "cell_type": "code",
   "execution_count": 426,
   "id": "60ba9260",
   "metadata": {},
   "outputs": [
    {
     "data": {
      "text/html": [
       "<style>#sk-container-id-31 {color: black;background-color: white;}#sk-container-id-31 pre{padding: 0;}#sk-container-id-31 div.sk-toggleable {background-color: white;}#sk-container-id-31 label.sk-toggleable__label {cursor: pointer;display: block;width: 100%;margin-bottom: 0;padding: 0.3em;box-sizing: border-box;text-align: center;}#sk-container-id-31 label.sk-toggleable__label-arrow:before {content: \"▸\";float: left;margin-right: 0.25em;color: #696969;}#sk-container-id-31 label.sk-toggleable__label-arrow:hover:before {color: black;}#sk-container-id-31 div.sk-estimator:hover label.sk-toggleable__label-arrow:before {color: black;}#sk-container-id-31 div.sk-toggleable__content {max-height: 0;max-width: 0;overflow: hidden;text-align: left;background-color: #f0f8ff;}#sk-container-id-31 div.sk-toggleable__content pre {margin: 0.2em;color: black;border-radius: 0.25em;background-color: #f0f8ff;}#sk-container-id-31 input.sk-toggleable__control:checked~div.sk-toggleable__content {max-height: 200px;max-width: 100%;overflow: auto;}#sk-container-id-31 input.sk-toggleable__control:checked~label.sk-toggleable__label-arrow:before {content: \"▾\";}#sk-container-id-31 div.sk-estimator input.sk-toggleable__control:checked~label.sk-toggleable__label {background-color: #d4ebff;}#sk-container-id-31 div.sk-label input.sk-toggleable__control:checked~label.sk-toggleable__label {background-color: #d4ebff;}#sk-container-id-31 input.sk-hidden--visually {border: 0;clip: rect(1px 1px 1px 1px);clip: rect(1px, 1px, 1px, 1px);height: 1px;margin: -1px;overflow: hidden;padding: 0;position: absolute;width: 1px;}#sk-container-id-31 div.sk-estimator {font-family: monospace;background-color: #f0f8ff;border: 1px dotted black;border-radius: 0.25em;box-sizing: border-box;margin-bottom: 0.5em;}#sk-container-id-31 div.sk-estimator:hover {background-color: #d4ebff;}#sk-container-id-31 div.sk-parallel-item::after {content: \"\";width: 100%;border-bottom: 1px solid gray;flex-grow: 1;}#sk-container-id-31 div.sk-label:hover label.sk-toggleable__label {background-color: #d4ebff;}#sk-container-id-31 div.sk-serial::before {content: \"\";position: absolute;border-left: 1px solid gray;box-sizing: border-box;top: 0;bottom: 0;left: 50%;z-index: 0;}#sk-container-id-31 div.sk-serial {display: flex;flex-direction: column;align-items: center;background-color: white;padding-right: 0.2em;padding-left: 0.2em;position: relative;}#sk-container-id-31 div.sk-item {position: relative;z-index: 1;}#sk-container-id-31 div.sk-parallel {display: flex;align-items: stretch;justify-content: center;background-color: white;position: relative;}#sk-container-id-31 div.sk-item::before, #sk-container-id-31 div.sk-parallel-item::before {content: \"\";position: absolute;border-left: 1px solid gray;box-sizing: border-box;top: 0;bottom: 0;left: 50%;z-index: -1;}#sk-container-id-31 div.sk-parallel-item {display: flex;flex-direction: column;z-index: 1;position: relative;background-color: white;}#sk-container-id-31 div.sk-parallel-item:first-child::after {align-self: flex-end;width: 50%;}#sk-container-id-31 div.sk-parallel-item:last-child::after {align-self: flex-start;width: 50%;}#sk-container-id-31 div.sk-parallel-item:only-child::after {width: 0;}#sk-container-id-31 div.sk-dashed-wrapped {border: 1px dashed gray;margin: 0 0.4em 0.5em 0.4em;box-sizing: border-box;padding-bottom: 0.4em;background-color: white;}#sk-container-id-31 div.sk-label label {font-family: monospace;font-weight: bold;display: inline-block;line-height: 1.2em;}#sk-container-id-31 div.sk-label-container {text-align: center;}#sk-container-id-31 div.sk-container {/* jupyter's `normalize.less` sets `[hidden] { display: none; }` but bootstrap.min.css set `[hidden] { display: none !important; }` so we also need the `!important` here to be able to override the default hidden behavior on the sphinx rendered scikit-learn.org. See: https://github.com/scikit-learn/scikit-learn/issues/21755 */display: inline-block !important;position: relative;}#sk-container-id-31 div.sk-text-repr-fallback {display: none;}</style><div id=\"sk-container-id-31\" class=\"sk-top-container\"><div class=\"sk-text-repr-fallback\"><pre>Lasso(alpha=0.68)</pre><b>In a Jupyter environment, please rerun this cell to show the HTML representation or trust the notebook. <br />On GitHub, the HTML representation is unable to render, please try loading this page with nbviewer.org.</b></div><div class=\"sk-container\" hidden><div class=\"sk-item\"><div class=\"sk-estimator sk-toggleable\"><input class=\"sk-toggleable__control sk-hidden--visually\" id=\"sk-estimator-id-31\" type=\"checkbox\" checked><label for=\"sk-estimator-id-31\" class=\"sk-toggleable__label sk-toggleable__label-arrow\">Lasso</label><div class=\"sk-toggleable__content\"><pre>Lasso(alpha=0.68)</pre></div></div></div></div></div>"
      ],
      "text/plain": [
       "Lasso(alpha=0.68)"
      ]
     },
     "execution_count": 426,
     "metadata": {},
     "output_type": "execute_result"
    }
   ],
   "source": [
    "lasso_reg_HP = Lasso()\n",
    "\n",
    "param_lasso = {'alpha': np.arange(0.01,3,0.01)}\n",
    "\n",
    "gscv_lasso = GridSearchCV(lasso_reg_HP, param_lasso, cv = 5)\n",
    "gscv_lasso.fit(x_train, y_train)\n",
    "gscv_lasso.best_estimator_\n",
    "\n",
    "lasso_reg_HP = gscv_lasso.best_estimator_\n",
    "lasso_reg_HP.fit(x_train, y_train)"
   ]
  },
  {
   "cell_type": "code",
   "execution_count": 427,
   "id": "dbe88c6f",
   "metadata": {},
   "outputs": [
    {
     "name": "stdout",
     "output_type": "stream",
     "text": [
      "MSE: 9065.066914678695\n",
      "RMSE: 95.21064496514397\n",
      "MAE: 70.45415159916237\n",
      "R_squared 0.9318976262685955\n"
     ]
    }
   ],
   "source": [
    "# Evaluation on test data with lasso reg_HP\n",
    "\n",
    "y_pred = lasso_reg_HP.predict(x_test)\n",
    "\n",
    "mse = mean_squared_error(y_test , y_pred)\n",
    "print(\"MSE:\", mse)\n",
    "\n",
    "rmse = np.sqrt(mse)\n",
    "print(\"RMSE:\", rmse)\n",
    "\n",
    "mae = mean_absolute_error(y_test , y_pred)\n",
    "print(\"MAE:\", mae)\n",
    "\n",
    "r2 = r2_score(y_test , y_pred)\n",
    "print(\"R_squared\", r2)"
   ]
  },
  {
   "cell_type": "code",
   "execution_count": 428,
   "id": "84242001",
   "metadata": {},
   "outputs": [
    {
     "name": "stdout",
     "output_type": "stream",
     "text": [
      "MSE: 6214.59782177208\n",
      "RMSE: 78.83272050216256\n",
      "MAE: 59.61418636032475\n",
      "R_squared 0.9471440629355892\n"
     ]
    }
   ],
   "source": [
    "# Evaluation on training data lasso reg_HP\n",
    "\n",
    "y_pred_train = lasso_reg_HP.predict(x_train)\n",
    "\n",
    "mse = mean_squared_error(y_train , y_pred_train)\n",
    "print(\"MSE:\", mse)\n",
    "\n",
    "rmse = np.sqrt(mse)\n",
    "print(\"RMSE:\", rmse)\n",
    "\n",
    "mae = mean_absolute_error(y_train , y_pred_train)\n",
    "print(\"MAE:\", mae)\n",
    "\n",
    "r2 = r2_score(y_train , y_pred_train)\n",
    "print(\"R_squared\", r2)"
   ]
  },
  {
   "cell_type": "markdown",
   "id": "bd3856f6",
   "metadata": {},
   "source": [
    "## 2 KNN algorithm"
   ]
  },
  {
   "cell_type": "code",
   "execution_count": 429,
   "id": "0be582ed",
   "metadata": {},
   "outputs": [
    {
     "data": {
      "text/html": [
       "<style>#sk-container-id-32 {color: black;background-color: white;}#sk-container-id-32 pre{padding: 0;}#sk-container-id-32 div.sk-toggleable {background-color: white;}#sk-container-id-32 label.sk-toggleable__label {cursor: pointer;display: block;width: 100%;margin-bottom: 0;padding: 0.3em;box-sizing: border-box;text-align: center;}#sk-container-id-32 label.sk-toggleable__label-arrow:before {content: \"▸\";float: left;margin-right: 0.25em;color: #696969;}#sk-container-id-32 label.sk-toggleable__label-arrow:hover:before {color: black;}#sk-container-id-32 div.sk-estimator:hover label.sk-toggleable__label-arrow:before {color: black;}#sk-container-id-32 div.sk-toggleable__content {max-height: 0;max-width: 0;overflow: hidden;text-align: left;background-color: #f0f8ff;}#sk-container-id-32 div.sk-toggleable__content pre {margin: 0.2em;color: black;border-radius: 0.25em;background-color: #f0f8ff;}#sk-container-id-32 input.sk-toggleable__control:checked~div.sk-toggleable__content {max-height: 200px;max-width: 100%;overflow: auto;}#sk-container-id-32 input.sk-toggleable__control:checked~label.sk-toggleable__label-arrow:before {content: \"▾\";}#sk-container-id-32 div.sk-estimator input.sk-toggleable__control:checked~label.sk-toggleable__label {background-color: #d4ebff;}#sk-container-id-32 div.sk-label input.sk-toggleable__control:checked~label.sk-toggleable__label {background-color: #d4ebff;}#sk-container-id-32 input.sk-hidden--visually {border: 0;clip: rect(1px 1px 1px 1px);clip: rect(1px, 1px, 1px, 1px);height: 1px;margin: -1px;overflow: hidden;padding: 0;position: absolute;width: 1px;}#sk-container-id-32 div.sk-estimator {font-family: monospace;background-color: #f0f8ff;border: 1px dotted black;border-radius: 0.25em;box-sizing: border-box;margin-bottom: 0.5em;}#sk-container-id-32 div.sk-estimator:hover {background-color: #d4ebff;}#sk-container-id-32 div.sk-parallel-item::after {content: \"\";width: 100%;border-bottom: 1px solid gray;flex-grow: 1;}#sk-container-id-32 div.sk-label:hover label.sk-toggleable__label {background-color: #d4ebff;}#sk-container-id-32 div.sk-serial::before {content: \"\";position: absolute;border-left: 1px solid gray;box-sizing: border-box;top: 0;bottom: 0;left: 50%;z-index: 0;}#sk-container-id-32 div.sk-serial {display: flex;flex-direction: column;align-items: center;background-color: white;padding-right: 0.2em;padding-left: 0.2em;position: relative;}#sk-container-id-32 div.sk-item {position: relative;z-index: 1;}#sk-container-id-32 div.sk-parallel {display: flex;align-items: stretch;justify-content: center;background-color: white;position: relative;}#sk-container-id-32 div.sk-item::before, #sk-container-id-32 div.sk-parallel-item::before {content: \"\";position: absolute;border-left: 1px solid gray;box-sizing: border-box;top: 0;bottom: 0;left: 50%;z-index: -1;}#sk-container-id-32 div.sk-parallel-item {display: flex;flex-direction: column;z-index: 1;position: relative;background-color: white;}#sk-container-id-32 div.sk-parallel-item:first-child::after {align-self: flex-end;width: 50%;}#sk-container-id-32 div.sk-parallel-item:last-child::after {align-self: flex-start;width: 50%;}#sk-container-id-32 div.sk-parallel-item:only-child::after {width: 0;}#sk-container-id-32 div.sk-dashed-wrapped {border: 1px dashed gray;margin: 0 0.4em 0.5em 0.4em;box-sizing: border-box;padding-bottom: 0.4em;background-color: white;}#sk-container-id-32 div.sk-label label {font-family: monospace;font-weight: bold;display: inline-block;line-height: 1.2em;}#sk-container-id-32 div.sk-label-container {text-align: center;}#sk-container-id-32 div.sk-container {/* jupyter's `normalize.less` sets `[hidden] { display: none; }` but bootstrap.min.css set `[hidden] { display: none !important; }` so we also need the `!important` here to be able to override the default hidden behavior on the sphinx rendered scikit-learn.org. See: https://github.com/scikit-learn/scikit-learn/issues/21755 */display: inline-block !important;position: relative;}#sk-container-id-32 div.sk-text-repr-fallback {display: none;}</style><div id=\"sk-container-id-32\" class=\"sk-top-container\"><div class=\"sk-text-repr-fallback\"><pre>KNeighborsRegressor()</pre><b>In a Jupyter environment, please rerun this cell to show the HTML representation or trust the notebook. <br />On GitHub, the HTML representation is unable to render, please try loading this page with nbviewer.org.</b></div><div class=\"sk-container\" hidden><div class=\"sk-item\"><div class=\"sk-estimator sk-toggleable\"><input class=\"sk-toggleable__control sk-hidden--visually\" id=\"sk-estimator-id-32\" type=\"checkbox\" checked><label for=\"sk-estimator-id-32\" class=\"sk-toggleable__label sk-toggleable__label-arrow\">KNeighborsRegressor</label><div class=\"sk-toggleable__content\"><pre>KNeighborsRegressor()</pre></div></div></div></div></div>"
      ],
      "text/plain": [
       "KNeighborsRegressor()"
      ]
     },
     "execution_count": 429,
     "metadata": {},
     "output_type": "execute_result"
    }
   ],
   "source": [
    "knn_reg = KNeighborsRegressor()\n",
    "knn_reg.fit(x_train, y_train)"
   ]
  },
  {
   "cell_type": "code",
   "execution_count": 430,
   "id": "7235a9fd",
   "metadata": {},
   "outputs": [
    {
     "name": "stdout",
     "output_type": "stream",
     "text": [
      "MSE: 6704.910787500001\n",
      "RMSE: 81.88351963307392\n",
      "MAE: 48.916875000000005\n",
      "R_squared 0.9496285747712834\n"
     ]
    }
   ],
   "source": [
    "# Evaluation on test data with KNN reg\n",
    "\n",
    "y_pred = knn_reg.predict(x_test)\n",
    "\n",
    "mse = mean_squared_error(y_test , y_pred)\n",
    "print(\"MSE:\", mse)\n",
    "\n",
    "rmse = np.sqrt(mse)\n",
    "print(\"RMSE:\", rmse)\n",
    "\n",
    "mae = mean_absolute_error(y_test , y_pred)\n",
    "print(\"MAE:\", mae)\n",
    "\n",
    "r2 = r2_score(y_test , y_pred)\n",
    "print(\"R_squared\", r2)"
   ]
  },
  {
   "cell_type": "code",
   "execution_count": 431,
   "id": "1558eb7f",
   "metadata": {},
   "outputs": [
    {
     "name": "stdout",
     "output_type": "stream",
     "text": [
      "MSE: 3401.3186488188976\n",
      "RMSE: 58.320825172650785\n",
      "MAE: 33.41023622047244\n",
      "R_squared 0.9710713565714354\n"
     ]
    }
   ],
   "source": [
    "# Evaluation on training data KNN reg\n",
    "\n",
    "y_pred_train = knn_reg.predict(x_train)\n",
    "\n",
    "mse = mean_squared_error(y_train , y_pred_train)\n",
    "print(\"MSE:\", mse)\n",
    "\n",
    "rmse = np.sqrt(mse)\n",
    "print(\"RMSE:\", rmse)\n",
    "\n",
    "mae = mean_absolute_error(y_train , y_pred_train)\n",
    "print(\"MAE:\", mae)\n",
    "\n",
    "r2 = r2_score(y_train , y_pred_train)\n",
    "print(\"R_squared\", r2)"
   ]
  },
  {
   "cell_type": "markdown",
   "id": "203af343",
   "metadata": {},
   "source": [
    "### Scaling"
   ]
  },
  {
   "cell_type": "raw",
   "id": "40b2fab3",
   "metadata": {},
   "source": [
    "we are handling outliers so we are go with normalization"
   ]
  },
  {
   "cell_type": "code",
   "execution_count": 433,
   "id": "0e848a04",
   "metadata": {},
   "outputs": [
    {
     "data": {
      "text/html": [
       "<div>\n",
       "<style scoped>\n",
       "    .dataframe tbody tr th:only-of-type {\n",
       "        vertical-align: middle;\n",
       "    }\n",
       "\n",
       "    .dataframe tbody tr th {\n",
       "        vertical-align: top;\n",
       "    }\n",
       "\n",
       "    .dataframe thead th {\n",
       "        text-align: right;\n",
       "    }\n",
       "</style>\n",
       "<table border=\"1\" class=\"dataframe\">\n",
       "  <thead>\n",
       "    <tr style=\"text-align: right;\">\n",
       "      <th></th>\n",
       "      <th>Length1</th>\n",
       "      <th>Length2</th>\n",
       "      <th>Length3</th>\n",
       "      <th>Height</th>\n",
       "      <th>Width</th>\n",
       "      <th>Species_Bream</th>\n",
       "      <th>Species_Parkki</th>\n",
       "      <th>Species_Perch</th>\n",
       "      <th>Species_Pike</th>\n",
       "      <th>Species_Roach</th>\n",
       "      <th>Species_Smelt</th>\n",
       "      <th>Species_Whitefish</th>\n",
       "    </tr>\n",
       "  </thead>\n",
       "  <tbody>\n",
       "    <tr>\n",
       "      <th>0</th>\n",
       "      <td>0.251779</td>\n",
       "      <td>0.251791</td>\n",
       "      <td>0.243243</td>\n",
       "      <td>0.394861</td>\n",
       "      <td>0.332953</td>\n",
       "      <td>0.0</td>\n",
       "      <td>1.0</td>\n",
       "      <td>0.0</td>\n",
       "      <td>0.0</td>\n",
       "      <td>0.0</td>\n",
       "      <td>0.0</td>\n",
       "      <td>0.0</td>\n",
       "    </tr>\n",
       "    <tr>\n",
       "      <th>1</th>\n",
       "      <td>0.295567</td>\n",
       "      <td>0.288639</td>\n",
       "      <td>0.273649</td>\n",
       "      <td>0.279425</td>\n",
       "      <td>0.337488</td>\n",
       "      <td>0.0</td>\n",
       "      <td>0.0</td>\n",
       "      <td>0.0</td>\n",
       "      <td>0.0</td>\n",
       "      <td>1.0</td>\n",
       "      <td>0.0</td>\n",
       "      <td>0.0</td>\n",
       "    </tr>\n",
       "    <tr>\n",
       "      <th>2</th>\n",
       "      <td>0.444444</td>\n",
       "      <td>0.442170</td>\n",
       "      <td>0.385135</td>\n",
       "      <td>0.341313</td>\n",
       "      <td>0.551859</td>\n",
       "      <td>0.0</td>\n",
       "      <td>0.0</td>\n",
       "      <td>1.0</td>\n",
       "      <td>0.0</td>\n",
       "      <td>0.0</td>\n",
       "      <td>0.0</td>\n",
       "      <td>0.0</td>\n",
       "    </tr>\n",
       "    <tr>\n",
       "      <th>3</th>\n",
       "      <td>0.387521</td>\n",
       "      <td>0.386899</td>\n",
       "      <td>0.336149</td>\n",
       "      <td>0.382398</td>\n",
       "      <td>0.606052</td>\n",
       "      <td>0.0</td>\n",
       "      <td>0.0</td>\n",
       "      <td>1.0</td>\n",
       "      <td>0.0</td>\n",
       "      <td>0.0</td>\n",
       "      <td>0.0</td>\n",
       "      <td>0.0</td>\n",
       "    </tr>\n",
       "    <tr>\n",
       "      <th>4</th>\n",
       "      <td>0.391899</td>\n",
       "      <td>0.390993</td>\n",
       "      <td>0.339527</td>\n",
       "      <td>0.308557</td>\n",
       "      <td>0.487159</td>\n",
       "      <td>0.0</td>\n",
       "      <td>0.0</td>\n",
       "      <td>1.0</td>\n",
       "      <td>0.0</td>\n",
       "      <td>0.0</td>\n",
       "      <td>0.0</td>\n",
       "      <td>0.0</td>\n",
       "    </tr>\n",
       "    <tr>\n",
       "      <th>...</th>\n",
       "      <td>...</td>\n",
       "      <td>...</td>\n",
       "      <td>...</td>\n",
       "      <td>...</td>\n",
       "      <td>...</td>\n",
       "      <td>...</td>\n",
       "      <td>...</td>\n",
       "      <td>...</td>\n",
       "      <td>...</td>\n",
       "      <td>...</td>\n",
       "      <td>...</td>\n",
       "      <td>...</td>\n",
       "    </tr>\n",
       "    <tr>\n",
       "      <th>122</th>\n",
       "      <td>0.063492</td>\n",
       "      <td>0.053224</td>\n",
       "      <td>0.054054</td>\n",
       "      <td>0.026553</td>\n",
       "      <td>0.049258</td>\n",
       "      <td>0.0</td>\n",
       "      <td>0.0</td>\n",
       "      <td>0.0</td>\n",
       "      <td>0.0</td>\n",
       "      <td>0.0</td>\n",
       "      <td>1.0</td>\n",
       "      <td>0.0</td>\n",
       "    </tr>\n",
       "    <tr>\n",
       "      <th>123</th>\n",
       "      <td>0.755337</td>\n",
       "      <td>0.749232</td>\n",
       "      <td>0.662162</td>\n",
       "      <td>0.303237</td>\n",
       "      <td>0.570294</td>\n",
       "      <td>0.0</td>\n",
       "      <td>0.0</td>\n",
       "      <td>0.0</td>\n",
       "      <td>1.0</td>\n",
       "      <td>0.0</td>\n",
       "      <td>0.0</td>\n",
       "      <td>0.0</td>\n",
       "    </tr>\n",
       "    <tr>\n",
       "      <th>124</th>\n",
       "      <td>0.100712</td>\n",
       "      <td>0.094166</td>\n",
       "      <td>0.084459</td>\n",
       "      <td>0.031258</td>\n",
       "      <td>0.030853</td>\n",
       "      <td>0.0</td>\n",
       "      <td>0.0</td>\n",
       "      <td>0.0</td>\n",
       "      <td>0.0</td>\n",
       "      <td>0.0</td>\n",
       "      <td>1.0</td>\n",
       "      <td>0.0</td>\n",
       "    </tr>\n",
       "    <tr>\n",
       "      <th>125</th>\n",
       "      <td>0.479475</td>\n",
       "      <td>0.483112</td>\n",
       "      <td>0.479730</td>\n",
       "      <td>0.795623</td>\n",
       "      <td>0.671656</td>\n",
       "      <td>1.0</td>\n",
       "      <td>0.0</td>\n",
       "      <td>0.0</td>\n",
       "      <td>0.0</td>\n",
       "      <td>0.0</td>\n",
       "      <td>0.0</td>\n",
       "      <td>0.0</td>\n",
       "    </tr>\n",
       "    <tr>\n",
       "      <th>126</th>\n",
       "      <td>0.339354</td>\n",
       "      <td>0.339816</td>\n",
       "      <td>0.298986</td>\n",
       "      <td>0.273008</td>\n",
       "      <td>0.390614</td>\n",
       "      <td>0.0</td>\n",
       "      <td>0.0</td>\n",
       "      <td>1.0</td>\n",
       "      <td>0.0</td>\n",
       "      <td>0.0</td>\n",
       "      <td>0.0</td>\n",
       "      <td>0.0</td>\n",
       "    </tr>\n",
       "  </tbody>\n",
       "</table>\n",
       "<p>127 rows × 12 columns</p>\n",
       "</div>"
      ],
      "text/plain": [
       "      Length1   Length2   Length3    Height     Width  Species_Bream  \\\n",
       "0    0.251779  0.251791  0.243243  0.394861  0.332953            0.0   \n",
       "1    0.295567  0.288639  0.273649  0.279425  0.337488            0.0   \n",
       "2    0.444444  0.442170  0.385135  0.341313  0.551859            0.0   \n",
       "3    0.387521  0.386899  0.336149  0.382398  0.606052            0.0   \n",
       "4    0.391899  0.390993  0.339527  0.308557  0.487159            0.0   \n",
       "..        ...       ...       ...       ...       ...            ...   \n",
       "122  0.063492  0.053224  0.054054  0.026553  0.049258            0.0   \n",
       "123  0.755337  0.749232  0.662162  0.303237  0.570294            0.0   \n",
       "124  0.100712  0.094166  0.084459  0.031258  0.030853            0.0   \n",
       "125  0.479475  0.483112  0.479730  0.795623  0.671656            1.0   \n",
       "126  0.339354  0.339816  0.298986  0.273008  0.390614            0.0   \n",
       "\n",
       "     Species_Parkki  Species_Perch  Species_Pike  Species_Roach  \\\n",
       "0               1.0            0.0           0.0            0.0   \n",
       "1               0.0            0.0           0.0            1.0   \n",
       "2               0.0            1.0           0.0            0.0   \n",
       "3               0.0            1.0           0.0            0.0   \n",
       "4               0.0            1.0           0.0            0.0   \n",
       "..              ...            ...           ...            ...   \n",
       "122             0.0            0.0           0.0            0.0   \n",
       "123             0.0            0.0           1.0            0.0   \n",
       "124             0.0            0.0           0.0            0.0   \n",
       "125             0.0            0.0           0.0            0.0   \n",
       "126             0.0            1.0           0.0            0.0   \n",
       "\n",
       "     Species_Smelt  Species_Whitefish  \n",
       "0              0.0                0.0  \n",
       "1              0.0                0.0  \n",
       "2              0.0                0.0  \n",
       "3              0.0                0.0  \n",
       "4              0.0                0.0  \n",
       "..             ...                ...  \n",
       "122            1.0                0.0  \n",
       "123            0.0                0.0  \n",
       "124            1.0                0.0  \n",
       "125            0.0                0.0  \n",
       "126            0.0                0.0  \n",
       "\n",
       "[127 rows x 12 columns]"
      ]
     },
     "execution_count": 433,
     "metadata": {},
     "output_type": "execute_result"
    }
   ],
   "source": [
    "nor_scalar = MinMaxScaler()\n",
    "nor_scalar.fit(x_train) \n",
    "\n",
    "array_nor =nor_scalar.transform(x_train)\n",
    "nor_train_xdf = pd.DataFrame(array_nor, columns = x_train.columns)\n",
    "nor_train_xdf"
   ]
  },
  {
   "cell_type": "code",
   "execution_count": 434,
   "id": "a25e4b67",
   "metadata": {},
   "outputs": [
    {
     "data": {
      "text/html": [
       "<div>\n",
       "<style scoped>\n",
       "    .dataframe tbody tr th:only-of-type {\n",
       "        vertical-align: middle;\n",
       "    }\n",
       "\n",
       "    .dataframe tbody tr th {\n",
       "        vertical-align: top;\n",
       "    }\n",
       "\n",
       "    .dataframe thead th {\n",
       "        text-align: right;\n",
       "    }\n",
       "</style>\n",
       "<table border=\"1\" class=\"dataframe\">\n",
       "  <thead>\n",
       "    <tr style=\"text-align: right;\">\n",
       "      <th></th>\n",
       "      <th>Length1</th>\n",
       "      <th>Length2</th>\n",
       "      <th>Length3</th>\n",
       "      <th>Height</th>\n",
       "      <th>Width</th>\n",
       "      <th>Species_Bream</th>\n",
       "      <th>Species_Parkki</th>\n",
       "      <th>Species_Perch</th>\n",
       "      <th>Species_Pike</th>\n",
       "      <th>Species_Roach</th>\n",
       "      <th>Species_Smelt</th>\n",
       "      <th>Species_Whitefish</th>\n",
       "    </tr>\n",
       "  </thead>\n",
       "  <tbody>\n",
       "    <tr>\n",
       "      <th>0</th>\n",
       "      <td>0.000000</td>\n",
       "      <td>0.000000</td>\n",
       "      <td>0.000000</td>\n",
       "      <td>0.000000</td>\n",
       "      <td>0.000000</td>\n",
       "      <td>0.0</td>\n",
       "      <td>0.0</td>\n",
       "      <td>0.0</td>\n",
       "      <td>0.0</td>\n",
       "      <td>0.0</td>\n",
       "      <td>1.0</td>\n",
       "      <td>0.0</td>\n",
       "    </tr>\n",
       "    <tr>\n",
       "      <th>1</th>\n",
       "      <td>0.359837</td>\n",
       "      <td>0.372990</td>\n",
       "      <td>0.366412</td>\n",
       "      <td>0.443508</td>\n",
       "      <td>0.505205</td>\n",
       "      <td>0.0</td>\n",
       "      <td>0.0</td>\n",
       "      <td>0.0</td>\n",
       "      <td>0.0</td>\n",
       "      <td>0.0</td>\n",
       "      <td>0.0</td>\n",
       "      <td>1.0</td>\n",
       "    </tr>\n",
       "    <tr>\n",
       "      <th>2</th>\n",
       "      <td>0.290192</td>\n",
       "      <td>0.300107</td>\n",
       "      <td>0.278626</td>\n",
       "      <td>0.314877</td>\n",
       "      <td>0.431452</td>\n",
       "      <td>0.0</td>\n",
       "      <td>0.0</td>\n",
       "      <td>1.0</td>\n",
       "      <td>0.0</td>\n",
       "      <td>0.0</td>\n",
       "      <td>0.0</td>\n",
       "      <td>0.0</td>\n",
       "    </tr>\n",
       "    <tr>\n",
       "      <th>3</th>\n",
       "      <td>0.229832</td>\n",
       "      <td>0.244373</td>\n",
       "      <td>0.227099</td>\n",
       "      <td>0.275657</td>\n",
       "      <td>0.339825</td>\n",
       "      <td>0.0</td>\n",
       "      <td>0.0</td>\n",
       "      <td>1.0</td>\n",
       "      <td>0.0</td>\n",
       "      <td>0.0</td>\n",
       "      <td>0.0</td>\n",
       "      <td>0.0</td>\n",
       "    </tr>\n",
       "    <tr>\n",
       "      <th>4</th>\n",
       "      <td>0.694138</td>\n",
       "      <td>0.683816</td>\n",
       "      <td>0.646947</td>\n",
       "      <td>0.320640</td>\n",
       "      <td>0.473376</td>\n",
       "      <td>0.0</td>\n",
       "      <td>0.0</td>\n",
       "      <td>0.0</td>\n",
       "      <td>1.0</td>\n",
       "      <td>0.0</td>\n",
       "      <td>0.0</td>\n",
       "      <td>0.0</td>\n",
       "    </tr>\n",
       "    <tr>\n",
       "      <th>5</th>\n",
       "      <td>0.647707</td>\n",
       "      <td>0.651661</td>\n",
       "      <td>0.666031</td>\n",
       "      <td>1.000000</td>\n",
       "      <td>0.746697</td>\n",
       "      <td>1.0</td>\n",
       "      <td>0.0</td>\n",
       "      <td>0.0</td>\n",
       "      <td>0.0</td>\n",
       "      <td>0.0</td>\n",
       "      <td>0.0</td>\n",
       "      <td>0.0</td>\n",
       "    </tr>\n",
       "    <tr>\n",
       "      <th>6</th>\n",
       "      <td>0.229832</td>\n",
       "      <td>0.244373</td>\n",
       "      <td>0.227099</td>\n",
       "      <td>0.246088</td>\n",
       "      <td>0.339825</td>\n",
       "      <td>0.0</td>\n",
       "      <td>0.0</td>\n",
       "      <td>1.0</td>\n",
       "      <td>0.0</td>\n",
       "      <td>0.0</td>\n",
       "      <td>0.0</td>\n",
       "      <td>0.0</td>\n",
       "    </tr>\n",
       "    <tr>\n",
       "      <th>7</th>\n",
       "      <td>1.000000</td>\n",
       "      <td>1.000000</td>\n",
       "      <td>1.000000</td>\n",
       "      <td>0.495222</td>\n",
       "      <td>0.714310</td>\n",
       "      <td>0.0</td>\n",
       "      <td>0.0</td>\n",
       "      <td>0.0</td>\n",
       "      <td>1.0</td>\n",
       "      <td>0.0</td>\n",
       "      <td>0.0</td>\n",
       "      <td>0.0</td>\n",
       "    </tr>\n",
       "    <tr>\n",
       "      <th>8</th>\n",
       "      <td>0.313407</td>\n",
       "      <td>0.330118</td>\n",
       "      <td>0.326336</td>\n",
       "      <td>0.418494</td>\n",
       "      <td>0.443148</td>\n",
       "      <td>0.0</td>\n",
       "      <td>0.0</td>\n",
       "      <td>0.0</td>\n",
       "      <td>0.0</td>\n",
       "      <td>0.0</td>\n",
       "      <td>0.0</td>\n",
       "      <td>1.0</td>\n",
       "    </tr>\n",
       "    <tr>\n",
       "      <th>9</th>\n",
       "      <td>0.390017</td>\n",
       "      <td>0.387996</td>\n",
       "      <td>0.353053</td>\n",
       "      <td>0.368466</td>\n",
       "      <td>0.498599</td>\n",
       "      <td>0.0</td>\n",
       "      <td>0.0</td>\n",
       "      <td>1.0</td>\n",
       "      <td>0.0</td>\n",
       "      <td>0.0</td>\n",
       "      <td>0.0</td>\n",
       "      <td>0.0</td>\n",
       "    </tr>\n",
       "    <tr>\n",
       "      <th>10</th>\n",
       "      <td>0.276262</td>\n",
       "      <td>0.287245</td>\n",
       "      <td>0.265267</td>\n",
       "      <td>0.292329</td>\n",
       "      <td>0.382721</td>\n",
       "      <td>0.0</td>\n",
       "      <td>0.0</td>\n",
       "      <td>1.0</td>\n",
       "      <td>0.0</td>\n",
       "      <td>0.0</td>\n",
       "      <td>0.0</td>\n",
       "      <td>0.0</td>\n",
       "    </tr>\n",
       "    <tr>\n",
       "      <th>11</th>\n",
       "      <td>0.441091</td>\n",
       "      <td>0.448017</td>\n",
       "      <td>0.473282</td>\n",
       "      <td>0.756887</td>\n",
       "      <td>0.460364</td>\n",
       "      <td>1.0</td>\n",
       "      <td>0.0</td>\n",
       "      <td>0.0</td>\n",
       "      <td>0.0</td>\n",
       "      <td>0.0</td>\n",
       "      <td>0.0</td>\n",
       "      <td>0.0</td>\n",
       "    </tr>\n",
       "    <tr>\n",
       "      <th>12</th>\n",
       "      <td>0.065003</td>\n",
       "      <td>0.075027</td>\n",
       "      <td>0.087786</td>\n",
       "      <td>0.152173</td>\n",
       "      <td>0.160089</td>\n",
       "      <td>0.0</td>\n",
       "      <td>0.0</td>\n",
       "      <td>0.0</td>\n",
       "      <td>0.0</td>\n",
       "      <td>1.0</td>\n",
       "      <td>0.0</td>\n",
       "      <td>0.0</td>\n",
       "    </tr>\n",
       "    <tr>\n",
       "      <th>13</th>\n",
       "      <td>0.624492</td>\n",
       "      <td>0.630225</td>\n",
       "      <td>0.587786</td>\n",
       "      <td>0.670169</td>\n",
       "      <td>0.902825</td>\n",
       "      <td>0.0</td>\n",
       "      <td>0.0</td>\n",
       "      <td>1.0</td>\n",
       "      <td>0.0</td>\n",
       "      <td>0.0</td>\n",
       "      <td>0.0</td>\n",
       "      <td>0.0</td>\n",
       "    </tr>\n",
       "    <tr>\n",
       "      <th>14</th>\n",
       "      <td>0.255369</td>\n",
       "      <td>0.255091</td>\n",
       "      <td>0.255725</td>\n",
       "      <td>0.293902</td>\n",
       "      <td>0.379147</td>\n",
       "      <td>0.0</td>\n",
       "      <td>0.0</td>\n",
       "      <td>0.0</td>\n",
       "      <td>0.0</td>\n",
       "      <td>1.0</td>\n",
       "      <td>0.0</td>\n",
       "      <td>0.0</td>\n",
       "    </tr>\n",
       "    <tr>\n",
       "      <th>15</th>\n",
       "      <td>0.055717</td>\n",
       "      <td>0.066452</td>\n",
       "      <td>0.059160</td>\n",
       "      <td>0.113217</td>\n",
       "      <td>0.121654</td>\n",
       "      <td>0.0</td>\n",
       "      <td>0.0</td>\n",
       "      <td>1.0</td>\n",
       "      <td>0.0</td>\n",
       "      <td>0.0</td>\n",
       "      <td>0.0</td>\n",
       "      <td>0.0</td>\n",
       "    </tr>\n",
       "    <tr>\n",
       "      <th>16</th>\n",
       "      <td>0.276262</td>\n",
       "      <td>0.287245</td>\n",
       "      <td>0.265267</td>\n",
       "      <td>0.350083</td>\n",
       "      <td>0.368137</td>\n",
       "      <td>0.0</td>\n",
       "      <td>0.0</td>\n",
       "      <td>1.0</td>\n",
       "      <td>0.0</td>\n",
       "      <td>0.0</td>\n",
       "      <td>0.0</td>\n",
       "      <td>0.0</td>\n",
       "    </tr>\n",
       "    <tr>\n",
       "      <th>17</th>\n",
       "      <td>0.526988</td>\n",
       "      <td>0.544480</td>\n",
       "      <td>0.572519</td>\n",
       "      <td>0.953829</td>\n",
       "      <td>0.722089</td>\n",
       "      <td>1.0</td>\n",
       "      <td>0.0</td>\n",
       "      <td>0.0</td>\n",
       "      <td>0.0</td>\n",
       "      <td>0.0</td>\n",
       "      <td>0.0</td>\n",
       "      <td>0.0</td>\n",
       "    </tr>\n",
       "    <tr>\n",
       "      <th>18</th>\n",
       "      <td>0.494486</td>\n",
       "      <td>0.501608</td>\n",
       "      <td>0.526718</td>\n",
       "      <td>0.897459</td>\n",
       "      <td>0.603695</td>\n",
       "      <td>1.0</td>\n",
       "      <td>0.0</td>\n",
       "      <td>0.0</td>\n",
       "      <td>0.0</td>\n",
       "      <td>0.0</td>\n",
       "      <td>0.0</td>\n",
       "      <td>0.0</td>\n",
       "    </tr>\n",
       "    <tr>\n",
       "      <th>19</th>\n",
       "      <td>0.698781</td>\n",
       "      <td>0.705252</td>\n",
       "      <td>0.656489</td>\n",
       "      <td>0.684211</td>\n",
       "      <td>1.000000</td>\n",
       "      <td>0.0</td>\n",
       "      <td>0.0</td>\n",
       "      <td>1.0</td>\n",
       "      <td>0.0</td>\n",
       "      <td>0.0</td>\n",
       "      <td>0.0</td>\n",
       "      <td>0.0</td>\n",
       "    </tr>\n",
       "    <tr>\n",
       "      <th>20</th>\n",
       "      <td>0.626814</td>\n",
       "      <td>0.630225</td>\n",
       "      <td>0.589695</td>\n",
       "      <td>0.591792</td>\n",
       "      <td>0.783802</td>\n",
       "      <td>0.0</td>\n",
       "      <td>0.0</td>\n",
       "      <td>1.0</td>\n",
       "      <td>0.0</td>\n",
       "      <td>0.0</td>\n",
       "      <td>0.0</td>\n",
       "      <td>0.0</td>\n",
       "    </tr>\n",
       "    <tr>\n",
       "      <th>21</th>\n",
       "      <td>0.450377</td>\n",
       "      <td>0.458735</td>\n",
       "      <td>0.490458</td>\n",
       "      <td>0.766557</td>\n",
       "      <td>0.561142</td>\n",
       "      <td>1.0</td>\n",
       "      <td>0.0</td>\n",
       "      <td>0.0</td>\n",
       "      <td>0.0</td>\n",
       "      <td>0.0</td>\n",
       "      <td>0.0</td>\n",
       "      <td>0.0</td>\n",
       "    </tr>\n",
       "    <tr>\n",
       "      <th>22</th>\n",
       "      <td>0.037145</td>\n",
       "      <td>0.038585</td>\n",
       "      <td>0.036260</td>\n",
       "      <td>0.044139</td>\n",
       "      <td>0.017244</td>\n",
       "      <td>0.0</td>\n",
       "      <td>0.0</td>\n",
       "      <td>0.0</td>\n",
       "      <td>0.0</td>\n",
       "      <td>0.0</td>\n",
       "      <td>1.0</td>\n",
       "      <td>0.0</td>\n",
       "    </tr>\n",
       "    <tr>\n",
       "      <th>23</th>\n",
       "      <td>0.178758</td>\n",
       "      <td>0.192926</td>\n",
       "      <td>0.175573</td>\n",
       "      <td>0.214481</td>\n",
       "      <td>0.270018</td>\n",
       "      <td>0.0</td>\n",
       "      <td>0.0</td>\n",
       "      <td>1.0</td>\n",
       "      <td>0.0</td>\n",
       "      <td>0.0</td>\n",
       "      <td>0.0</td>\n",
       "      <td>0.0</td>\n",
       "    </tr>\n",
       "    <tr>\n",
       "      <th>24</th>\n",
       "      <td>0.624492</td>\n",
       "      <td>0.630225</td>\n",
       "      <td>0.589695</td>\n",
       "      <td>0.629225</td>\n",
       "      <td>0.868880</td>\n",
       "      <td>0.0</td>\n",
       "      <td>0.0</td>\n",
       "      <td>1.0</td>\n",
       "      <td>0.0</td>\n",
       "      <td>0.0</td>\n",
       "      <td>0.0</td>\n",
       "      <td>0.0</td>\n",
       "    </tr>\n",
       "    <tr>\n",
       "      <th>25</th>\n",
       "      <td>0.501451</td>\n",
       "      <td>0.501608</td>\n",
       "      <td>0.500000</td>\n",
       "      <td>0.250354</td>\n",
       "      <td>0.430336</td>\n",
       "      <td>0.0</td>\n",
       "      <td>0.0</td>\n",
       "      <td>0.0</td>\n",
       "      <td>1.0</td>\n",
       "      <td>0.0</td>\n",
       "      <td>0.0</td>\n",
       "      <td>0.0</td>\n",
       "    </tr>\n",
       "    <tr>\n",
       "      <th>26</th>\n",
       "      <td>0.313407</td>\n",
       "      <td>0.312969</td>\n",
       "      <td>0.311069</td>\n",
       "      <td>0.337098</td>\n",
       "      <td>0.394303</td>\n",
       "      <td>0.0</td>\n",
       "      <td>0.0</td>\n",
       "      <td>0.0</td>\n",
       "      <td>0.0</td>\n",
       "      <td>1.0</td>\n",
       "      <td>0.0</td>\n",
       "      <td>0.0</td>\n",
       "    </tr>\n",
       "    <tr>\n",
       "      <th>27</th>\n",
       "      <td>0.241439</td>\n",
       "      <td>0.255091</td>\n",
       "      <td>0.236641</td>\n",
       "      <td>0.318564</td>\n",
       "      <td>0.353981</td>\n",
       "      <td>0.0</td>\n",
       "      <td>0.0</td>\n",
       "      <td>1.0</td>\n",
       "      <td>0.0</td>\n",
       "      <td>0.0</td>\n",
       "      <td>0.0</td>\n",
       "      <td>0.0</td>\n",
       "    </tr>\n",
       "    <tr>\n",
       "      <th>28</th>\n",
       "      <td>0.225189</td>\n",
       "      <td>0.233655</td>\n",
       "      <td>0.238550</td>\n",
       "      <td>0.503803</td>\n",
       "      <td>0.287220</td>\n",
       "      <td>0.0</td>\n",
       "      <td>1.0</td>\n",
       "      <td>0.0</td>\n",
       "      <td>0.0</td>\n",
       "      <td>0.0</td>\n",
       "      <td>0.0</td>\n",
       "      <td>0.0</td>\n",
       "    </tr>\n",
       "    <tr>\n",
       "      <th>29</th>\n",
       "      <td>0.473593</td>\n",
       "      <td>0.475884</td>\n",
       "      <td>0.427481</td>\n",
       "      <td>0.522274</td>\n",
       "      <td>0.696294</td>\n",
       "      <td>0.0</td>\n",
       "      <td>0.0</td>\n",
       "      <td>1.0</td>\n",
       "      <td>0.0</td>\n",
       "      <td>0.0</td>\n",
       "      <td>0.0</td>\n",
       "      <td>0.0</td>\n",
       "    </tr>\n",
       "    <tr>\n",
       "      <th>30</th>\n",
       "      <td>0.130006</td>\n",
       "      <td>0.145766</td>\n",
       "      <td>0.131679</td>\n",
       "      <td>0.179904</td>\n",
       "      <td>0.256392</td>\n",
       "      <td>0.0</td>\n",
       "      <td>0.0</td>\n",
       "      <td>1.0</td>\n",
       "      <td>0.0</td>\n",
       "      <td>0.0</td>\n",
       "      <td>0.0</td>\n",
       "      <td>0.0</td>\n",
       "    </tr>\n",
       "    <tr>\n",
       "      <th>31</th>\n",
       "      <td>0.492165</td>\n",
       "      <td>0.501608</td>\n",
       "      <td>0.532443</td>\n",
       "      <td>0.843033</td>\n",
       "      <td>0.632164</td>\n",
       "      <td>1.0</td>\n",
       "      <td>0.0</td>\n",
       "      <td>0.0</td>\n",
       "      <td>0.0</td>\n",
       "      <td>0.0</td>\n",
       "      <td>0.0</td>\n",
       "      <td>0.0</td>\n",
       "    </tr>\n",
       "  </tbody>\n",
       "</table>\n",
       "</div>"
      ],
      "text/plain": [
       "     Length1   Length2   Length3    Height     Width  Species_Bream  \\\n",
       "0   0.000000  0.000000  0.000000  0.000000  0.000000            0.0   \n",
       "1   0.359837  0.372990  0.366412  0.443508  0.505205            0.0   \n",
       "2   0.290192  0.300107  0.278626  0.314877  0.431452            0.0   \n",
       "3   0.229832  0.244373  0.227099  0.275657  0.339825            0.0   \n",
       "4   0.694138  0.683816  0.646947  0.320640  0.473376            0.0   \n",
       "5   0.647707  0.651661  0.666031  1.000000  0.746697            1.0   \n",
       "6   0.229832  0.244373  0.227099  0.246088  0.339825            0.0   \n",
       "7   1.000000  1.000000  1.000000  0.495222  0.714310            0.0   \n",
       "8   0.313407  0.330118  0.326336  0.418494  0.443148            0.0   \n",
       "9   0.390017  0.387996  0.353053  0.368466  0.498599            0.0   \n",
       "10  0.276262  0.287245  0.265267  0.292329  0.382721            0.0   \n",
       "11  0.441091  0.448017  0.473282  0.756887  0.460364            1.0   \n",
       "12  0.065003  0.075027  0.087786  0.152173  0.160089            0.0   \n",
       "13  0.624492  0.630225  0.587786  0.670169  0.902825            0.0   \n",
       "14  0.255369  0.255091  0.255725  0.293902  0.379147            0.0   \n",
       "15  0.055717  0.066452  0.059160  0.113217  0.121654            0.0   \n",
       "16  0.276262  0.287245  0.265267  0.350083  0.368137            0.0   \n",
       "17  0.526988  0.544480  0.572519  0.953829  0.722089            1.0   \n",
       "18  0.494486  0.501608  0.526718  0.897459  0.603695            1.0   \n",
       "19  0.698781  0.705252  0.656489  0.684211  1.000000            0.0   \n",
       "20  0.626814  0.630225  0.589695  0.591792  0.783802            0.0   \n",
       "21  0.450377  0.458735  0.490458  0.766557  0.561142            1.0   \n",
       "22  0.037145  0.038585  0.036260  0.044139  0.017244            0.0   \n",
       "23  0.178758  0.192926  0.175573  0.214481  0.270018            0.0   \n",
       "24  0.624492  0.630225  0.589695  0.629225  0.868880            0.0   \n",
       "25  0.501451  0.501608  0.500000  0.250354  0.430336            0.0   \n",
       "26  0.313407  0.312969  0.311069  0.337098  0.394303            0.0   \n",
       "27  0.241439  0.255091  0.236641  0.318564  0.353981            0.0   \n",
       "28  0.225189  0.233655  0.238550  0.503803  0.287220            0.0   \n",
       "29  0.473593  0.475884  0.427481  0.522274  0.696294            0.0   \n",
       "30  0.130006  0.145766  0.131679  0.179904  0.256392            0.0   \n",
       "31  0.492165  0.501608  0.532443  0.843033  0.632164            1.0   \n",
       "\n",
       "    Species_Parkki  Species_Perch  Species_Pike  Species_Roach  Species_Smelt  \\\n",
       "0              0.0            0.0           0.0            0.0            1.0   \n",
       "1              0.0            0.0           0.0            0.0            0.0   \n",
       "2              0.0            1.0           0.0            0.0            0.0   \n",
       "3              0.0            1.0           0.0            0.0            0.0   \n",
       "4              0.0            0.0           1.0            0.0            0.0   \n",
       "5              0.0            0.0           0.0            0.0            0.0   \n",
       "6              0.0            1.0           0.0            0.0            0.0   \n",
       "7              0.0            0.0           1.0            0.0            0.0   \n",
       "8              0.0            0.0           0.0            0.0            0.0   \n",
       "9              0.0            1.0           0.0            0.0            0.0   \n",
       "10             0.0            1.0           0.0            0.0            0.0   \n",
       "11             0.0            0.0           0.0            0.0            0.0   \n",
       "12             0.0            0.0           0.0            1.0            0.0   \n",
       "13             0.0            1.0           0.0            0.0            0.0   \n",
       "14             0.0            0.0           0.0            1.0            0.0   \n",
       "15             0.0            1.0           0.0            0.0            0.0   \n",
       "16             0.0            1.0           0.0            0.0            0.0   \n",
       "17             0.0            0.0           0.0            0.0            0.0   \n",
       "18             0.0            0.0           0.0            0.0            0.0   \n",
       "19             0.0            1.0           0.0            0.0            0.0   \n",
       "20             0.0            1.0           0.0            0.0            0.0   \n",
       "21             0.0            0.0           0.0            0.0            0.0   \n",
       "22             0.0            0.0           0.0            0.0            1.0   \n",
       "23             0.0            1.0           0.0            0.0            0.0   \n",
       "24             0.0            1.0           0.0            0.0            0.0   \n",
       "25             0.0            0.0           1.0            0.0            0.0   \n",
       "26             0.0            0.0           0.0            1.0            0.0   \n",
       "27             0.0            1.0           0.0            0.0            0.0   \n",
       "28             1.0            0.0           0.0            0.0            0.0   \n",
       "29             0.0            1.0           0.0            0.0            0.0   \n",
       "30             0.0            1.0           0.0            0.0            0.0   \n",
       "31             0.0            0.0           0.0            0.0            0.0   \n",
       "\n",
       "    Species_Whitefish  \n",
       "0                 0.0  \n",
       "1                 1.0  \n",
       "2                 0.0  \n",
       "3                 0.0  \n",
       "4                 0.0  \n",
       "5                 0.0  \n",
       "6                 0.0  \n",
       "7                 0.0  \n",
       "8                 1.0  \n",
       "9                 0.0  \n",
       "10                0.0  \n",
       "11                0.0  \n",
       "12                0.0  \n",
       "13                0.0  \n",
       "14                0.0  \n",
       "15                0.0  \n",
       "16                0.0  \n",
       "17                0.0  \n",
       "18                0.0  \n",
       "19                0.0  \n",
       "20                0.0  \n",
       "21                0.0  \n",
       "22                0.0  \n",
       "23                0.0  \n",
       "24                0.0  \n",
       "25                0.0  \n",
       "26                0.0  \n",
       "27                0.0  \n",
       "28                0.0  \n",
       "29                0.0  \n",
       "30                0.0  \n",
       "31                0.0  "
      ]
     },
     "execution_count": 434,
     "metadata": {},
     "output_type": "execute_result"
    }
   ],
   "source": [
    "nor_scalar.fit(x_test) \n",
    "\n",
    "array_nor_test =nor_scalar.transform(x_test)\n",
    "nor_test_xdf = pd.DataFrame(array_nor_test, columns = x_test.columns)\n",
    "nor_test_xdf"
   ]
  },
  {
   "cell_type": "markdown",
   "id": "296153be",
   "metadata": {},
   "source": [
    "## KNN with  Hyperparameter tuning"
   ]
  },
  {
   "cell_type": "code",
   "execution_count": 435,
   "id": "75b487b9",
   "metadata": {},
   "outputs": [
    {
     "data": {
      "text/html": [
       "<style>#sk-container-id-33 {color: black;background-color: white;}#sk-container-id-33 pre{padding: 0;}#sk-container-id-33 div.sk-toggleable {background-color: white;}#sk-container-id-33 label.sk-toggleable__label {cursor: pointer;display: block;width: 100%;margin-bottom: 0;padding: 0.3em;box-sizing: border-box;text-align: center;}#sk-container-id-33 label.sk-toggleable__label-arrow:before {content: \"▸\";float: left;margin-right: 0.25em;color: #696969;}#sk-container-id-33 label.sk-toggleable__label-arrow:hover:before {color: black;}#sk-container-id-33 div.sk-estimator:hover label.sk-toggleable__label-arrow:before {color: black;}#sk-container-id-33 div.sk-toggleable__content {max-height: 0;max-width: 0;overflow: hidden;text-align: left;background-color: #f0f8ff;}#sk-container-id-33 div.sk-toggleable__content pre {margin: 0.2em;color: black;border-radius: 0.25em;background-color: #f0f8ff;}#sk-container-id-33 input.sk-toggleable__control:checked~div.sk-toggleable__content {max-height: 200px;max-width: 100%;overflow: auto;}#sk-container-id-33 input.sk-toggleable__control:checked~label.sk-toggleable__label-arrow:before {content: \"▾\";}#sk-container-id-33 div.sk-estimator input.sk-toggleable__control:checked~label.sk-toggleable__label {background-color: #d4ebff;}#sk-container-id-33 div.sk-label input.sk-toggleable__control:checked~label.sk-toggleable__label {background-color: #d4ebff;}#sk-container-id-33 input.sk-hidden--visually {border: 0;clip: rect(1px 1px 1px 1px);clip: rect(1px, 1px, 1px, 1px);height: 1px;margin: -1px;overflow: hidden;padding: 0;position: absolute;width: 1px;}#sk-container-id-33 div.sk-estimator {font-family: monospace;background-color: #f0f8ff;border: 1px dotted black;border-radius: 0.25em;box-sizing: border-box;margin-bottom: 0.5em;}#sk-container-id-33 div.sk-estimator:hover {background-color: #d4ebff;}#sk-container-id-33 div.sk-parallel-item::after {content: \"\";width: 100%;border-bottom: 1px solid gray;flex-grow: 1;}#sk-container-id-33 div.sk-label:hover label.sk-toggleable__label {background-color: #d4ebff;}#sk-container-id-33 div.sk-serial::before {content: \"\";position: absolute;border-left: 1px solid gray;box-sizing: border-box;top: 0;bottom: 0;left: 50%;z-index: 0;}#sk-container-id-33 div.sk-serial {display: flex;flex-direction: column;align-items: center;background-color: white;padding-right: 0.2em;padding-left: 0.2em;position: relative;}#sk-container-id-33 div.sk-item {position: relative;z-index: 1;}#sk-container-id-33 div.sk-parallel {display: flex;align-items: stretch;justify-content: center;background-color: white;position: relative;}#sk-container-id-33 div.sk-item::before, #sk-container-id-33 div.sk-parallel-item::before {content: \"\";position: absolute;border-left: 1px solid gray;box-sizing: border-box;top: 0;bottom: 0;left: 50%;z-index: -1;}#sk-container-id-33 div.sk-parallel-item {display: flex;flex-direction: column;z-index: 1;position: relative;background-color: white;}#sk-container-id-33 div.sk-parallel-item:first-child::after {align-self: flex-end;width: 50%;}#sk-container-id-33 div.sk-parallel-item:last-child::after {align-self: flex-start;width: 50%;}#sk-container-id-33 div.sk-parallel-item:only-child::after {width: 0;}#sk-container-id-33 div.sk-dashed-wrapped {border: 1px dashed gray;margin: 0 0.4em 0.5em 0.4em;box-sizing: border-box;padding-bottom: 0.4em;background-color: white;}#sk-container-id-33 div.sk-label label {font-family: monospace;font-weight: bold;display: inline-block;line-height: 1.2em;}#sk-container-id-33 div.sk-label-container {text-align: center;}#sk-container-id-33 div.sk-container {/* jupyter's `normalize.less` sets `[hidden] { display: none; }` but bootstrap.min.css set `[hidden] { display: none !important; }` so we also need the `!important` here to be able to override the default hidden behavior on the sphinx rendered scikit-learn.org. See: https://github.com/scikit-learn/scikit-learn/issues/21755 */display: inline-block !important;position: relative;}#sk-container-id-33 div.sk-text-repr-fallback {display: none;}</style><div id=\"sk-container-id-33\" class=\"sk-top-container\"><div class=\"sk-text-repr-fallback\"><pre>KNeighborsRegressor(n_neighbors=4)</pre><b>In a Jupyter environment, please rerun this cell to show the HTML representation or trust the notebook. <br />On GitHub, the HTML representation is unable to render, please try loading this page with nbviewer.org.</b></div><div class=\"sk-container\" hidden><div class=\"sk-item\"><div class=\"sk-estimator sk-toggleable\"><input class=\"sk-toggleable__control sk-hidden--visually\" id=\"sk-estimator-id-33\" type=\"checkbox\" checked><label for=\"sk-estimator-id-33\" class=\"sk-toggleable__label sk-toggleable__label-arrow\">KNeighborsRegressor</label><div class=\"sk-toggleable__content\"><pre>KNeighborsRegressor(n_neighbors=4)</pre></div></div></div></div></div>"
      ],
      "text/plain": [
       "KNeighborsRegressor(n_neighbors=4)"
      ]
     },
     "execution_count": 435,
     "metadata": {},
     "output_type": "execute_result"
    }
   ],
   "source": [
    "knn_reg_HP = KNeighborsRegressor()\n",
    "\n",
    "hyperparameter = {'n_neighbors': np.arange(3,21), 'p': [1,2]}\n",
    "\n",
    "rscv_knn_reg_nor = RandomizedSearchCV(knn_reg_HP,hyperparameter,cv =5)\n",
    "\n",
    "rscv_knn_reg_nor.fit(nor_train_xdf, y_train)\n",
    "rscv_knn_reg_nor.best_estimator_"
   ]
  },
  {
   "cell_type": "code",
   "execution_count": 436,
   "id": "748a49d2",
   "metadata": {},
   "outputs": [
    {
     "data": {
      "text/html": [
       "<style>#sk-container-id-34 {color: black;background-color: white;}#sk-container-id-34 pre{padding: 0;}#sk-container-id-34 div.sk-toggleable {background-color: white;}#sk-container-id-34 label.sk-toggleable__label {cursor: pointer;display: block;width: 100%;margin-bottom: 0;padding: 0.3em;box-sizing: border-box;text-align: center;}#sk-container-id-34 label.sk-toggleable__label-arrow:before {content: \"▸\";float: left;margin-right: 0.25em;color: #696969;}#sk-container-id-34 label.sk-toggleable__label-arrow:hover:before {color: black;}#sk-container-id-34 div.sk-estimator:hover label.sk-toggleable__label-arrow:before {color: black;}#sk-container-id-34 div.sk-toggleable__content {max-height: 0;max-width: 0;overflow: hidden;text-align: left;background-color: #f0f8ff;}#sk-container-id-34 div.sk-toggleable__content pre {margin: 0.2em;color: black;border-radius: 0.25em;background-color: #f0f8ff;}#sk-container-id-34 input.sk-toggleable__control:checked~div.sk-toggleable__content {max-height: 200px;max-width: 100%;overflow: auto;}#sk-container-id-34 input.sk-toggleable__control:checked~label.sk-toggleable__label-arrow:before {content: \"▾\";}#sk-container-id-34 div.sk-estimator input.sk-toggleable__control:checked~label.sk-toggleable__label {background-color: #d4ebff;}#sk-container-id-34 div.sk-label input.sk-toggleable__control:checked~label.sk-toggleable__label {background-color: #d4ebff;}#sk-container-id-34 input.sk-hidden--visually {border: 0;clip: rect(1px 1px 1px 1px);clip: rect(1px, 1px, 1px, 1px);height: 1px;margin: -1px;overflow: hidden;padding: 0;position: absolute;width: 1px;}#sk-container-id-34 div.sk-estimator {font-family: monospace;background-color: #f0f8ff;border: 1px dotted black;border-radius: 0.25em;box-sizing: border-box;margin-bottom: 0.5em;}#sk-container-id-34 div.sk-estimator:hover {background-color: #d4ebff;}#sk-container-id-34 div.sk-parallel-item::after {content: \"\";width: 100%;border-bottom: 1px solid gray;flex-grow: 1;}#sk-container-id-34 div.sk-label:hover label.sk-toggleable__label {background-color: #d4ebff;}#sk-container-id-34 div.sk-serial::before {content: \"\";position: absolute;border-left: 1px solid gray;box-sizing: border-box;top: 0;bottom: 0;left: 50%;z-index: 0;}#sk-container-id-34 div.sk-serial {display: flex;flex-direction: column;align-items: center;background-color: white;padding-right: 0.2em;padding-left: 0.2em;position: relative;}#sk-container-id-34 div.sk-item {position: relative;z-index: 1;}#sk-container-id-34 div.sk-parallel {display: flex;align-items: stretch;justify-content: center;background-color: white;position: relative;}#sk-container-id-34 div.sk-item::before, #sk-container-id-34 div.sk-parallel-item::before {content: \"\";position: absolute;border-left: 1px solid gray;box-sizing: border-box;top: 0;bottom: 0;left: 50%;z-index: -1;}#sk-container-id-34 div.sk-parallel-item {display: flex;flex-direction: column;z-index: 1;position: relative;background-color: white;}#sk-container-id-34 div.sk-parallel-item:first-child::after {align-self: flex-end;width: 50%;}#sk-container-id-34 div.sk-parallel-item:last-child::after {align-self: flex-start;width: 50%;}#sk-container-id-34 div.sk-parallel-item:only-child::after {width: 0;}#sk-container-id-34 div.sk-dashed-wrapped {border: 1px dashed gray;margin: 0 0.4em 0.5em 0.4em;box-sizing: border-box;padding-bottom: 0.4em;background-color: white;}#sk-container-id-34 div.sk-label label {font-family: monospace;font-weight: bold;display: inline-block;line-height: 1.2em;}#sk-container-id-34 div.sk-label-container {text-align: center;}#sk-container-id-34 div.sk-container {/* jupyter's `normalize.less` sets `[hidden] { display: none; }` but bootstrap.min.css set `[hidden] { display: none !important; }` so we also need the `!important` here to be able to override the default hidden behavior on the sphinx rendered scikit-learn.org. See: https://github.com/scikit-learn/scikit-learn/issues/21755 */display: inline-block !important;position: relative;}#sk-container-id-34 div.sk-text-repr-fallback {display: none;}</style><div id=\"sk-container-id-34\" class=\"sk-top-container\"><div class=\"sk-text-repr-fallback\"><pre>KNeighborsRegressor(n_neighbors=4)</pre><b>In a Jupyter environment, please rerun this cell to show the HTML representation or trust the notebook. <br />On GitHub, the HTML representation is unable to render, please try loading this page with nbviewer.org.</b></div><div class=\"sk-container\" hidden><div class=\"sk-item\"><div class=\"sk-estimator sk-toggleable\"><input class=\"sk-toggleable__control sk-hidden--visually\" id=\"sk-estimator-id-34\" type=\"checkbox\" checked><label for=\"sk-estimator-id-34\" class=\"sk-toggleable__label sk-toggleable__label-arrow\">KNeighborsRegressor</label><div class=\"sk-toggleable__content\"><pre>KNeighborsRegressor(n_neighbors=4)</pre></div></div></div></div></div>"
      ],
      "text/plain": [
       "KNeighborsRegressor(n_neighbors=4)"
      ]
     },
     "execution_count": 436,
     "metadata": {},
     "output_type": "execute_result"
    }
   ],
   "source": [
    "knn_reg_HP = rscv_knn_reg_nor.best_estimator_\n",
    "knn_reg_HP.fit(nor_train_xdf, y_train)"
   ]
  },
  {
   "cell_type": "code",
   "execution_count": 437,
   "id": "aa9ecf79",
   "metadata": {},
   "outputs": [
    {
     "name": "stdout",
     "output_type": "stream",
     "text": [
      "MSE: 4404.7316535433065\n",
      "RMSE: 66.36815240417128\n",
      "MAE: 35.662992125984246\n",
      "R_squared 0.9625372026087256\n"
     ]
    }
   ],
   "source": [
    "# Evaluation on training data KNN reg with HP\n",
    "\n",
    "y_pred_train = knn_reg_HP.predict(nor_train_xdf)\n",
    "\n",
    "mse = mean_squared_error(y_train , y_pred_train)\n",
    "print(\"MSE:\", mse)\n",
    "\n",
    "rmse = np.sqrt(mse)\n",
    "print(\"RMSE:\", rmse)\n",
    "\n",
    "mae = mean_absolute_error(y_train , y_pred_train)\n",
    "print(\"MAE:\", mae)\n",
    "\n",
    "r2 = r2_score(y_train , y_pred_train)\n",
    "print(\"R_squared\", r2)"
   ]
  },
  {
   "cell_type": "code",
   "execution_count": 438,
   "id": "ca7774f8",
   "metadata": {},
   "outputs": [
    {
     "name": "stdout",
     "output_type": "stream",
     "text": [
      "MSE: 9289.471975\n",
      "RMSE: 96.38190688609559\n",
      "MAE: 55.9525\n",
      "R_squared 0.9302117570489792\n"
     ]
    }
   ],
   "source": [
    "# Evaluation on test data with KNN reg with HP\n",
    "\n",
    "y_pred = knn_reg_nor.predict(nor_test_xdf)\n",
    "\n",
    "mse = mean_squared_error(y_test , y_pred)\n",
    "print(\"MSE:\", mse)\n",
    "\n",
    "rmse = np.sqrt(mse)\n",
    "print(\"RMSE:\", rmse)\n",
    "\n",
    "mae = mean_absolute_error(y_test , y_pred)\n",
    "print(\"MAE:\", mae)\n",
    "\n",
    "r2 = r2_score(y_test , y_pred)\n",
    "print(\"R_squared\", r2)"
   ]
  },
  {
   "cell_type": "code",
   "execution_count": null,
   "id": "c60a63c2",
   "metadata": {},
   "outputs": [],
   "source": []
  },
  {
   "cell_type": "code",
   "execution_count": 439,
   "id": "a1cf09ae",
   "metadata": {},
   "outputs": [],
   "source": [
    "models = [Linear_reg_woot,Linear_reg_wot,ridge_reg_HP,lasso_reg_HP,knn_reg ,dt_reg,dt_reg_HP,rf_reg,rf_reg_HP]\n",
    "list_models = ['Linear_reg_woot', 'Linear_reg_wot','ridge_reg_HP','lasso_reg_HP','knn_reg','dt_reg','dt_reg_HP',\n",
    "               'rf_reg','rf_reg_HP']\n",
    "accuracy_train = []\n",
    "accuracy_test = []\n",
    "# precision_train = []\n",
    "# precision_test= []\n",
    "\n",
    "for i in models:\n",
    "    accuracy = i.score(x_train,y_train)\n",
    "    accuracy_train.append(accuracy*100)\n",
    "#     print(accuracy)\n",
    "    accuracy = i.score(x_test,y_test)\n",
    "    accuracy_test.append(accuracy*100)\n",
    "#     print(accuracy)\n",
    "p1 = pd.Series(accuracy_train,index = list_models)\n",
    "p2 = pd.Series(accuracy_test,index = list_models)"
   ]
  },
  {
   "cell_type": "markdown",
   "id": "588dfb1f",
   "metadata": {},
   "source": [
    "##### train result"
   ]
  },
  {
   "cell_type": "code",
   "execution_count": 440,
   "id": "42439f90",
   "metadata": {},
   "outputs": [
    {
     "data": {
      "text/plain": [
       "<AxesSubplot:>"
      ]
     },
     "execution_count": 440,
     "metadata": {},
     "output_type": "execute_result"
    },
    {
     "data": {
      "image/png": "[encoded data removed]",
      "text/plain": [
       "<Figure size 1080x576 with 1 Axes>"
      ]
     },
     "metadata": {
      "needs_background": "light"
     },
     "output_type": "display_data"
    }
   ],
   "source": [
    "plt.figure(figsize = (15,8))\n",
    "p1.plot(kind = 'barh')"
   ]
  },
  {
   "cell_type": "code",
   "execution_count": 441,
   "id": "64346afe",
   "metadata": {},
   "outputs": [
    {
     "data": {
      "image/png": "[encoded data removed]",
      "text/plain": [
       "<Figure size 1080x576 with 1 Axes>"
      ]
     },
     "metadata": {
      "needs_background": "light"
     },
     "output_type": "display_data"
    }
   ],
   "source": [
    "plt.figure(figsize = (15,8))\n",
    "# plt.bar(list_models,accuracy_train)\n",
    "plt.barh(list_models, accuracy_train)\n",
    "for index, value in enumerate(accuracy_train):\n",
    "    plt.text(value, index, str((round(value, 2))))\n",
    "plt.show()"
   ]
  },
  {
   "cell_type": "markdown",
   "id": "c29328dd",
   "metadata": {},
   "source": [
    "##### test result"
   ]
  },
  {
   "cell_type": "code",
   "execution_count": 442,
   "id": "56be9f5c",
   "metadata": {},
   "outputs": [
    {
     "data": {
      "image/png": "[encoded data removed]",
      "text/plain": [
       "<Figure size 1440x576 with 1 Axes>"
      ]
     },
     "metadata": {
      "needs_background": "light"
     },
     "output_type": "display_data"
    }
   ],
   "source": [
    "plt.figure(figsize = (20,8))\n",
    "plt.barh(list_models, accuracy_test)\n",
    "for index, value in enumerate(accuracy_test):\n",
    "    plt.text(value, index, str((round(value, 2))))\n",
    "plt.show()"
   ]
  },
  {
   "cell_type": "markdown",
   "id": "e7da1418",
   "metadata": {},
   "source": [
    "# The best accuracy for this dataset is given by Random forest with hyperparameter tunning followed by Descision tree ( both with & without hyperparameter tunning)"
   ]
  },
  {
   "cell_type": "code",
   "execution_count": null,
   "id": "cec8bf77",
   "metadata": {},
   "outputs": [],
   "source": []
  },
  {
   "cell_type": "code",
   "execution_count": null,
   "id": "70f9489c",
   "metadata": {},
   "outputs": [],
   "source": []
  },
  {
   "cell_type": "markdown",
   "id": "organizational-heating",
   "metadata": {},
   "source": [
    "# Testing on Single Row"
   ]
  },
  {
   "cell_type": "code",
   "execution_count": 443,
   "id": "82b6b82d",
   "metadata": {},
   "outputs": [
    {
     "data": {
      "text/html": [
       "<div>\n",
       "<style scoped>\n",
       "    .dataframe tbody tr th:only-of-type {\n",
       "        vertical-align: middle;\n",
       "    }\n",
       "\n",
       "    .dataframe tbody tr th {\n",
       "        vertical-align: top;\n",
       "    }\n",
       "\n",
       "    .dataframe thead th {\n",
       "        text-align: right;\n",
       "    }\n",
       "</style>\n",
       "<table border=\"1\" class=\"dataframe\">\n",
       "  <thead>\n",
       "    <tr style=\"text-align: right;\">\n",
       "      <th></th>\n",
       "      <th>0</th>\n",
       "    </tr>\n",
       "  </thead>\n",
       "  <tbody>\n",
       "    <tr>\n",
       "      <th>Length1</th>\n",
       "      <td>23.20</td>\n",
       "    </tr>\n",
       "    <tr>\n",
       "      <th>Length2</th>\n",
       "      <td>25.40</td>\n",
       "    </tr>\n",
       "    <tr>\n",
       "      <th>Length3</th>\n",
       "      <td>30.00</td>\n",
       "    </tr>\n",
       "    <tr>\n",
       "      <th>Height</th>\n",
       "      <td>11.52</td>\n",
       "    </tr>\n",
       "    <tr>\n",
       "      <th>Width</th>\n",
       "      <td>4.02</td>\n",
       "    </tr>\n",
       "    <tr>\n",
       "      <th>Species_Bream</th>\n",
       "      <td>1.00</td>\n",
       "    </tr>\n",
       "    <tr>\n",
       "      <th>Species_Parkki</th>\n",
       "      <td>0.00</td>\n",
       "    </tr>\n",
       "    <tr>\n",
       "      <th>Species_Perch</th>\n",
       "      <td>0.00</td>\n",
       "    </tr>\n",
       "    <tr>\n",
       "      <th>Species_Pike</th>\n",
       "      <td>0.00</td>\n",
       "    </tr>\n",
       "    <tr>\n",
       "      <th>Species_Roach</th>\n",
       "      <td>0.00</td>\n",
       "    </tr>\n",
       "    <tr>\n",
       "      <th>Species_Smelt</th>\n",
       "      <td>0.00</td>\n",
       "    </tr>\n",
       "    <tr>\n",
       "      <th>Species_Whitefish</th>\n",
       "      <td>0.00</td>\n",
       "    </tr>\n",
       "  </tbody>\n",
       "</table>\n",
       "</div>"
      ],
      "text/plain": [
       "                       0\n",
       "Length1            23.20\n",
       "Length2            25.40\n",
       "Length3            30.00\n",
       "Height             11.52\n",
       "Width               4.02\n",
       "Species_Bream       1.00\n",
       "Species_Parkki      0.00\n",
       "Species_Perch       0.00\n",
       "Species_Pike        0.00\n",
       "Species_Roach       0.00\n",
       "Species_Smelt       0.00\n",
       "Species_Whitefish   0.00"
      ]
     },
     "execution_count": 443,
     "metadata": {},
     "output_type": "execute_result"
    }
   ],
   "source": [
    "x.head(1).T"
   ]
  },
  {
   "cell_type": "code",
   "execution_count": 444,
   "id": "70077788",
   "metadata": {},
   "outputs": [],
   "source": [
    "Length1 = 23.20\n",
    "Length2 = 25.40\n",
    "Length3 = 30.00\n",
    "Height = 11.52\n",
    "Width = 4.02\n",
    "Species = 'Parkki'\n",
    "\n",
    "\n",
    "# Weight = ?"
   ]
  },
  {
   "cell_type": "code",
   "execution_count": 445,
   "id": "3d942795",
   "metadata": {},
   "outputs": [],
   "source": [
    "project_data = {'columns' : list(x.columns)}"
   ]
  },
  {
   "cell_type": "code",
   "execution_count": 446,
   "id": "92a9551a",
   "metadata": {},
   "outputs": [
    {
     "data": {
      "text/plain": [
       "Index(['Length1', 'Length2', 'Length3', 'Height', 'Width', 'Species_Bream',\n",
       "       'Species_Parkki', 'Species_Perch', 'Species_Pike', 'Species_Roach',\n",
       "       'Species_Smelt', 'Species_Whitefish'],\n",
       "      dtype='object')"
      ]
     },
     "execution_count": 446,
     "metadata": {},
     "output_type": "execute_result"
    }
   ],
   "source": [
    "column_names = x.columns\n",
    "column_names"
   ]
  },
  {
   "cell_type": "code",
   "execution_count": 447,
   "id": "5236a152",
   "metadata": {},
   "outputs": [],
   "source": [
    "Species =  'Species_' + Species\n",
    "Species_index = np.where(column_names == Species)"
   ]
  },
  {
   "cell_type": "code",
   "execution_count": 448,
   "id": "4412d081",
   "metadata": {},
   "outputs": [
    {
     "data": {
      "text/plain": [
       "array([23.2 , 25.4 , 30.  , 11.52,  4.02,  0.  ,  1.  ,  0.  ,  0.  ,\n",
       "        0.  ,  0.  ,  0.  ])"
      ]
     },
     "execution_count": 448,
     "metadata": {},
     "output_type": "execute_result"
    }
   ],
   "source": [
    "test_array = np.zeros(x.shape[1])\n",
    "test_array[0] = Length1\n",
    "test_array[1] = Length2\n",
    "test_array[2] = Length3\n",
    "test_array[3] = Height\n",
    "test_array[4] = Width\n",
    "test_array[Species_index] = 1\n",
    "\n",
    "test_array"
   ]
  },
  {
   "cell_type": "code",
   "execution_count": 449,
   "id": "ccb8dcb9",
   "metadata": {},
   "outputs": [
    {
     "data": {
      "text/plain": [
       "array([488.39533759])"
      ]
     },
     "execution_count": 449,
     "metadata": {},
     "output_type": "execute_result"
    }
   ],
   "source": [
    "linear_reg_model.predict([test_array])"
   ]
  },
  {
   "cell_type": "code",
   "execution_count": 450,
   "id": "6f93d442",
   "metadata": {},
   "outputs": [],
   "source": [
    "with open ('Linear_Model.pkl','wb') as f:\n",
    "    pickle.dump(linear_reg_model,f)\n",
    "    \n",
    "with open ('project_data.json','w') as f:\n",
    "    json.dump(project_data,f)"
   ]
  }
 ],
 "metadata": {
  "kernelspec": {
   "display_name": "Python 3 (ipykernel)",
   "language": "python",
   "name": "python3"
  },
  "language_info": {
   "codemirror_mode": {
    "name": "ipython",
    "version": 3
   },
   "file_extension": ".py",
   "mimetype": "text/x-python",
   "name": "python",
   "nbconvert_exporter": "python",
   "pygments_lexer": "ipython3",
   "version": "3.10.4"
  }
 },
 "nbformat": 4,
 "nbformat_minor": 5
}
